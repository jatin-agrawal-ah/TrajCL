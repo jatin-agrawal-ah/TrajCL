{
 "cells": [
  {
   "cell_type": "code",
   "execution_count": 1,
   "id": "ca41b17f",
   "metadata": {},
   "outputs": [],
   "source": [
    "import sys\n",
    "sys.path.append(\"../model\")\n",
    "from dual_attention import PositionalEncoding\n"
   ]
  },
  {
   "cell_type": "code",
   "execution_count": 2,
   "id": "c35c415f",
   "metadata": {},
   "outputs": [],
   "source": [
    "pos_enc = PositionalEncoding(emb_size=128, dropout=0.1, maxlen=144)"
   ]
  },
  {
   "cell_type": "code",
   "execution_count": 6,
   "id": "42ba382c",
   "metadata": {},
   "outputs": [],
   "source": [
    "import torch\n",
    "token_embedding = torch.randn(4,256,128)"
   ]
  },
  {
   "cell_type": "code",
   "execution_count": 7,
   "id": "54aee1e2",
   "metadata": {},
   "outputs": [
    {
     "data": {
      "text/plain": [
       "torch.Size([4, 256, 128])"
      ]
     },
     "execution_count": 7,
     "metadata": {},
     "output_type": "execute_result"
    }
   ],
   "source": [
    "token_embedding.shape"
   ]
  },
  {
   "cell_type": "code",
   "execution_count": 8,
   "id": "422b86fb",
   "metadata": {},
   "outputs": [
    {
     "data": {
      "text/plain": [
       "torch.Size([4, 256, 128])"
      ]
     },
     "execution_count": 8,
     "metadata": {},
     "output_type": "execute_result"
    }
   ],
   "source": [
    "pos_enc(token_embedding).shape"
   ]
  },
  {
   "cell_type": "code",
   "execution_count": 10,
   "id": "ff9a612c",
   "metadata": {},
   "outputs": [
    {
     "data": {
      "text/plain": [
       "torch.Size([144, 1, 128])"
      ]
     },
     "execution_count": 10,
     "metadata": {},
     "output_type": "execute_result"
    }
   ],
   "source": [
    "pos_enc.pos_embedding.shape"
   ]
  },
  {
   "cell_type": "code",
   "execution_count": 18,
   "id": "80f530ec",
   "metadata": {},
   "outputs": [
    {
     "data": {
      "text/plain": [
       "torch.Size([144, 128])"
      ]
     },
     "execution_count": 18,
     "metadata": {},
     "output_type": "execute_result"
    }
   ],
   "source": [
    "new_emb = pos_enc.pos_embedding.squeeze(1)\n",
    "new_emb.shape"
   ]
  },
  {
   "cell_type": "code",
   "execution_count": null,
   "id": "38da7bf1",
   "metadata": {},
   "outputs": [
    {
     "data": {
      "text/plain": [
       "tensor([[ 0,  1,  2,  6, -1],\n",
       "        [ 0,  1,  2,  3,  5]])"
      ]
     },
     "execution_count": 33,
     "metadata": {},
     "output_type": "execute_result"
    }
   ],
   "source": []
  },
  {
   "cell_type": "code",
   "execution_count": 34,
   "id": "fc1609af",
   "metadata": {},
   "outputs": [
    {
     "data": {
      "text/plain": [
       "torch.Size([2, 5, 128])"
      ]
     },
     "execution_count": 34,
     "metadata": {},
     "output_type": "execute_result"
    }
   ],
   "source": [
    "new_emb[torch.LongTensor([[0,1,2,6,-1], [0,1,2,3,5]])].shape"
   ]
  },
  {
   "cell_type": "code",
   "execution_count": 23,
   "id": "39adc000",
   "metadata": {},
   "outputs": [
    {
     "data": {
      "text/plain": [
       "torch.Size([5, 2])"
      ]
     },
     "execution_count": 23,
     "metadata": {},
     "output_type": "execute_result"
    }
   ],
   "source": [
    "idx = torch.randint(0, 144, (2, 5))  # (batch_size, x)\n",
    "idx = idx.t()\n",
    "idx.shape"
   ]
  },
  {
   "cell_type": "code",
   "execution_count": 24,
   "id": "383357d3",
   "metadata": {},
   "outputs": [
    {
     "data": {
      "text/plain": [
       "tensor([[ 84,  27],\n",
       "        [ 91, 133],\n",
       "        [ 71,  87],\n",
       "        [131, 133],\n",
       "        [ 57,  32]])"
      ]
     },
     "execution_count": 24,
     "metadata": {},
     "output_type": "execute_result"
    }
   ],
   "source": [
    "idx"
   ]
  },
  {
   "cell_type": "code",
   "execution_count": 25,
   "id": "b38718f9",
   "metadata": {},
   "outputs": [
    {
     "data": {
      "text/plain": [
       "torch.Size([5, 2, 128])"
      ]
     },
     "execution_count": 25,
     "metadata": {},
     "output_type": "execute_result"
    }
   ],
   "source": [
    "new_emb[idx].shape"
   ]
  },
  {
   "cell_type": "code",
   "execution_count": 14,
   "id": "a6f2c16a",
   "metadata": {},
   "outputs": [
    {
     "data": {
      "text/plain": [
       "tensor([[[ 0.0000e+00,  1.0000e+00,  0.0000e+00,  ...,  1.0000e+00,\n",
       "           0.0000e+00,  1.0000e+00]],\n",
       "\n",
       "        [[ 8.4147e-01,  5.4030e-01,  7.6172e-01,  ...,  1.0000e+00,\n",
       "           1.1548e-04,  1.0000e+00]],\n",
       "\n",
       "        [[ 9.0930e-01, -4.1615e-01,  9.8705e-01,  ...,  1.0000e+00,\n",
       "           2.3096e-04,  1.0000e+00]],\n",
       "\n",
       "        ...,\n",
       "\n",
       "        [[ 3.6317e-01, -9.3172e-01,  4.0881e-01,  ...,  9.9982e-01,\n",
       "           1.6282e-02,  9.9987e-01]],\n",
       "\n",
       "        [[-5.8780e-01, -8.0901e-01, -4.3029e-01,  ...,  9.9982e-01,\n",
       "           1.6397e-02,  9.9987e-01]],\n",
       "\n",
       "        [[-9.9835e-01,  5.7503e-02, -9.6639e-01,  ...,  9.9982e-01,\n",
       "           1.6513e-02,  9.9986e-01]]])"
      ]
     },
     "execution_count": 14,
     "metadata": {},
     "output_type": "execute_result"
    }
   ],
   "source": [
    "pos_enc.pos_embedding"
   ]
  },
  {
   "cell_type": "code",
   "execution_count": 17,
   "id": "1b013e50",
   "metadata": {},
   "outputs": [
    {
     "ename": "IndexError",
     "evalue": "index 1 is out of bounds for dimension 1 with size 1",
     "output_type": "error",
     "traceback": [
      "\u001b[31m---------------------------------------------------------------------------\u001b[39m",
      "\u001b[31mIndexError\u001b[39m                                Traceback (most recent call last)",
      "\u001b[36mCell\u001b[39m\u001b[36m \u001b[39m\u001b[32mIn[17]\u001b[39m\u001b[32m, line 1\u001b[39m\n\u001b[32m----> \u001b[39m\u001b[32m1\u001b[39m \u001b[43mpos_enc\u001b[49m\u001b[43m.\u001b[49m\u001b[43mpos_embedding\u001b[49m\u001b[43m[\u001b[49m\u001b[43m[\u001b[49m\u001b[43m[\u001b[49m\u001b[32;43m0\u001b[39;49m\u001b[43m,\u001b[49m\u001b[32;43m1\u001b[39;49m\u001b[43m,\u001b[49m\u001b[32;43m2\u001b[39;49m\u001b[43m,\u001b[49m\u001b[32;43m6\u001b[39;49m\u001b[43m,\u001b[49m\u001b[43m-\u001b[49m\u001b[32;43m1\u001b[39;49m\u001b[43m]\u001b[49m\u001b[43m,\u001b[49m\u001b[43m \u001b[49m\u001b[43m[\u001b[49m\u001b[32;43m0\u001b[39;49m\u001b[43m,\u001b[49m\u001b[32;43m1\u001b[39;49m\u001b[43m,\u001b[49m\u001b[32;43m2\u001b[39;49m\u001b[43m,\u001b[49m\u001b[32;43m3\u001b[39;49m\u001b[43m,\u001b[49m\u001b[32;43m5\u001b[39;49m\u001b[43m]\u001b[49m\u001b[43m]\u001b[49m\u001b[43m]\u001b[49m.shape\n",
      "\u001b[31mIndexError\u001b[39m: index 1 is out of bounds for dimension 1 with size 1"
     ]
    }
   ],
   "source": [
    "pos_enc.pos_embedding[[[0,1,2,6,-1], [0,1,2,3,5]]].shape"
   ]
  },
  {
   "cell_type": "code",
   "execution_count": 9,
   "id": "55fc34c3",
   "metadata": {},
   "outputs": [
    {
     "data": {
      "text/plain": [
       "torch.Size([4, 1, 128])"
      ]
     },
     "execution_count": 9,
     "metadata": {},
     "output_type": "execute_result"
    }
   ],
   "source": [
    "pos_enc.pos_embedding[:token_embedding.size(0)].shape"
   ]
  },
  {
   "cell_type": "code",
   "execution_count": null,
   "id": "f055db2c",
   "metadata": {},
   "outputs": [],
   "source": []
  }
 ],
 "metadata": {
  "kernelspec": {
   "display_name": "trajcl",
   "language": "python",
   "name": "python3"
  },
  "language_info": {
   "codemirror_mode": {
    "name": "ipython",
    "version": 3
   },
   "file_extension": ".py",
   "mimetype": "text/x-python",
   "name": "python",
   "nbconvert_exporter": "python",
   "pygments_lexer": "ipython3",
   "version": "3.12.11"
  }
 },
 "nbformat": 4,
 "nbformat_minor": 5
}
