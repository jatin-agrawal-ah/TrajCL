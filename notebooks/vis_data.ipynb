{
 "cells": [
  {
   "cell_type": "code",
   "execution_count": 0,
   "metadata": {
    "application/vnd.databricks.v1+cell": {
     "cellMetadata": {
      "byteLimit": 2048000,
      "rowLimit": 10000
     },
     "inputWidgets": {},
     "nuid": "c068d73f-0bd0-4248-8ae1-ca1c2cfb4944",
     "showTitle": false,
     "tableResultSettingsMap": {},
     "title": ""
    }
   },
   "outputs": [],
   "source": [
    "df = spark.read.table(\"main_prod.datascience_scratchpad.nyc_train_filtered\")\n",
    "display(df)"
   ]
  },
  {
   "cell_type": "code",
   "execution_count": 0,
   "metadata": {
    "application/vnd.databricks.v1+cell": {
     "cellMetadata": {
      "byteLimit": 2048000,
      "rowLimit": 10000
     },
     "inputWidgets": {},
     "nuid": "dd3b8771-b80c-4fca-8c8c-2fbfcff961a6",
     "showTitle": false,
     "tableResultSettingsMap": {
      "0": {
       "dataGridStateBlob": "{\"version\":1,\"tableState\":{\"columnPinning\":{\"left\":[\"#row_number#\"],\"right\":[]},\"columnSizing\":{},\"columnVisibility\":{}},\"settings\":{\"columns\":{}},\"syncTimestamp\":1754209212886}",
       "filterBlob": null,
       "queryPlanFiltersBlob": null,
       "tableResultIndex": 0
      }
     },
     "title": ""
    }
   },
   "outputs": [],
   "source": [
    "query = \"\"\"\n",
    "select * from main_prod.datascience_scratchpad.nyc_train_filtered where traj_id rlike '16808692_*'\n",
    "\"\"\"\n",
    "\n",
    "df = spark.sql(query)\n",
    "display(df)"
   ]
  },
  {
   "cell_type": "code",
   "execution_count": 0,
   "metadata": {
    "application/vnd.databricks.v1+cell": {
     "cellMetadata": {
      "byteLimit": 2048000,
      "rowLimit": 10000
     },
     "inputWidgets": {},
     "nuid": "6a72e696-5537-4ba7-98ab-9aecd515a240",
     "showTitle": false,
     "tableResultSettingsMap": {},
     "title": ""
    }
   },
   "outputs": [],
   "source": [
    "from pyspark.sql.functions import col\n",
    "lon_lat_list = df.filter(col('traj_id')=='16808692_2024-01-04').select('wgs_seq_filtered').collect()[0][0]\n",
    "print(lon_lat_list)"
   ]
  },
  {
   "cell_type": "code",
   "execution_count": 0,
   "metadata": {
    "application/vnd.databricks.v1+cell": {
     "cellMetadata": {
      "byteLimit": 2048000,
      "rowLimit": 10000
     },
     "inputWidgets": {},
     "nuid": "19ccd686-4464-4f7c-bda1-a8ae85d4944b",
     "showTitle": false,
     "tableResultSettingsMap": {},
     "title": ""
    }
   },
   "outputs": [],
   "source": [
    "# userid = '4474029'\n",
    "# start_time = '2025-07-02'\n",
    "# origin_types = [0,1,2,3]\n",
    "# pip_list = []\n",
    "# for origin_type in origin_types:\n",
    "#     query = f\"\"\"select * from main_prod.datascience.userpiphistory where userid = {userid} and createdon <= '{start_time}' and placetype = 'Job' and origintype = {origin_type} order by createdon desc limit 1\"\"\"\n",
    "#     df_userpip = spark.sql(query).select('lat','lng')\n",
    "#     if df_userpip.count()>0:\n",
    "#         lat = df_userpip.collect()[0]['lat']\n",
    "#         long = df_userpip.collect()[0]['lng']\n",
    "#         pip_list.append((lat,long))"
   ]
  },
  {
   "cell_type": "code",
   "execution_count": 0,
   "metadata": {
    "application/vnd.databricks.v1+cell": {
     "cellMetadata": {
      "byteLimit": 2048000,
      "rowLimit": 10000
     },
     "inputWidgets": {},
     "nuid": "45e32433-9184-42f6-b095-613769cb1542",
     "showTitle": false,
     "tableResultSettingsMap": {},
     "title": ""
    }
   },
   "outputs": [],
   "source": [
    "# !pip install folium\n",
    "import folium\n",
    "\n",
    "from folium import plugins\n",
    "coordinates = [[x[1],x[0]] for x in lon_lat_list]\n",
    "# Initialize map\n",
    "m = folium.Map(location=coordinates[0], zoom_start=6)\n",
    "\n",
    "\n",
    "# for lat,lon in pip_list:\n",
    "#     folium.Marker(\n",
    "#         location=[lat, lon],\n",
    "#         popup=\"Pip Location\",\n",
    "#         icon=folium.Icon(color='red')  # Color can be 'red', 'blue', 'green', 'purple', etc.\n",
    "#     ).add_to(m)\n",
    "\n",
    "folium.Marker(\n",
    "    location=coordinates[0],\n",
    "    popup=\"Start Location\",\n",
    "    icon=folium.Icon(color='green')  # Color can be 'red', 'blue', 'green', 'purple', etc.\n",
    ").add_to(m)\n",
    "# Add markers\n",
    "for i, (lat, lon) in enumerate(coordinates[1:]):\n",
    "    folium.Marker([lat, lon], popup=i+1).add_to(m)\n",
    "\n",
    "# Draw arrows between points\n",
    "for i in range(len(coordinates) - 1):\n",
    "    start = coordinates[i]\n",
    "    end = coordinates[i + 1]\n",
    "\n",
    "    # Draw the line\n",
    "    line = folium.PolyLine([start, end], color=\"blue\", weight=3, opacity=0.7).add_to(m)\n",
    "\n",
    "    # Add directional arrow\n",
    "    plugins.PolyLineTextPath(\n",
    "        line,\n",
    "        '➤',  # arrow symbol\n",
    "        repeat=True,\n",
    "        offset=7,\n",
    "        attributes={'fill': 'blue', 'font-weight': 'bold', 'font-size': '16'}\n",
    "    ).add_to(m)\n",
    "\n",
    "# Save and show the map\n",
    "m.save(\"map_with_arrows.html\")\n",
    "m\n"
   ]
  },
  {
   "cell_type": "code",
   "execution_count": 0,
   "metadata": {
    "application/vnd.databricks.v1+cell": {
     "cellMetadata": {
      "byteLimit": 2048000,
      "rowLimit": 10000
     },
     "inputWidgets": {},
     "nuid": "75c63c32-b7e8-43b9-9839-9c3ff00c94ca",
     "showTitle": false,
     "tableResultSettingsMap": {},
     "title": ""
    }
   },
   "outputs": [],
   "source": [
    "import pickle\n",
    "\n",
    "cs= pickle.load(open(\"/Volumes/main_prod/datascience_scratchpad/jatin/trajcl_exp/nyc/nyc_cell500_cellspace.pkl\", \"rb\"))"
   ]
  },
  {
   "cell_type": "code",
   "execution_count": 0,
   "metadata": {
    "application/vnd.databricks.v1+cell": {
     "cellMetadata": {
      "byteLimit": 2048000,
      "rowLimit": 10000
     },
     "inputWidgets": {},
     "nuid": "7288baae-ff32-4fcb-bfbb-8a8cc57d9990",
     "showTitle": false,
     "tableResultSettingsMap": {},
     "title": ""
    }
   },
   "outputs": [],
   "source": [
    "import math\n",
    "def lonlat2meters(lon, lat):\n",
    "    semimajoraxis = 6378137.0\n",
    "    east = lon * 0.017453292519943295\n",
    "    north = lat * 0.017453292519943295\n",
    "    t = math.sin(north)\n",
    "    return semimajoraxis * east, 3189068.5 * math.log((1 + t) / (1 - t))"
   ]
  },
  {
   "cell_type": "code",
   "execution_count": 0,
   "metadata": {
    "application/vnd.databricks.v1+cell": {
     "cellMetadata": {
      "byteLimit": 2048000,
      "rowLimit": 10000
     },
     "inputWidgets": {},
     "nuid": "410d31d3-2d48-4043-8b2e-9f9db4793be1",
     "showTitle": false,
     "tableResultSettingsMap": {},
     "title": ""
    }
   },
   "outputs": [],
   "source": [
    "\n",
    "point_ids = [(i,cs.get_cellid_by_point(*lonlat2meters(x[0],x[1])), x) for i,x in enumerate(lon_lat_list)]\n",
    "point_ids"
   ]
  },
  {
   "cell_type": "markdown",
   "metadata": {
    "application/vnd.databricks.v1+cell": {
     "cellMetadata": {},
     "inputWidgets": {},
     "nuid": "744bcc0d-55d5-4edb-8364-895b23201e54",
     "showTitle": false,
     "tableResultSettingsMap": {},
     "title": ""
    }
   },
   "source": [
    "## Porto Data Vis"
   ]
  },
  {
   "cell_type": "code",
   "execution_count": 0,
   "metadata": {
    "application/vnd.databricks.v1+cell": {
     "cellMetadata": {
      "byteLimit": 2048000,
      "rowLimit": 10000
     },
     "inputWidgets": {},
     "nuid": "959e7442-f77a-4a39-b375-fbd631c26508",
     "showTitle": false,
     "tableResultSettingsMap": {},
     "title": ""
    }
   },
   "outputs": [],
   "source": [
    "lon_lat_list =[(40.43911064901829, 40.376522035126264),\n",
    " (40.44780198235162, 40.288086045348),\n",
    " (40.3824409823516, 40.230664454492626),\n",
    " (40.342563856443874, 40.248130302468695),\n",
    " (40.35758431568494, 40.27359789534808),\n",
    " (40.35630348235161, 40.315881900486346),\n",
    " (40.380179284257196, 40.32517491711977),\n",
    " (40.40357431568497, 40.34084069884953),\n",
    " (40.41461936583309, 40.35091932028082),\n",
    " (40.41489555879487, 40.36919507634151),\n",
    " (40.42838614901827, 40.37722384546589),\n",
    " (40.43970726441913, 40.38281022063537),\n",
    " (40.436605212794866, 40.379722282277925),\n",
    " (40.43667937203741, 40.375511426506286),\n",
    " (40.43239155993069, 40.38146275897038),\n",
    " (40.40361991254236, 40.38429803867161),\n",
    " (40.40902188055657, 40.383905030564044)]"
   ]
  },
  {
   "cell_type": "code",
   "execution_count": 0,
   "metadata": {
    "application/vnd.databricks.v1+cell": {
     "cellMetadata": {
      "byteLimit": 2048000,
      "rowLimit": 10000
     },
     "inputWidgets": {},
     "nuid": "11b3da17-6970-4b2d-ac9a-a0c02e1c3556",
     "showTitle": false,
     "tableResultSettingsMap": {},
     "title": ""
    }
   },
   "outputs": [],
   "source": [
    "!pip install folium\n",
    "import folium\n",
    "\n",
    "from folium import plugins\n",
    "coordinates = [[x[1],x[0]] for x in lon_lat_list]\n",
    "# Initialize map\n",
    "m = folium.Map(location=coordinates[0], zoom_start=6)\n",
    "\n",
    "\n",
    "# for lat,lon in pip_list:\n",
    "#     folium.Marker(\n",
    "#         location=[lat, lon],\n",
    "#         popup=\"Pip Location\",\n",
    "#         icon=folium.Icon(color='red')  # Color can be 'red', 'blue', 'green', 'purple', etc.\n",
    "#     ).add_to(m)\n",
    "\n",
    "folium.Marker(\n",
    "    location=coordinates[0],\n",
    "    popup=\"Start Location\",\n",
    "    icon=folium.Icon(color='green')  # Color can be 'red', 'blue', 'green', 'purple', etc.\n",
    ").add_to(m)\n",
    "# Add markers\n",
    "for lat, lon in coordinates[1:]:\n",
    "    folium.Marker([lat, lon]).add_to(m)\n",
    "\n",
    "# Draw arrows between points\n",
    "for i in range(len(coordinates) - 1):\n",
    "    start = coordinates[i]\n",
    "    end = coordinates[i + 1]\n",
    "\n",
    "    # Draw the line\n",
    "    line = folium.PolyLine([start, end], color=\"blue\", weight=3, opacity=0.7).add_to(m)\n",
    "\n",
    "    # Add directional arrow\n",
    "    plugins.PolyLineTextPath(\n",
    "        line,\n",
    "        '➤',  # arrow symbol\n",
    "        repeat=True,\n",
    "        offset=7,\n",
    "        attributes={'fill': 'blue', 'font-weight': 'bold', 'font-size': '16'}\n",
    "    ).add_to(m)\n",
    "\n",
    "# Save and show the map\n",
    "m.save(\"map_with_arrows.html\")\n",
    "m\n"
   ]
  },
  {
   "cell_type": "code",
   "execution_count": 0,
   "metadata": {
    "application/vnd.databricks.v1+cell": {
     "cellMetadata": {},
     "inputWidgets": {},
     "nuid": "800ae53c-c8ce-48c2-9c12-129370ea10e0",
     "showTitle": false,
     "tableResultSettingsMap": {},
     "title": ""
    }
   },
   "outputs": [],
   "source": []
  }
 ],
 "metadata": {
  "application/vnd.databricks.v1+notebook": {
   "computePreferences": {
    "hardware": {
     "accelerator": null,
     "gpuPoolId": null,
     "memory": null
    }
   },
   "dashboards": [],
   "environmentMetadata": {
    "base_environment": "",
    "environment_version": "2"
   },
   "inputWidgetPreferences": null,
   "language": "python",
   "notebookMetadata": {
    "pythonIndentUnit": 4
   },
   "notebookName": "vis_data",
   "widgets": {}
  },
  "language_info": {
   "name": "python"
  }
 },
 "nbformat": 4,
 "nbformat_minor": 0
}
