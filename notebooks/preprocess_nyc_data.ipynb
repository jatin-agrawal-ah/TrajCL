{
 "cells": [
  {
   "cell_type": "code",
   "execution_count": 1,
   "metadata": {},
   "outputs": [
    {
     "data": {
      "text/plain": [
       "'/home/sagemaker-user/TrajCL/notebooks'"
      ]
     },
     "execution_count": 1,
     "metadata": {},
     "output_type": "execute_result"
    }
   ],
   "source": [
    "%pwd"
   ]
  },
  {
   "cell_type": "code",
   "execution_count": 2,
   "metadata": {},
   "outputs": [
    {
     "name": "stdout",
     "output_type": "stream",
     "text": [
      "/home/sagemaker-user/TrajCL\n"
     ]
    }
   ],
   "source": [
    "%cd .."
   ]
  },
  {
   "cell_type": "code",
   "execution_count": 4,
   "metadata": {},
   "outputs": [],
   "source": [
    "from config import Config\n",
    "from utils import tool_funcs\n",
    "from utils.cellspace import CellSpace\n",
    "from utils.tool_funcs import lonlat2meters\n",
    "from model.node2vec_ import train_node2vec\n",
    "import pickle\n",
    "import torch\n",
    "\n",
    "def init_cellspace():\n",
    "    # 1. create cellspase\n",
    "    # 2. initialize cell embeddings (create graph, train, and dump to file)\n",
    "\n",
    "    x_min, y_min = lonlat2meters(Config.min_lon, Config.min_lat)\n",
    "    x_max, y_max = lonlat2meters(Config.max_lon, Config.max_lat)\n",
    "    x_min -= Config.cellspace_buffer\n",
    "    y_min -= Config.cellspace_buffer\n",
    "    x_max += Config.cellspace_buffer\n",
    "    y_max += Config.cellspace_buffer\n",
    "\n",
    "    cell_size = int(Config.cell_size)\n",
    "    cs = CellSpace(cell_size, cell_size, x_min, y_min, x_max, y_max)\n",
    "    with open(Config.dataset_cell_file, 'wb') as fh:\n",
    "        pickle.dump(cs, fh, protocol = pickle.HIGHEST_PROTOCOL)\n",
    "\n",
    "    _, edge_index = cs.all_neighbour_cell_pairs_permutated_optmized()\n",
    "    edge_index = torch.tensor(edge_index, dtype = torch.long, device = Config.device).T\n",
    "    train_node2vec(edge_index)\n",
    "    return"
   ]
  },
  {
   "cell_type": "code",
   "execution_count": 8,
   "metadata": {},
   "outputs": [],
   "source": [
    "Config.dataset = \"nyc\"\n",
    "Config.post_value_updates()"
   ]
  },
  {
   "cell_type": "code",
   "execution_count": 9,
   "metadata": {},
   "outputs": [
    {
     "data": {
      "text/plain": [
       "'nyc'"
      ]
     },
     "execution_count": 9,
     "metadata": {},
     "output_type": "execute_result"
    }
   ],
   "source": [
    "Config.dataset"
   ]
  },
  {
   "cell_type": "code",
   "execution_count": 10,
   "metadata": {},
   "outputs": [],
   "source": [
    "init_cellspace()"
   ]
  },
  {
   "cell_type": "code",
   "execution_count": null,
   "metadata": {},
   "outputs": [],
   "source": []
  }
 ],
 "metadata": {
  "kernelspec": {
   "display_name": "base",
   "language": "python",
   "name": "python3"
  },
  "language_info": {
   "codemirror_mode": {
    "name": "ipython",
    "version": 3
   },
   "file_extension": ".py",
   "mimetype": "text/x-python",
   "name": "python",
   "nbconvert_exporter": "python",
   "pygments_lexer": "ipython3",
   "version": "3.12.11"
  }
 },
 "nbformat": 4,
 "nbformat_minor": 2
}
