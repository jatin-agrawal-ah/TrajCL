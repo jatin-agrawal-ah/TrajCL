{
 "cells": [
  {
   "cell_type": "code",
   "execution_count": 0,
   "metadata": {
    "application/vnd.databricks.v1+cell": {
     "cellMetadata": {
      "byteLimit": 2048000,
      "rowLimit": 10000
     },
     "inputWidgets": {},
     "nuid": "046c9a19-3fd6-4d81-8056-1c304f0e2b0e",
     "showTitle": false,
     "tableResultSettingsMap": {},
     "title": ""
    }
   },
   "outputs": [],
   "source": [
    "from pyspark.sql.functions import col, udf\n",
    "from pyspark.sql.types import BooleanType, ArrayType, DoubleType"
   ]
  },
  {
   "cell_type": "code",
   "execution_count": 0,
   "metadata": {
    "application/vnd.databricks.v1+cell": {
     "cellMetadata": {
      "byteLimit": 2048000,
      "rowLimit": 10000
     },
     "inputWidgets": {},
     "nuid": "e2db285f-dfff-49b4-a0f2-68b8aede1ce4",
     "showTitle": false,
     "tableResultSettingsMap": {},
     "title": ""
    }
   },
   "outputs": [],
   "source": [
    "df = spark.table(\"main_prod.datascience_scratchpad.nyc_test_df_v2\")\n",
    "display(df)"
   ]
  },
  {
   "cell_type": "code",
   "execution_count": 0,
   "metadata": {
    "application/vnd.databricks.v1+cell": {
     "cellMetadata": {
      "byteLimit": 2048000,
      "rowLimit": 10000
     },
     "inputWidgets": {},
     "nuid": "3835c33c-4b73-4b7e-82eb-e04f0008a024",
     "showTitle": false,
     "tableResultSettingsMap": {},
     "title": ""
    }
   },
   "outputs": [],
   "source": [
    "df = df.withColumnRenamed(\"polylines\", \"wgs_seq\")\n",
    "df = df.filter(col(\"wgs_seq\").isNotNull())\n",
    "display(df)"
   ]
  },
  {
   "cell_type": "code",
   "execution_count": 0,
   "metadata": {
    "application/vnd.databricks.v1+cell": {
     "cellMetadata": {
      "byteLimit": 2048000,
      "rowLimit": 10000
     },
     "inputWidgets": {},
     "nuid": "3a83be58-8faa-41ac-8f44-14d80bfed730",
     "showTitle": false,
     "tableResultSettingsMap": {},
     "title": ""
    }
   },
   "outputs": [],
   "source": [
    "from pyspark.sql.functions import expr\n",
    "df = df.withColumn(\"trajlen\", expr(\"size(wgs_seq)\"))\n",
    "\n",
    "display(df)"
   ]
  },
  {
   "cell_type": "code",
   "execution_count": 0,
   "metadata": {
    "application/vnd.databricks.v1+cell": {
     "cellMetadata": {
      "byteLimit": 2048000,
      "rowLimit": 10000
     },
     "inputWidgets": {},
     "nuid": "5f5e5f16-56a8-4888-bbfd-45514cb5e9c3",
     "showTitle": false,
     "tableResultSettingsMap": {},
     "title": ""
    }
   },
   "outputs": [],
   "source": [
    "df = df.filter(col(\"trajlen\")>=20)\n",
    "display(df)"
   ]
  },
  {
   "cell_type": "code",
   "execution_count": 0,
   "metadata": {
    "application/vnd.databricks.v1+cell": {
     "cellMetadata": {
      "byteLimit": 2048000,
      "rowLimit": 10000
     },
     "inputWidgets": {},
     "nuid": "53e483ad-d3f1-4056-add2-93f12ecfae82",
     "showTitle": false,
     "tableResultSettingsMap": {},
     "title": ""
    }
   },
   "outputs": [],
   "source": [
    "import math\n",
    "def lonlat2meters(lon, lat):\n",
    "    semimajoraxis = 6378137.0\n",
    "    east = lon * 0.017453292519943295\n",
    "    north = lat * 0.017453292519943295\n",
    "    t = math.sin(north)\n",
    "    return semimajoraxis * east, 3189068.5 * math.log((1 + t) / (1 - t))"
   ]
  },
  {
   "cell_type": "code",
   "execution_count": 0,
   "metadata": {
    "application/vnd.databricks.v1+cell": {
     "cellMetadata": {
      "byteLimit": 2048000,
      "rowLimit": 10000
     },
     "inputWidgets": {},
     "nuid": "e2686deb-7939-4b7c-8e5e-d0e664a6b1f5",
     "showTitle": false,
     "tableResultSettingsMap": {},
     "title": ""
    }
   },
   "outputs": [],
   "source": [
    "lonlat2meters_udf = udf(lambda traj: [list(lonlat2meters(p[0], p[1])) for p in traj], ArrayType(ArrayType(DoubleType())))\n",
    "df = df.withColumn(\"merc_seq\", lonlat2meters_udf(col(\"wgs_seq\")))\n",
    "display(df)"
   ]
  },
  {
   "cell_type": "code",
   "execution_count": 0,
   "metadata": {
    "application/vnd.databricks.v1+cell": {
     "cellMetadata": {
      "byteLimit": 2048000,
      "rowLimit": 10000
     },
     "inputWidgets": {},
     "nuid": "2f077fcf-5826-4771-a024-0afbf470f7fc",
     "showTitle": false,
     "tableResultSettingsMap": {},
     "title": ""
    }
   },
   "outputs": [],
   "source": [
    "from pyspark.sql.functions import unix_timestamp, col\n",
    "from pyspark.sql.types import IntegerType\n",
    "\n",
    "def get_distant_ts(timestamps):\n",
    "    final_indices = [0]\n",
    "    diff=0\n",
    "    for i in range(1,len(timestamps)):\n",
    "        diff += (timestamps[i] - timestamps[i-1]).total_seconds()\n",
    "        if diff > 600:\n",
    "            final_indices.append(i)\n",
    "            diff=0\n",
    "    return final_indices\n",
    "\n",
    "get_distant_ts_udf = udf(lambda traj: get_distant_ts(traj), ArrayType(IntegerType()))\n",
    "\n",
    "df_filtered = df.withColumn(\"final_indices\", get_distant_ts_udf(col(\"timestamps\")))\n",
    "display(df_filtered)\n",
    "\n",
    "\n"
   ]
  },
  {
   "cell_type": "code",
   "execution_count": 0,
   "metadata": {
    "application/vnd.databricks.v1+cell": {
     "cellMetadata": {
      "byteLimit": 2048000,
      "rowLimit": 10000
     },
     "inputWidgets": {},
     "nuid": "6f5ea884-fc39-4931-921b-c3c61df918a9",
     "showTitle": false,
     "tableResultSettingsMap": {},
     "title": ""
    }
   },
   "outputs": [],
   "source": [
    "from pyspark.sql.types import ArrayType, DoubleType, TimestampType\n",
    "def filter_by_index(input_list, indices):\n",
    "    return [input_list[i] for i in indices]\n",
    "\n",
    "wgs_seq_filter_udf = udf(lambda traj, indices: filter_by_index(traj, indices), ArrayType(ArrayType(DoubleType())))\n",
    "\n",
    "timestamps_filter_udf = udf(lambda traj, indices: filter_by_index(traj, indices), ArrayType(TimestampType()))\n",
    "\n",
    "merc_seq_filter_udf = udf(lambda traj, indices: filter_by_index(traj, indices), ArrayType(ArrayType(DoubleType())))\n",
    "\n",
    "df_filtered = df_filtered.withColumn(\"wgs_seq_filtered\", wgs_seq_filter_udf(col(\"wgs_seq\"), col(\"final_indices\")))\n",
    "df_filtered = df_filtered.withColumn(\"timestamps_filtered\", timestamps_filter_udf(col(\"timestamps\"), col(\"final_indices\")))\n",
    "df_filtered = df_filtered.withColumn(\"merc_seq_filtered\", merc_seq_filter_udf(col(\"merc_seq\"), col(\"final_indices\")))\n",
    "display(df_filtered)"
   ]
  },
  {
   "cell_type": "code",
   "execution_count": 0,
   "metadata": {
    "application/vnd.databricks.v1+cell": {
     "cellMetadata": {
      "byteLimit": 2048000,
      "rowLimit": 10000
     },
     "inputWidgets": {},
     "nuid": "fd142cd5-8061-4581-8e6f-fbe7d2a091cb",
     "showTitle": false,
     "tableResultSettingsMap": {
      "0": {
       "dataGridStateBlob": null,
       "filterBlob": "{\"version\":1,\"filterGroups\":[],\"syncTimestamp\":1754073664865}",
       "queryPlanFiltersBlob": "[]",
       "tableResultIndex": 0
      }
     },
     "title": ""
    }
   },
   "outputs": [],
   "source": [
    "from pyspark.sql.functions import expr\n",
    "df_filtered = df_filtered.withColumn(\"trajlen\", expr(\"size(wgs_seq_filtered)\"))\n",
    "\n",
    "display(df_filtered)"
   ]
  },
  {
   "cell_type": "code",
   "execution_count": 0,
   "metadata": {
    "application/vnd.databricks.v1+cell": {
     "cellMetadata": {
      "byteLimit": 2048000,
      "rowLimit": 10000
     },
     "inputWidgets": {},
     "nuid": "33fa8c63-c938-4cc4-ba28-d3b6a8b1a1cc",
     "showTitle": false,
     "tableResultSettingsMap": {},
     "title": ""
    }
   },
   "outputs": [],
   "source": [
    "df_filtered = df_filtered.filter((col(\"trajlen\")>=20) & (col(\"trajlen\")<=100))\n",
    "display(df_filtered)"
   ]
  },
  {
   "cell_type": "code",
   "execution_count": 0,
   "metadata": {
    "application/vnd.databricks.v1+cell": {
     "cellMetadata": {
      "byteLimit": 2048000,
      "rowLimit": 10000
     },
     "inputWidgets": {},
     "nuid": "8f52d81c-876a-449f-9b72-92e31c2f4ef6",
     "showTitle": false,
     "tableResultSettingsMap": {},
     "title": ""
    }
   },
   "outputs": [],
   "source": [
    "df_filtered.count()"
   ]
  },
  {
   "cell_type": "code",
   "execution_count": 0,
   "metadata": {
    "application/vnd.databricks.v1+cell": {
     "cellMetadata": {
      "byteLimit": 2048000,
      "rowLimit": 10000
     },
     "inputWidgets": {},
     "nuid": "b9569839-9564-4b6a-b9ac-488309da5cb4",
     "showTitle": false,
     "tableResultSettingsMap": {},
     "title": ""
    }
   },
   "outputs": [],
   "source": [
    "df_final = df_filtered.select(\"userid\",\"traj_id\", \"timestamps_filtered\", \"wgs_seq_filtered\", \"merc_seq_filtered\", \"trajlen\")\n",
    "display(df_final)"
   ]
  },
  {
   "cell_type": "code",
   "execution_count": 0,
   "metadata": {
    "application/vnd.databricks.v1+cell": {
     "cellMetadata": {
      "byteLimit": 2048000,
      "rowLimit": 10000
     },
     "inputWidgets": {},
     "nuid": "77a74e05-ca11-4a48-b3a5-d23e3e24049b",
     "showTitle": false,
     "tableResultSettingsMap": {},
     "title": ""
    }
   },
   "outputs": [],
   "source": [
    "df_final.write.mode(\"overwrite\").saveAsTable(\"main_prod.datascience_scratchpad.nyc_test_filtered\")"
   ]
  },
  {
   "cell_type": "code",
   "execution_count": 0,
   "metadata": {
    "application/vnd.databricks.v1+cell": {
     "cellMetadata": {
      "byteLimit": 2048000,
      "rowLimit": 10000
     },
     "inputWidgets": {},
     "nuid": "69b93a48-ef10-474f-853c-f2bb1b1b2cd2",
     "showTitle": false,
     "tableResultSettingsMap": {},
     "title": ""
    }
   },
   "outputs": [],
   "source": [
    "# # Repartition the DataFrame to reduce memory load on each partition\n",
    "# df_final_repartitioned = df_final.repartition(200)  # Adjust the number of partitions as needed\n",
    "\n",
    "# # Write the DataFrame to S3\n",
    "# df_final_repartitioned.write.mode(\"overwrite\").parquet(\n",
    "#     \"s3://earnin-prod-datalake-us-west-2-dl-scratchpad/jatin/trajcl-exp/train_filtered\"\n",
    "# )"
   ]
  },
  {
   "cell_type": "code",
   "execution_count": 0,
   "metadata": {
    "application/vnd.databricks.v1+cell": {
     "cellMetadata": {
      "byteLimit": 2048000,
      "rowLimit": 10000
     },
     "inputWidgets": {},
     "nuid": "152fd59a-4547-49b3-89ca-65e24f23fd57",
     "showTitle": false,
     "tableResultSettingsMap": {},
     "title": ""
    }
   },
   "outputs": [],
   "source": []
  }
 ],
 "metadata": {
  "application/vnd.databricks.v1+notebook": {
   "computePreferences": null,
   "dashboards": [],
   "environmentMetadata": {
    "base_environment": "",
    "environment_version": "2"
   },
   "inputWidgetPreferences": null,
   "language": "python",
   "notebookMetadata": {
    "pythonIndentUnit": 4
   },
   "notebookName": "preprocess_nyc_data",
   "widgets": {}
  },
  "language_info": {
   "name": "python"
  }
 },
 "nbformat": 4,
 "nbformat_minor": 0
}
