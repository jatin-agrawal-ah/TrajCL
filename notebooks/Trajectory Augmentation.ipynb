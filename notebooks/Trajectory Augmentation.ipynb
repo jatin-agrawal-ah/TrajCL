{
 "cells": [
  {
   "cell_type": "code",
   "execution_count": 0,
   "metadata": {
    "application/vnd.databricks.v1+cell": {
     "cellMetadata": {
      "byteLimit": 2048000,
      "rowLimit": 10000
     },
     "inputWidgets": {},
     "nuid": "6519d10a-80f0-4475-baee-cffd78623d82",
     "showTitle": false,
     "tableResultSettingsMap": {},
     "title": ""
    }
   },
   "outputs": [],
   "source": [
    "query = \"\"\"\n",
    "select * from main_prod.datascience_scratchpad.nyc_traj_all_ts where userid = '16808692'\n",
    "\"\"\"\n",
    "\n",
    "df = spark.sql(query)\n",
    "display(df)"
   ]
  },
  {
   "cell_type": "code",
   "execution_count": 0,
   "metadata": {
    "application/vnd.databricks.v1+cell": {
     "cellMetadata": {
      "byteLimit": 2048000,
      "rowLimit": 10000
     },
     "inputWidgets": {},
     "nuid": "9f6ccbe4-ddfe-40fc-b0de-c459beb985bb",
     "showTitle": false,
     "tableResultSettingsMap": {},
     "title": ""
    }
   },
   "outputs": [],
   "source": [
    "df_test = df.toPandas()"
   ]
  },
  {
   "cell_type": "code",
   "execution_count": 0,
   "metadata": {
    "application/vnd.databricks.v1+cell": {
     "cellMetadata": {
      "byteLimit": 2048000,
      "rowLimit": 10000
     },
     "inputWidgets": {},
     "nuid": "91fc929e-46b6-4cf1-83cb-f84f9bab15f9",
     "showTitle": false,
     "tableResultSettingsMap": {},
     "title": ""
    }
   },
   "outputs": [],
   "source": [
    "!pip install folium\n",
    "import folium\n",
    "\n",
    "from folium import plugins\n",
    "\n",
    "def display_traj(lon_lat_list, ts_list = None):\n",
    "    coordinates = [[x[1],x[0]] for x in lon_lat_list]\n",
    "    # Initialize map\n",
    "    m = folium.Map(location=coordinates[0], zoom_start=15)\n",
    "\n",
    "\n",
    "    # for lat,lon in pip_list:\n",
    "    #     folium.Marker(\n",
    "    #         location=[lat, lon],\n",
    "    #         popup=\"Pip Location\",\n",
    "    #         icon=folium.Icon(color='red')  # Color can be 'red', 'blue', 'green', 'purple', etc.\n",
    "    #     ).add_to(m)\n",
    "\n",
    "    folium.Marker(\n",
    "        location=coordinates[0],\n",
    "        popup=\"Start Location\",\n",
    "        icon=folium.Icon(color='green')  # Color can be 'red', 'blue', 'green', 'purple', etc.\n",
    "    ).add_to(m)\n",
    "    # Add markers\n",
    "    for i, (lat, lon) in enumerate(coordinates[1:]):\n",
    "        if ts_list is not None:\n",
    "            folium.Marker([lat, lon], popup=ts_list[i+1]).add_to(m)\n",
    "        else:\n",
    "            folium.Marker([lat, lon], popup=i+1).add_to(m)\n",
    "\n",
    "    # Draw arrows between points\n",
    "    for i in range(len(coordinates) - 1):\n",
    "        start = coordinates[i]\n",
    "        end = coordinates[i + 1]\n",
    "\n",
    "        # Draw the line\n",
    "        line = folium.PolyLine([start, end], color=\"blue\", weight=3, opacity=0.7).add_to(m)\n",
    "\n",
    "        # Add directional arrow\n",
    "        plugins.PolyLineTextPath(\n",
    "            line,\n",
    "            '➤',  # arrow symbol\n",
    "            repeat=True,\n",
    "            offset=7,\n",
    "            attributes={'fill': 'blue', 'font-weight': 'bold', 'font-size': '16'}\n",
    "            ).add_to(m)\n",
    "\n",
    "    # Save and show the map\n",
    "    m.save(\"map_with_arrows.html\")\n",
    "    return m\n"
   ]
  },
  {
   "cell_type": "code",
   "execution_count": 0,
   "metadata": {
    "application/vnd.databricks.v1+cell": {
     "cellMetadata": {
      "byteLimit": 2048000,
      "rowLimit": 10000
     },
     "inputWidgets": {},
     "nuid": "93e7e6fd-049a-4e67-b718-153fd013990d",
     "showTitle": false,
     "tableResultSettingsMap": {},
     "title": ""
    }
   },
   "outputs": [],
   "source": [
    "import math\n",
    "def meters2lonlat(merc_points):\n",
    "    lon_lats = []\n",
    "    for point in merc_points:\n",
    "        x,y = point[0],point[1]\n",
    "        semimajoraxis = 6378137.0\n",
    "        lon = x / semimajoraxis / 0.017453292519943295\n",
    "        t = math.exp(y / 3189068.5)\n",
    "        lat = math.asin((t - 1) / (t + 1)) / 0.017453292519943295\n",
    "        lon_lats.append([lon,lat])\n",
    "    return lon_lats"
   ]
  },
  {
   "cell_type": "code",
   "execution_count": 0,
   "metadata": {
    "application/vnd.databricks.v1+cell": {
     "cellMetadata": {
      "byteLimit": 2048000,
      "rowLimit": 10000
     },
     "inputWidgets": {},
     "nuid": "8281d337-4e55-47c3-8f8c-6cb0f99a29b8",
     "showTitle": false,
     "tableResultSettingsMap": {},
     "title": ""
    }
   },
   "outputs": [],
   "source": [
    "# !pip install torch\n",
    "import sys\n",
    "sys.path.append(\"..\")\n",
    "from utils.traj import simplify, mask, shift, subset\n",
    "import numpy as np"
   ]
  },
  {
   "cell_type": "code",
   "execution_count": 0,
   "metadata": {
    "application/vnd.databricks.v1+cell": {
     "cellMetadata": {
      "byteLimit": 2048000,
      "rowLimit": 10000
     },
     "inputWidgets": {},
     "nuid": "6b24cc8f-50aa-49c4-bd04-ae10730487d9",
     "showTitle": false,
     "tableResultSettingsMap": {},
     "title": ""
    }
   },
   "outputs": [],
   "source": [
    "idx = 0\n",
    "traj, time_indices = df_test['merc_seq'].values[idx], df_test['timestamps'].values[idx]\n",
    "traj = np.stack(traj).tolist()"
   ]
  },
  {
   "cell_type": "code",
   "execution_count": 0,
   "metadata": {
    "application/vnd.databricks.v1+cell": {
     "cellMetadata": {
      "byteLimit": 2048000,
      "rowLimit": 10000
     },
     "inputWidgets": {},
     "nuid": "86ca1fb5-38a3-498d-85f0-c1b8e2a5f28e",
     "showTitle": false,
     "tableResultSettingsMap": {},
     "title": ""
    }
   },
   "outputs": [],
   "source": [
    "time_indices = [x.to_numpy() for x in time_indices]\n",
    "# time_indices"
   ]
  },
  {
   "cell_type": "code",
   "execution_count": 0,
   "metadata": {
    "application/vnd.databricks.v1+cell": {
     "cellMetadata": {
      "byteLimit": 2048000,
      "rowLimit": 10000
     },
     "inputWidgets": {},
     "nuid": "54643c7a-48f6-4205-8110-ffbdce173bbe",
     "showTitle": false,
     "tableResultSettingsMap": {},
     "title": ""
    }
   },
   "outputs": [],
   "source": [
    "# import numpy as np\n",
    "# def mask_2(src, time_indices=None):\n",
    "#     l = len(src)\n",
    "#     arr = np.array(src)\n",
    "#     # print(len(src), len(time_indices))\n",
    "#     if time_indices is not None:\n",
    "#         time_arr = np.array(time_indices)\n",
    "#         mask_idx_1 = np.random.choice(l, int(l * 0.7), replace=False)\n",
    "#         mask_idx = []\n",
    "#         for i in mask_idx_1:\n",
    "#             if i<len(time_indices)-1 and int((time_indices[i+1] - time_indices[i]))/1e9/60 > 60:\n",
    "#                 mask_idx.append(i)\n",
    "#         mask_idx = np.array(mask_idx)\n",
    "#         return np.delete(arr, mask_idx, 0).tolist(), np.delete(time_arr, mask_idx, 0).tolist()\n",
    "#     else:\n",
    "#         mask_idx = np.random.choice(l, int(l * 0.7), replace=False)\n",
    "#         return np.delete(arr, mask_idx, 0).tolist()"
   ]
  },
  {
   "cell_type": "code",
   "execution_count": 0,
   "metadata": {
    "application/vnd.databricks.v1+cell": {
     "cellMetadata": {
      "byteLimit": 2048000,
      "rowLimit": 10000
     },
     "inputWidgets": {},
     "nuid": "82df87df-1007-4c75-9570-ff79e8e7f787",
     "showTitle": false,
     "tableResultSettingsMap": {},
     "title": ""
    }
   },
   "outputs": [],
   "source": [
    "import random\n",
    "def truncated_rand(mu = 0, sigma = 1, factor = 1000, bound_lo = -500, bound_hi = 500):\n",
    "    # using the defaults parameters, the success rate of one-pass random number generation is ~96%\n",
    "    # gauss visualization: https://www.desmos.com/calculator/jxzs8fz9qr?lang=zh-CN\n",
    "    while True:\n",
    "        n = random.gauss(mu, sigma) * factor\n",
    "        if bound_lo <= n <= bound_hi:\n",
    "            break\n",
    "    return n\n",
    "\n",
    "def shift_2(src, time_indices=None):\n",
    "    if time_indices is not None:\n",
    "        # time_shifted = time_shift(time_indices)\n",
    "        return [[p[0] + truncated_rand(), p[1] + truncated_rand()] for p in src], time_indices\n",
    "    else:\n",
    "        return [[p[0] + truncated_rand(), p[1] + truncated_rand()] for p in src]"
   ]
  },
  {
   "cell_type": "code",
   "execution_count": 0,
   "metadata": {
    "application/vnd.databricks.v1+cell": {
     "cellMetadata": {
      "byteLimit": 2048000,
      "rowLimit": 10000
     },
     "inputWidgets": {},
     "nuid": "b159f0d2-a7db-4cd0-9988-6a5869788787",
     "showTitle": false,
     "tableResultSettingsMap": {},
     "title": ""
    }
   },
   "outputs": [],
   "source": [
    "def mask_2(src, time_indices=None):\n",
    "    l = len(src)\n",
    "    arr = np.array(src)\n",
    "    # print(len(src), len(time_indices))\n",
    "    if time_indices is not None:\n",
    "        time_arr = np.array(time_indices)\n",
    "        mask_idx_1 = np.random.choice(l, int(l * 0.5), replace=False)\n",
    "        mask_idx = []\n",
    "        for i in mask_idx_1:\n",
    "            if i<len(time_indices)-1 and int((time_indices[i+1] - time_indices[i]))/1e9/60 < 60:\n",
    "                mask_idx.append(i)\n",
    "        return np.delete(arr, mask_idx, 0).tolist(), np.delete(time_arr, mask_idx, 0).tolist()\n",
    "    else:\n",
    "        mask_idx = np.random.choice(l, int(l * 0.5), replace=False)\n",
    "        return np.delete(arr, mask_idx, 0).tolist()"
   ]
  },
  {
   "cell_type": "code",
   "execution_count": 0,
   "metadata": {
    "application/vnd.databricks.v1+cell": {
     "cellMetadata": {
      "byteLimit": 2048000,
      "rowLimit": 10000
     },
     "inputWidgets": {},
     "nuid": "d33ba7b2-4086-4438-a7d1-b9093de25c1e",
     "showTitle": false,
     "tableResultSettingsMap": {},
     "title": ""
    }
   },
   "outputs": [],
   "source": [
    "def simplify_by_time(src, time_indices):\n",
    "    new_src = []\n",
    "    new_time_indices = []\n",
    "    for i in range(len(src)):\n",
    "        if i == 0:\n",
    "            new_src.append(src[i])\n",
    "            new_time_indices.append(time_indices[i])\n",
    "        else:\n",
    "            if int((time_indices[i] - new_time_indices[-1]))/1e9/60 > 10:\n",
    "                new_src.append(src[i])\n",
    "                new_time_indices.append(time_indices[i])\n",
    "    return new_src, new_time_indices\n"
   ]
  },
  {
   "cell_type": "code",
   "execution_count": 0,
   "metadata": {
    "application/vnd.databricks.v1+cell": {
     "cellMetadata": {
      "byteLimit": 2048000,
      "rowLimit": 10000
     },
     "inputWidgets": {},
     "nuid": "a3bc6fa9-c4b6-401a-a832-2d7214233097",
     "showTitle": false,
     "tableResultSettingsMap": {},
     "title": ""
    }
   },
   "outputs": [],
   "source": [
    "traj1, time_indices1 = simplify(traj, time_indices)\n",
    "traj2, time_indices2 = mask_2(traj, time_indices)\n",
    "traj3, time_indices3 = shift_2(traj, time_indices)\n",
    "traj4, time_indices4 = simplify_by_time(traj, time_indices)"
   ]
  },
  {
   "cell_type": "code",
   "execution_count": 0,
   "metadata": {
    "application/vnd.databricks.v1+cell": {
     "cellMetadata": {
      "byteLimit": 2048000,
      "rowLimit": 10000
     },
     "inputWidgets": {},
     "nuid": "02dccfaf-dfb8-4637-80ef-b16b76e7b59a",
     "showTitle": false,
     "tableResultSettingsMap": {},
     "title": ""
    }
   },
   "outputs": [],
   "source": [
    "display_traj(meters2lonlat(traj), time_indices)"
   ]
  },
  {
   "cell_type": "code",
   "execution_count": 0,
   "metadata": {
    "application/vnd.databricks.v1+cell": {
     "cellMetadata": {
      "byteLimit": 2048000,
      "rowLimit": 10000
     },
     "inputWidgets": {},
     "nuid": "2310cc3b-1f67-4ed4-aebc-02bf7df18a65",
     "showTitle": false,
     "tableResultSettingsMap": {},
     "title": ""
    }
   },
   "outputs": [],
   "source": [
    "display_traj(meters2lonlat(traj1), time_indices1)"
   ]
  },
  {
   "cell_type": "code",
   "execution_count": 0,
   "metadata": {
    "application/vnd.databricks.v1+cell": {
     "cellMetadata": {
      "byteLimit": 2048000,
      "rowLimit": 10000
     },
     "inputWidgets": {},
     "nuid": "de805108-05f1-43d8-9433-c7225c97e155",
     "showTitle": false,
     "tableResultSettingsMap": {},
     "title": ""
    }
   },
   "outputs": [],
   "source": [
    "display_traj(meters2lonlat(traj2), time_indices2)"
   ]
  },
  {
   "cell_type": "code",
   "execution_count": 0,
   "metadata": {
    "application/vnd.databricks.v1+cell": {
     "cellMetadata": {
      "byteLimit": 2048000,
      "rowLimit": 10000
     },
     "inputWidgets": {},
     "nuid": "36cba743-9d93-47e1-91be-1cfd095dc061",
     "showTitle": false,
     "tableResultSettingsMap": {},
     "title": ""
    }
   },
   "outputs": [],
   "source": [
    "display_traj(meters2lonlat(traj3), time_indices3)"
   ]
  },
  {
   "cell_type": "code",
   "execution_count": 0,
   "metadata": {
    "application/vnd.databricks.v1+cell": {
     "cellMetadata": {
      "byteLimit": 2048000,
      "rowLimit": 10000
     },
     "inputWidgets": {},
     "nuid": "4bfa4c31-9d0f-4c40-9ddb-63ed7b143355",
     "showTitle": false,
     "tableResultSettingsMap": {},
     "title": ""
    }
   },
   "outputs": [],
   "source": [
    "display_traj(meters2lonlat(traj4), time_indices4)"
   ]
  },
  {
   "cell_type": "code",
   "execution_count": 0,
   "metadata": {
    "application/vnd.databricks.v1+cell": {
     "cellMetadata": {
      "byteLimit": 2048000,
      "rowLimit": 10000
     },
     "inputWidgets": {},
     "nuid": "bfd5a679-55b9-41c5-8a33-2fec89610dd3",
     "showTitle": false,
     "tableResultSettingsMap": {},
     "title": ""
    }
   },
   "outputs": [],
   "source": [
    "from utils.traj import reverse, large_time_shift\n",
    "\n",
    "traj5, time_indices5 = reverse(traj, time_indices)\n",
    "traj6, time_indices6 = large_time_shift(traj, time_indices)"
   ]
  },
  {
   "cell_type": "code",
   "execution_count": 0,
   "metadata": {
    "application/vnd.databricks.v1+cell": {
     "cellMetadata": {
      "byteLimit": 2048000,
      "rowLimit": 10000
     },
     "inputWidgets": {},
     "nuid": "7e90f48b-d204-40ab-86e2-1570c6445927",
     "showTitle": false,
     "tableResultSettingsMap": {},
     "title": ""
    }
   },
   "outputs": [],
   "source": [
    "display_traj(meters2lonlat(traj), time_indices)"
   ]
  },
  {
   "cell_type": "code",
   "execution_count": 0,
   "metadata": {
    "application/vnd.databricks.v1+cell": {
     "cellMetadata": {
      "byteLimit": 2048000,
      "rowLimit": 10000
     },
     "inputWidgets": {},
     "nuid": "ade453fb-8e44-49b1-8dfb-44d3104e2687",
     "showTitle": false,
     "tableResultSettingsMap": {},
     "title": ""
    }
   },
   "outputs": [],
   "source": [
    "display_traj(meters2lonlat(traj5), time_indices5)"
   ]
  },
  {
   "cell_type": "code",
   "execution_count": 0,
   "metadata": {
    "application/vnd.databricks.v1+cell": {
     "cellMetadata": {
      "byteLimit": 2048000,
      "rowLimit": 10000
     },
     "inputWidgets": {},
     "nuid": "190de7ac-7a24-4674-ac88-8ca1038b968c",
     "showTitle": false,
     "tableResultSettingsMap": {},
     "title": ""
    }
   },
   "outputs": [],
   "source": [
    "display_traj(meters2lonlat(traj6), time_indices6)"
   ]
  },
  {
   "cell_type": "code",
   "execution_count": 0,
   "metadata": {
    "application/vnd.databricks.v1+cell": {
     "cellMetadata": {
      "byteLimit": 2048000,
      "rowLimit": 10000
     },
     "inputWidgets": {},
     "nuid": "26ab1ffe-3148-4fbd-8129-7352ace83151",
     "showTitle": false,
     "tableResultSettingsMap": {},
     "title": ""
    }
   },
   "outputs": [],
   "source": [
    "import random\n",
    "def translate(traj, time_indices):\n",
    "    theta = random.uniform(0, 2 * np.pi)\n",
    "\n",
    "    # Step 2: Define shift amount in meters\n",
    "    distance =random.randint(2000,4000)  # shift trajectory by 500 meters\n",
    "    dx = distance * np.cos(theta)\n",
    "    dy = distance * np.sin(theta)\n",
    "\n",
    "    # Step 3: Apply shift to all coordinates\n",
    "    shifted_coords = [(x + dx, y + dy) for x, y in traj]\n",
    "    return shifted_coords, time_indices\n"
   ]
  },
  {
   "cell_type": "code",
   "execution_count": 0,
   "metadata": {
    "application/vnd.databricks.v1+cell": {
     "cellMetadata": {
      "byteLimit": 2048000,
      "rowLimit": 10000
     },
     "inputWidgets": {},
     "nuid": "0129bc2b-3eb7-417a-a9f6-afd74d047bf7",
     "showTitle": false,
     "tableResultSettingsMap": {},
     "title": ""
    }
   },
   "outputs": [],
   "source": [
    "traj6, time_indices6 = translate(traj, time_indices)\n",
    "display_traj(meters2lonlat(traj6), time_indices6)"
   ]
  },
  {
   "cell_type": "code",
   "execution_count": 0,
   "metadata": {
    "application/vnd.databricks.v1+cell": {
     "cellMetadata": {},
     "inputWidgets": {},
     "nuid": "18941e57-1f88-4725-858a-b53174a472d3",
     "showTitle": false,
     "tableResultSettingsMap": {},
     "title": ""
    }
   },
   "outputs": [],
   "source": []
  }
 ],
 "metadata": {
  "application/vnd.databricks.v1+notebook": {
   "computePreferences": {
    "hardware": {
     "accelerator": null,
     "gpuPoolId": null,
     "memory": null
    }
   },
   "dashboards": [],
   "environmentMetadata": {
    "base_environment": "",
    "environment_version": "2"
   },
   "inputWidgetPreferences": null,
   "language": "python",
   "notebookMetadata": {
    "pythonIndentUnit": 4
   },
   "notebookName": "Trajectory Augmentation",
   "widgets": {}
  },
  "language_info": {
   "name": "python"
  }
 },
 "nbformat": 4,
 "nbformat_minor": 0
}
