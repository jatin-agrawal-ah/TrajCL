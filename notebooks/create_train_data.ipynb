{
 "cells": [
  {
   "cell_type": "code",
   "execution_count": 1,
   "metadata": {},
   "outputs": [
    {
     "name": "stderr",
     "output_type": "stream",
     "text": [
      "Warning: Ignoring non-Spark config property: fs.s3a.aws.credentials.provider\n"
     ]
    },
    {
     "name": "stdout",
     "output_type": "stream",
     "text": [
      ":: loading settings :: url = jar:file:/home/sagemaker-user/.conda/envs/trajcl/lib/python3.12/site-packages/pyspark/jars/ivy-2.5.1.jar!/org/apache/ivy/core/settings/ivysettings.xml\n"
     ]
    },
    {
     "name": "stderr",
     "output_type": "stream",
     "text": [
      "Ivy Default Cache set to: /home/sagemaker-user/.ivy2/cache\n",
      "The jars for the packages stored in: /home/sagemaker-user/.ivy2/jars\n",
      "io.delta#delta-sharing-spark_2.12 added as a dependency\n",
      "org.apache.hadoop#hadoop-aws added as a dependency\n",
      ":: resolving dependencies :: org.apache.spark#spark-submit-parent-3f11e16d-b23a-49f7-a3d1-c1cd05712b51;1.0\n",
      "\tconfs: [default]\n",
      "\tfound io.delta#delta-sharing-spark_2.12;3.2.0 in central\n",
      "\tfound io.delta#delta-spark_2.12;3.2.0 in central\n",
      "\tfound io.delta#delta-storage;3.2.0 in central\n",
      "\tfound org.antlr#antlr4-runtime;4.9.3 in central\n",
      "\tfound io.delta#delta-sharing-client_2.12;1.0.5 in central\n",
      "\tfound org.apache.httpcomponents#httpclient;4.5.13 in central\n",
      "\tfound org.apache.httpcomponents#httpcore;4.4.13 in central\n",
      "\tfound commons-logging#commons-logging;1.2 in central\n",
      "\tfound commons-codec#commons-codec;1.11 in central\n",
      "\tfound org.apache.hadoop#hadoop-aws;3.3.1 in central\n",
      "\tfound com.amazonaws#aws-java-sdk-bundle;1.11.901 in central\n",
      "\tfound org.wildfly.openssl#wildfly-openssl;1.0.7.Final in central\n",
      ":: resolution report :: resolve 479ms :: artifacts dl 18ms\n",
      "\t:: modules in use:\n",
      "\tcom.amazonaws#aws-java-sdk-bundle;1.11.901 from central in [default]\n",
      "\tcommons-codec#commons-codec;1.11 from central in [default]\n",
      "\tcommons-logging#commons-logging;1.2 from central in [default]\n",
      "\tio.delta#delta-sharing-client_2.12;1.0.5 from central in [default]\n",
      "\tio.delta#delta-sharing-spark_2.12;3.2.0 from central in [default]\n",
      "\tio.delta#delta-spark_2.12;3.2.0 from central in [default]\n",
      "\tio.delta#delta-storage;3.2.0 from central in [default]\n",
      "\torg.antlr#antlr4-runtime;4.9.3 from central in [default]\n",
      "\torg.apache.hadoop#hadoop-aws;3.3.1 from central in [default]\n",
      "\torg.apache.httpcomponents#httpclient;4.5.13 from central in [default]\n",
      "\torg.apache.httpcomponents#httpcore;4.4.13 from central in [default]\n",
      "\torg.wildfly.openssl#wildfly-openssl;1.0.7.Final from central in [default]\n",
      "\t---------------------------------------------------------------------\n",
      "\t|                  |            modules            ||   artifacts   |\n",
      "\t|       conf       | number| search|dwnlded|evicted|| number|dwnlded|\n",
      "\t---------------------------------------------------------------------\n",
      "\t|      default     |   12  |   0   |   0   |   0   ||   12  |   0   |\n",
      "\t---------------------------------------------------------------------\n",
      ":: retrieving :: org.apache.spark#spark-submit-parent-3f11e16d-b23a-49f7-a3d1-c1cd05712b51\n",
      "\tconfs: [default]\n",
      "\t0 artifacts copied, 12 already retrieved (0kB/10ms)\n",
      "25/09/19 07:46:34 WARN NativeCodeLoader: Unable to load native-hadoop library for your platform... using builtin-java classes where applicable\n",
      "Setting default log level to \"WARN\".\n",
      "To adjust logging level use sc.setLogLevel(newLevel). For SparkR, use setLogLevel(newLevel).\n",
      "25/09/19 07:46:47 WARN SparkStringUtils: Truncated the string representation of a plan since it was too large. This behavior can be adjusted by setting 'spark.sql.debug.maxToStringFields'.\n",
      "                                                                                \r"
     ]
    },
    {
     "data": {
      "text/plain": [
       "29706"
      ]
     },
     "execution_count": 1,
     "metadata": {},
     "output_type": "execute_result"
    }
   ],
   "source": [
    "from ah_databricks_data_loader import DatabricksDataLoader\n",
    "\n",
    "# Instantiate the DatabricksDataLoader.\n",
    "ddl = DatabricksDataLoader()\n",
    "\n",
    "\n",
    "# Load data.\n",
    "df = ddl.load_as_spark(schema=\"datascience_scratchpad\", table=\"all_traj_train_v2_cell_496\")\n",
    "\n",
    "# Display the loaded DataFrame.\n",
    "df.count()"
   ]
  },
  {
   "cell_type": "code",
   "execution_count": 2,
   "metadata": {},
   "outputs": [
    {
     "name": "stderr",
     "output_type": "stream",
     "text": [
      "                                                                                \r"
     ]
    }
   ],
   "source": [
    "df_pd = df.toPandas()"
   ]
  },
  {
   "cell_type": "code",
   "execution_count": 3,
   "metadata": {},
   "outputs": [
    {
     "data": {
      "text/html": [
       "<div>\n",
       "<style scoped>\n",
       "    .dataframe tbody tr th:only-of-type {\n",
       "        vertical-align: middle;\n",
       "    }\n",
       "\n",
       "    .dataframe tbody tr th {\n",
       "        vertical-align: top;\n",
       "    }\n",
       "\n",
       "    .dataframe thead th {\n",
       "        text-align: right;\n",
       "    }\n",
       "</style>\n",
       "<table border=\"1\" class=\"dataframe\">\n",
       "  <thead>\n",
       "    <tr style=\"text-align: right;\">\n",
       "      <th></th>\n",
       "      <th>userid</th>\n",
       "      <th>traj_date</th>\n",
       "      <th>timestamps</th>\n",
       "      <th>wgs_seq</th>\n",
       "      <th>merc_seq</th>\n",
       "      <th>min_lat</th>\n",
       "      <th>max_lat</th>\n",
       "      <th>min_lon</th>\n",
       "      <th>max_lon</th>\n",
       "      <th>cellid</th>\n",
       "    </tr>\n",
       "  </thead>\n",
       "  <tbody>\n",
       "    <tr>\n",
       "      <th>0</th>\n",
       "      <td>20000784</td>\n",
       "      <td>2024-10-30</td>\n",
       "      <td>[2024-10-30 08:03:45, 2024-10-30 08:03:58, 202...</td>\n",
       "      <td>[[-96.44578360695499, 45.313018798828125], [-9...</td>\n",
       "      <td>[[-10736295.520284481, 5670935.237912814], [-1...</td>\n",
       "      <td>43.549683</td>\n",
       "      <td>45.320099</td>\n",
       "      <td>-96.877171</td>\n",
       "      <td>-95.054649</td>\n",
       "      <td>496</td>\n",
       "    </tr>\n",
       "    <tr>\n",
       "      <th>1</th>\n",
       "      <td>20000784</td>\n",
       "      <td>2024-10-31</td>\n",
       "      <td>[2024-10-31 08:41:06, 2024-10-31 08:47:32, 202...</td>\n",
       "      <td>[[-96.71046908902107, 43.549652099609375], [-9...</td>\n",
       "      <td>[[-10765760.17336845, 5396012.262153541], [-10...</td>\n",
       "      <td>43.461273</td>\n",
       "      <td>43.549713</td>\n",
       "      <td>-96.815650</td>\n",
       "      <td>-96.695830</td>\n",
       "      <td>496</td>\n",
       "    </tr>\n",
       "    <tr>\n",
       "      <th>2</th>\n",
       "      <td>20000784</td>\n",
       "      <td>2024-11-01</td>\n",
       "      <td>[2024-11-01 07:45:24, 2024-11-01 07:50:00, 202...</td>\n",
       "      <td>[[-96.70425380060388, 43.54937744140625], [-96...</td>\n",
       "      <td>[[-10765068.290626714, 5395970.077154066], [-1...</td>\n",
       "      <td>43.461060</td>\n",
       "      <td>43.551208</td>\n",
       "      <td>-96.821342</td>\n",
       "      <td>-96.504652</td>\n",
       "      <td>496</td>\n",
       "    </tr>\n",
       "    <tr>\n",
       "      <th>3</th>\n",
       "      <td>20000784</td>\n",
       "      <td>2024-11-02</td>\n",
       "      <td>[2024-11-02 02:35:33, 2024-11-02 08:06:40, 202...</td>\n",
       "      <td>[[-96.71032696068147, 43.5496826171875], [-96....</td>\n",
       "      <td>[[-10765744.351714058, 5396016.94938757], [-10...</td>\n",
       "      <td>43.493378</td>\n",
       "      <td>43.558350</td>\n",
       "      <td>-96.784329</td>\n",
       "      <td>-96.672995</td>\n",
       "      <td>496</td>\n",
       "    </tr>\n",
       "    <tr>\n",
       "      <th>4</th>\n",
       "      <td>20000784</td>\n",
       "      <td>2024-11-08</td>\n",
       "      <td>[2024-11-08 06:49:29, 2024-11-08 06:49:32, 202...</td>\n",
       "      <td>[[-96.44597956475913, 45.312835693359375], [-9...</td>\n",
       "      <td>[[-10736317.334207455, 5670906.252968268], [-1...</td>\n",
       "      <td>43.549652</td>\n",
       "      <td>45.314056</td>\n",
       "      <td>-97.106897</td>\n",
       "      <td>-96.441803</td>\n",
       "      <td>496</td>\n",
       "    </tr>\n",
       "  </tbody>\n",
       "</table>\n",
       "</div>"
      ],
      "text/plain": [
       "     userid   traj_date                                         timestamps  \\\n",
       "0  20000784  2024-10-30  [2024-10-30 08:03:45, 2024-10-30 08:03:58, 202...   \n",
       "1  20000784  2024-10-31  [2024-10-31 08:41:06, 2024-10-31 08:47:32, 202...   \n",
       "2  20000784  2024-11-01  [2024-11-01 07:45:24, 2024-11-01 07:50:00, 202...   \n",
       "3  20000784  2024-11-02  [2024-11-02 02:35:33, 2024-11-02 08:06:40, 202...   \n",
       "4  20000784  2024-11-08  [2024-11-08 06:49:29, 2024-11-08 06:49:32, 202...   \n",
       "\n",
       "                                             wgs_seq  \\\n",
       "0  [[-96.44578360695499, 45.313018798828125], [-9...   \n",
       "1  [[-96.71046908902107, 43.549652099609375], [-9...   \n",
       "2  [[-96.70425380060388, 43.54937744140625], [-96...   \n",
       "3  [[-96.71032696068147, 43.5496826171875], [-96....   \n",
       "4  [[-96.44597956475913, 45.312835693359375], [-9...   \n",
       "\n",
       "                                            merc_seq    min_lat    max_lat  \\\n",
       "0  [[-10736295.520284481, 5670935.237912814], [-1...  43.549683  45.320099   \n",
       "1  [[-10765760.17336845, 5396012.262153541], [-10...  43.461273  43.549713   \n",
       "2  [[-10765068.290626714, 5395970.077154066], [-1...  43.461060  43.551208   \n",
       "3  [[-10765744.351714058, 5396016.94938757], [-10...  43.493378  43.558350   \n",
       "4  [[-10736317.334207455, 5670906.252968268], [-1...  43.549652  45.314056   \n",
       "\n",
       "     min_lon    max_lon  cellid  \n",
       "0 -96.877171 -95.054649     496  \n",
       "1 -96.815650 -96.695830     496  \n",
       "2 -96.821342 -96.504652     496  \n",
       "3 -96.784329 -96.672995     496  \n",
       "4 -97.106897 -96.441803     496  "
      ]
     },
     "execution_count": 3,
     "metadata": {},
     "output_type": "execute_result"
    }
   ],
   "source": [
    "df_pd.head()"
   ]
  },
  {
   "cell_type": "code",
   "execution_count": null,
   "metadata": {},
   "outputs": [],
   "source": []
  }
 ],
 "metadata": {
  "kernelspec": {
   "display_name": "trajcl",
   "language": "python",
   "name": "python3"
  },
  "language_info": {
   "codemirror_mode": {
    "name": "ipython",
    "version": 3
   },
   "file_extension": ".py",
   "mimetype": "text/x-python",
   "name": "python",
   "nbconvert_exporter": "python",
   "pygments_lexer": "ipython3",
   "version": "3.12.11"
  }
 },
 "nbformat": 4,
 "nbformat_minor": 2
}
