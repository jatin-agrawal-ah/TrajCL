{
 "cells": [
  {
   "cell_type": "code",
   "execution_count": 0,
   "metadata": {
    "application/vnd.databricks.v1+cell": {
     "cellMetadata": {
      "byteLimit": 2048000,
      "rowLimit": 10000
     },
     "inputWidgets": {},
     "nuid": "d1b1258c-978d-4b9f-9c65-d2a981c85cb6",
     "showTitle": false,
     "tableResultSettingsMap": {},
     "title": ""
    }
   },
   "outputs": [],
   "source": [
    "query = \"\"\"\n",
    "select * from main_prod.datascience_scratchpad.all_traj_data_test\n",
    "\"\"\"\n",
    "all_df = spark.sql(query)\n",
    "all_df.createOrReplaceTempView(\"all_traj_data_test\")\n",
    "display(all_df)"
   ]
  },
  {
   "cell_type": "code",
   "execution_count": 0,
   "metadata": {
    "application/vnd.databricks.v1+cell": {
     "cellMetadata": {
      "byteLimit": 2048000,
      "implicitDf": true,
      "rowLimit": 10000
     },
     "inputWidgets": {},
     "nuid": "fbdebaa8-4ded-447a-9ccb-4acf8943aa31",
     "showTitle": false,
     "tableResultSettingsMap": {},
     "title": ""
    }
   },
   "outputs": [],
   "source": [
    "%sql\n",
    "select * from main_prod.datascience.userpiphistory limit 10"
   ]
  },
  {
   "cell_type": "code",
   "execution_count": 0,
   "metadata": {
    "application/vnd.databricks.v1+cell": {
     "cellMetadata": {
      "byteLimit": 2048000,
      "rowLimit": 10000
     },
     "inputWidgets": {},
     "nuid": "bf2e2052-2370-41cd-b560-400691619e2b",
     "showTitle": false,
     "tableResultSettingsMap": {},
     "title": ""
    }
   },
   "outputs": [],
   "source": [
    "from pyspark.sql import functions as F\n",
    "\n",
    "df = spark.read.table(\"main_prod.datascience.userpiphistory\")\n",
    "\n",
    "# keep only valid times (optional but wise)\n",
    "df = df.filter(F.col(\"createdon\").isNotNull())\n",
    "\n",
    "userid_timezone_df = (\n",
    "    df.groupBy(\"userid\")\n",
    "      .agg(F.max(F.struct(\"createdon\", \"timezone\")).alias(\"maxrow\"))\n",
    "      .select(\n",
    "          \"userid\",\n",
    "          F.col(\"maxrow.createdon\").alias(\"latest_time\"),\n",
    "          F.col(\"maxrow.timezone\").alias(\"latest_timezone\"),\n",
    "      )\n",
    ")\n",
    "\n",
    "display(userid_timezone_df)"
   ]
  },
  {
   "cell_type": "code",
   "execution_count": 0,
   "metadata": {
    "application/vnd.databricks.v1+cell": {
     "cellMetadata": {
      "byteLimit": 2048000,
      "rowLimit": 10000
     },
     "inputWidgets": {},
     "nuid": "84a05018-7f62-4106-b9e5-64ca00360ca9",
     "showTitle": false,
     "tableResultSettingsMap": {},
     "title": ""
    }
   },
   "outputs": [],
   "source": [
    "from pyspark.sql.functions import col\n",
    "\n",
    "userid_timezone_df_fil = userid_timezone_df.filter(col(\"latest_timezone\").isNotNull())\n",
    "display(userid_timezone_df_fil)"
   ]
  },
  {
   "cell_type": "code",
   "execution_count": 0,
   "metadata": {
    "application/vnd.databricks.v1+cell": {
     "cellMetadata": {
      "byteLimit": 2048000,
      "rowLimit": 10000
     },
     "inputWidgets": {},
     "nuid": "ccf9f317-8687-48c1-af41-2356911d6fed",
     "showTitle": false,
     "tableResultSettingsMap": {},
     "title": ""
    }
   },
   "outputs": [],
   "source": [
    "# join df and userid_timezone_df_fil on userid\n",
    "df_with_tz = all_df.join(userid_timezone_df_fil, on=\"userid\", how=\"inner\")\n",
    "display(df_with_tz)"
   ]
  },
  {
   "cell_type": "code",
   "execution_count": 0,
   "metadata": {
    "application/vnd.databricks.v1+cell": {
     "cellMetadata": {
      "byteLimit": 2048000,
      "rowLimit": 10000
     },
     "inputWidgets": {},
     "nuid": "5de76c24-510e-4931-8a28-940fcab485d3",
     "showTitle": false,
     "tableResultSettingsMap": {},
     "title": ""
    }
   },
   "outputs": [],
   "source": [
    "df_with_tz.createOrReplaceTempView(\"all_traj_data_test_with_tz\")\n"
   ]
  },
  {
   "cell_type": "code",
   "execution_count": 0,
   "metadata": {
    "application/vnd.databricks.v1+cell": {
     "cellMetadata": {
      "byteLimit": 2048000,
      "rowLimit": 10000
     },
     "inputWidgets": {},
     "nuid": "a610abb6-5ae8-417e-872a-91f253d05188",
     "showTitle": false,
     "tableResultSettingsMap": {},
     "title": ""
    }
   },
   "outputs": [],
   "source": [
    "query = \"\"\"\n",
    "select *, from_utc_timestamp(from_unixtime(location_timestamp/1000), latest_timezone) as localized_ts from all_traj_data_test_with_tz\n",
    "\"\"\"\n",
    "df_loc_ts = spark.sql(query)\n",
    "display(df_loc_ts)"
   ]
  },
  {
   "cell_type": "code",
   "execution_count": 0,
   "metadata": {
    "application/vnd.databricks.v1+cell": {
     "cellMetadata": {
      "byteLimit": 2048000,
      "rowLimit": 10000
     },
     "inputWidgets": {},
     "nuid": "ab0dfb4c-379b-4817-9d50-c490b139d6ca",
     "showTitle": false,
     "tableResultSettingsMap": {},
     "title": ""
    }
   },
   "outputs": [],
   "source": [
    "# keep timestamps after 2022 and before 23rd July 2025\n",
    "df_loc_ts_fil = df_loc_ts.filter((df_loc_ts.localized_ts >= '2022-01-01') & (df_loc_ts.localized_ts < '2025-07-23'))\n",
    "display(df_loc_ts_fil)"
   ]
  },
  {
   "cell_type": "code",
   "execution_count": 0,
   "metadata": {
    "application/vnd.databricks.v1+cell": {
     "cellMetadata": {
      "byteLimit": 2048000,
      "rowLimit": 10000
     },
     "inputWidgets": {},
     "nuid": "7a73d3aa-9c1e-4f4a-8186-e78fe637d1c0",
     "showTitle": false,
     "tableResultSettingsMap": {},
     "title": ""
    }
   },
   "outputs": [],
   "source": [
    "df_loc_ts_fil.createOrReplaceTempView(\"all_traj_data_test_loc_ts\")"
   ]
  },
  {
   "cell_type": "code",
   "execution_count": 0,
   "metadata": {
    "application/vnd.databricks.v1+cell": {
     "cellMetadata": {
      "byteLimit": 2048000,
      "rowLimit": 10000
     },
     "inputWidgets": {},
     "nuid": "c6c32e61-1fcd-4286-b08e-4723aa681ad5",
     "showTitle": false,
     "tableResultSettingsMap": {},
     "title": ""
    }
   },
   "outputs": [],
   "source": [
    "\n",
    "query = \"\"\"\n",
    "SELECT \n",
    "    userid,\n",
    "    DATE(localized_ts) AS traj_date,\n",
    "    COLLECT_LIST(localized_ts) AS timestamps,\n",
    "    COLLECT_LIST(latitude) AS latitudes,\n",
    "    COLLECT_LIST(longitude) AS longitudes\n",
    "FROM \n",
    "    all_traj_data_test_loc_ts\n",
    "WHERE\n",
    "    userid IS NOT NULL \n",
    "    AND localized_ts IS NOT NULL \n",
    "    AND latitude IS NOT NULL \n",
    "    AND longitude IS NOT NULL\n",
    "GROUP BY \n",
    "    userid, DATE(localized_ts)\n",
    "ORDER BY \n",
    "    userid, traj_date\n",
    "\"\"\"\n",
    "\n",
    "result_df = spark.sql(query)\n",
    "display(result_df)"
   ]
  },
  {
   "cell_type": "code",
   "execution_count": 0,
   "metadata": {
    "application/vnd.databricks.v1+cell": {
     "cellMetadata": {
      "byteLimit": 2048000,
      "rowLimit": 10000
     },
     "inputWidgets": {},
     "nuid": "ba480329-b1fe-4bd0-b545-3979e9dff3bf",
     "showTitle": false,
     "tableResultSettingsMap": {},
     "title": ""
    }
   },
   "outputs": [],
   "source": [
    "from pyspark.sql.functions import udf, col\n",
    "from pyspark.sql.types import StructType, StructField, ArrayType, DoubleType, DateType, TimestampType\n",
    "def sort_by_time(timestamps, longitudes, latitudes):\n",
    "    sorted_ts = []\n",
    "    polylines = []\n",
    "    for ts, lon, lat in sorted(zip(timestamps, longitudes, latitudes), key=lambda x: x[0]):\n",
    "        sorted_ts.append(ts)\n",
    "        polylines.append([float(lon), float(lat)])\n",
    "    return sorted_ts, polylines\n",
    "\n",
    "\n",
    "sort_and_extract_udf = udf(sort_by_time, \n",
    "                           StructType([\n",
    "                               StructField(\"sorted_ts\", ArrayType(TimestampType())),\n",
    "                               StructField(\"polylines\", ArrayType(ArrayType(DoubleType())))\n",
    "                           ]))\n",
    "\n",
    "\n",
    "result_df_v2 = result_df.withColumn(\"sorted_data\", \n",
    "                                         sort_and_extract_udf(\"timestamps\", \"longitudes\", \"latitudes\"))\n",
    "\n",
    "result_df_v2 = result_df_v2.withColumn(\"sorted_ts\", col(\"sorted_data.sorted_ts\")) \\\n",
    "                             .withColumn(\"polylines\", col(\"sorted_data.polylines\")) \\\n",
    "                             .drop(\"sorted_data\")\n",
    "display(result_df_v2)"
   ]
  },
  {
   "cell_type": "code",
   "execution_count": 0,
   "metadata": {
    "application/vnd.databricks.v1+cell": {
     "cellMetadata": {
      "byteLimit": 2048000,
      "rowLimit": 10000
     },
     "inputWidgets": {},
     "nuid": "5e96d84f-af04-4f8f-b2e7-fc490766a898",
     "showTitle": false,
     "tableResultSettingsMap": {},
     "title": ""
    }
   },
   "outputs": [],
   "source": [
    "result_df_v3 = result_df_v2.drop(\"timestamps\", \"longitudes\", \"latitudes\")\n",
    "display(result_df_v3)"
   ]
  },
  {
   "cell_type": "code",
   "execution_count": 0,
   "metadata": {
    "application/vnd.databricks.v1+cell": {
     "cellMetadata": {
      "byteLimit": 2048000,
      "rowLimit": 10000
     },
     "inputWidgets": {},
     "nuid": "aba0df51-0084-4e8d-9cc7-3458cc53b383",
     "showTitle": false,
     "tableResultSettingsMap": {},
     "title": ""
    }
   },
   "outputs": [],
   "source": [
    "from pyspark.sql.types import IntegerType, ArrayType, DoubleType, BooleanType\n",
    "from pyspark.sql.functions import udf, col\n",
    "\n",
    "import math\n",
    "def lonlat2meters(lon, lat):\n",
    "    semimajoraxis = 6378137.0\n",
    "    east = lon * 0.017453292519943295\n",
    "    north = lat * 0.017453292519943295\n",
    "    t = math.sin(north)\n",
    "    return semimajoraxis * east, 3189068.5 * math.log((1 + t + 1e-5) / (1 - t + 1e-5))\n",
    "\n",
    "\n",
    "lonlat2meters_udf = udf(lambda traj: [list(lonlat2meters(p[0], p[1])) for p in traj], ArrayType(ArrayType(DoubleType())))\n",
    "result_df_v4 = result_df_v3.withColumn(\"merc_seq\", lonlat2meters_udf(col(\"polylines\")))\n",
    "display(result_df_v4)"
   ]
  },
  {
   "cell_type": "code",
   "execution_count": 0,
   "metadata": {
    "application/vnd.databricks.v1+cell": {
     "cellMetadata": {
      "byteLimit": 2048000,
      "rowLimit": 10000
     },
     "inputWidgets": {},
     "nuid": "62448871-22f2-4e66-92a8-3e3f79dc111c",
     "showTitle": false,
     "tableResultSettingsMap": {},
     "title": ""
    }
   },
   "outputs": [],
   "source": [
    "def filter_based_on_timestamps(ts_list):\n",
    "    unique_hours = set()\n",
    "    for ts in ts_list:\n",
    "        unique_hours.add(ts.hour)\n",
    "    if len(unique_hours) > 7:\n",
    "        return True\n",
    "    return False\n",
    "\n",
    "filter_based_on_timestamps_udf = udf(filter_based_on_timestamps, BooleanType())\n",
    "result_df_v5 = result_df_v4.filter(filter_based_on_timestamps_udf(col(\"sorted_ts\")))\n",
    "display(result_df_v5)"
   ]
  },
  {
   "cell_type": "code",
   "execution_count": 0,
   "metadata": {
    "application/vnd.databricks.v1+cell": {
     "cellMetadata": {
      "byteLimit": 2048000,
      "rowLimit": 10000
     },
     "inputWidgets": {},
     "nuid": "ee8d8e06-ee09-4af0-9f7a-43789387cfd8",
     "showTitle": false,
     "tableResultSettingsMap": {},
     "title": ""
    }
   },
   "outputs": [],
   "source": [
    "# rename columns\n",
    "\n",
    "result_df_v6 = result_df_v5.withColumnRenamed(\"sorted_ts\", \"timestamps\").withColumnRenamed(\"polylines\", \"wgs_seq\")\n",
    "\n",
    "\n",
    "result_df_v6.write.mode(\"overwrite\").saveAsTable(\"main_prod.datascience_scratchpad.all_traj_test\")"
   ]
  },
  {
   "cell_type": "code",
   "execution_count": 0,
   "metadata": {
    "application/vnd.databricks.v1+cell": {
     "cellMetadata": {
      "byteLimit": 2048000,
      "rowLimit": 10000
     },
     "inputWidgets": {},
     "nuid": "8454fc15-8a9c-4725-934f-54fffe121b4b",
     "showTitle": false,
     "tableResultSettingsMap": {},
     "title": ""
    }
   },
   "outputs": [],
   "source": [
    "result_df_v6.select(\"userid\").distinct().count()"
   ]
  },
  {
   "cell_type": "code",
   "execution_count": 0,
   "metadata": {
    "application/vnd.databricks.v1+cell": {
     "cellMetadata": {
      "byteLimit": 2048000,
      "rowLimit": 10000
     },
     "inputWidgets": {},
     "nuid": "a1bbca44-069b-4828-a435-eb600913fc78",
     "showTitle": false,
     "tableResultSettingsMap": {},
     "title": ""
    }
   },
   "outputs": [],
   "source": [
    "result_df_v6.count()"
   ]
  },
  {
   "cell_type": "code",
   "execution_count": 0,
   "metadata": {
    "application/vnd.databricks.v1+cell": {
     "cellMetadata": {
      "byteLimit": 2048000,
      "rowLimit": 10000
     },
     "inputWidgets": {},
     "nuid": "345e86fc-2115-4c52-a1d2-07a58ec879fe",
     "showTitle": false,
     "tableResultSettingsMap": {},
     "title": ""
    }
   },
   "outputs": [],
   "source": [
    "df = spark.read.table(\"main_prod.datascience_scratchpad.all_traj_test\")"
   ]
  },
  {
   "cell_type": "code",
   "execution_count": 0,
   "metadata": {
    "application/vnd.databricks.v1+cell": {
     "cellMetadata": {
      "byteLimit": 2048000,
      "rowLimit": 10000
     },
     "inputWidgets": {},
     "nuid": "0f4802a9-0f7f-4539-9f89-db9f686568c5",
     "showTitle": false,
     "tableResultSettingsMap": {},
     "title": ""
    }
   },
   "outputs": [],
   "source": [
    "display(df)"
   ]
  },
  {
   "cell_type": "code",
   "execution_count": 0,
   "metadata": {
    "application/vnd.databricks.v1+cell": {
     "cellMetadata": {
      "byteLimit": 2048000,
      "rowLimit": 10000
     },
     "inputWidgets": {},
     "nuid": "0355e887-65a3-4299-a6a8-88846ce18b80",
     "showTitle": false,
     "tableResultSettingsMap": {},
     "title": ""
    }
   },
   "outputs": [],
   "source": [
    "\n",
    "from pyspark.sql.types import StructType, StructField, ArrayType, DoubleType\n",
    "from pyspark.sql.functions import col\n",
    "\n",
    "\n",
    "def udf_get_min_max_lat_lon(wgs_seq):\n",
    "    min_lat = 100000\n",
    "    max_lat = -100000\n",
    "    min_lon = 100000\n",
    "    max_lon = -100000\n",
    "\n",
    "    for lon, lat in wgs_seq:\n",
    "        if lat < min_lat:\n",
    "            min_lat = lat\n",
    "        if lat > max_lat:\n",
    "            max_lat = lat\n",
    "        if lon < min_lon:\n",
    "            min_lon = lon\n",
    "        if lon > max_lon:\n",
    "            max_lon = lon\n",
    "    return min_lat, max_lat, min_lon, max_lon\n",
    "\n",
    "get_min_max_lat_lon_udf = udf(udf_get_min_max_lat_lon, StructType([\n",
    "    StructField(\"min_lat\", DoubleType()),\n",
    "    StructField(\"max_lat\", DoubleType()),\n",
    "    StructField(\"min_lon\", DoubleType()),\n",
    "    StructField(\"max_lon\", DoubleType())\n",
    "]))\n",
    "df = df.withColumn(\"min_max_lat_lon\", get_min_max_lat_lon_udf(col(\"wgs_seq\")))\n",
    "df = df.withColumn(\"min_lat\", col(\"min_max_lat_lon.min_lat\")) \\\n",
    "       .withColumn(\"max_lat\", col(\"min_max_lat_lon.max_lat\")) \\\n",
    "       .withColumn(\"min_lon\", col(\"min_max_lat_lon.min_lon\")) \\\n",
    "       .withColumn(\"max_lon\", col(\"min_max_lat_lon.max_lon\")) \\\n",
    "       .drop(\"min_max_lat_lon\")\n",
    "\n",
    "display(df)\n"
   ]
  },
  {
   "cell_type": "code",
   "execution_count": 0,
   "metadata": {
    "application/vnd.databricks.v1+cell": {
     "cellMetadata": {
      "byteLimit": 2048000,
      "rowLimit": 10000
     },
     "inputWidgets": {},
     "nuid": "90982742-363b-4b9d-b2da-c61fffe42d35",
     "showTitle": false,
     "tableResultSettingsMap": {},
     "title": ""
    }
   },
   "outputs": [],
   "source": [
    "# get minimum value of min lat\n",
    "df.select(\"min_lat\").agg({\"min_lat\": \"min\"}).show()\n",
    "df.select(\"min_lon\").agg({\"min_lon\": \"min\"}).show()\n",
    "df.select(\"max_lat\").agg({\"max_lat\": \"max\"}).show()\n",
    "df.select(\"max_lon\").agg({\"max_lon\": \"max\"}).show()\n"
   ]
  },
  {
   "cell_type": "code",
   "execution_count": 0,
   "metadata": {
    "application/vnd.databricks.v1+cell": {
     "cellMetadata": {
      "byteLimit": 2048000,
      "rowLimit": 10000
     },
     "inputWidgets": {},
     "nuid": "e651e1f3-03d2-4419-b785-8ad343792e9b",
     "showTitle": false,
     "tableResultSettingsMap": {},
     "title": ""
    }
   },
   "outputs": [],
   "source": [
    "target_min_lat = 25.11833\n",
    "target_max_lat = 49.38447\n",
    "target_min_lon = -124.73306\n",
    "target_max_lon = -66.94978\n",
    "\n",
    "df_fil = df.filter((col(\"min_lat\") >= target_min_lat) & (col(\"max_lat\") <= target_max_lat) & (col(\"min_lon\") >= target_min_lon) & (col(\"max_lon\") <= target_max_lon))\n",
    "df_fil.count()"
   ]
  },
  {
   "cell_type": "code",
   "execution_count": 0,
   "metadata": {
    "application/vnd.databricks.v1+cell": {
     "cellMetadata": {
      "byteLimit": 2048000,
      "rowLimit": 10000
     },
     "inputWidgets": {},
     "nuid": "afb29574-0dc3-44bc-a5e9-0fea8cf94bb6",
     "showTitle": false,
     "tableResultSettingsMap": {},
     "title": ""
    }
   },
   "outputs": [],
   "source": [
    "\n",
    "df_fil.write.mode(\"overwrite\").saveAsTable(\"main_prod.datascience_scratchpad.all_traj_test_v2\")"
   ]
  },
  {
   "cell_type": "code",
   "execution_count": 0,
   "metadata": {
    "application/vnd.databricks.v1+cell": {
     "cellMetadata": {
      "byteLimit": 2048000,
      "rowLimit": 10000
     },
     "inputWidgets": {},
     "nuid": "f4cafd09-4cf5-477f-8974-2fe9d06c8b4e",
     "showTitle": false,
     "tableResultSettingsMap": {},
     "title": ""
    }
   },
   "outputs": [],
   "source": [
    "df_fil.select(\"userid\").distinct().count()"
   ]
  },
  {
   "cell_type": "code",
   "execution_count": 0,
   "metadata": {
    "application/vnd.databricks.v1+cell": {
     "cellMetadata": {
      "byteLimit": 2048000,
      "rowLimit": 10000
     },
     "inputWidgets": {},
     "nuid": "cba578e7-dcc8-4919-ab8a-2980089e9a4e",
     "showTitle": false,
     "tableResultSettingsMap": {},
     "title": ""
    }
   },
   "outputs": [],
   "source": [
    "# choose 10000 userids from df_fil, randomly\n",
    "\n",
    "val_userids = df_fil.select(\"userid\").distinct().sample(False, 0.04).collect()"
   ]
  },
  {
   "cell_type": "code",
   "execution_count": 0,
   "metadata": {
    "application/vnd.databricks.v1+cell": {
     "cellMetadata": {
      "byteLimit": 2048000,
      "rowLimit": 10000
     },
     "inputWidgets": {},
     "nuid": "6d25584e-e274-4f0e-922b-7298bcd3526a",
     "showTitle": false,
     "tableResultSettingsMap": {},
     "title": ""
    }
   },
   "outputs": [],
   "source": [
    "val_df = df_fil.filter(col(\"userid\").isin([x.userid for x in val_userids]))\n",
    "display(val_df)"
   ]
  },
  {
   "cell_type": "code",
   "execution_count": 0,
   "metadata": {
    "application/vnd.databricks.v1+cell": {
     "cellMetadata": {
      "byteLimit": 2048000,
      "rowLimit": 10000
     },
     "inputWidgets": {},
     "nuid": "8b28f9da-91ab-452a-964e-b97fd544ff9e",
     "showTitle": false,
     "tableResultSettingsMap": {},
     "title": ""
    }
   },
   "outputs": [],
   "source": [
    "# randomly sample 50% of the data\n",
    "val_df = val_df.sample(False, 0.2)\n",
    "val_df.count()"
   ]
  },
  {
   "cell_type": "code",
   "execution_count": 0,
   "metadata": {
    "application/vnd.databricks.v1+cell": {
     "cellMetadata": {
      "byteLimit": 2048000,
      "rowLimit": 10000
     },
     "inputWidgets": {},
     "nuid": "71436b7b-ee68-44f3-8e69-aa85841f168f",
     "showTitle": false,
     "tableResultSettingsMap": {},
     "title": ""
    }
   },
   "outputs": [],
   "source": [
    "val_df.write.mode(\"overwrite\").saveAsTable(\"main_prod.datascience_scratchpad.all_traj_val\")"
   ]
  },
  {
   "cell_type": "code",
   "execution_count": 0,
   "metadata": {
    "application/vnd.databricks.v1+cell": {
     "cellMetadata": {
      "byteLimit": 2048000,
      "rowLimit": 10000
     },
     "inputWidgets": {},
     "nuid": "02d34726-4141-4836-a900-e6fd505c348c",
     "showTitle": false,
     "tableResultSettingsMap": {},
     "title": ""
    }
   },
   "outputs": [],
   "source": [
    "val_df.count()"
   ]
  },
  {
   "cell_type": "code",
   "execution_count": 0,
   "metadata": {
    "application/vnd.databricks.v1+cell": {
     "cellMetadata": {
      "byteLimit": 2048000,
      "rowLimit": 10000
     },
     "inputWidgets": {},
     "nuid": "419d1588-98e7-4c0a-a7cd-abeae8e73f14",
     "showTitle": false,
     "tableResultSettingsMap": {},
     "title": ""
    }
   },
   "outputs": [],
   "source": [
    "# check if userids in val_df are in df_train\n",
    "\n",
    "df_train = spark.read.table(\"main_prod.datascience_scratchpad.all_traj_train_v2\")\n",
    "display(df_train)\n"
   ]
  },
  {
   "cell_type": "code",
   "execution_count": 0,
   "metadata": {
    "application/vnd.databricks.v1+cell": {
     "cellMetadata": {
      "byteLimit": 2048000,
      "rowLimit": 10000
     },
     "inputWidgets": {},
     "nuid": "248a3e57-2b00-4948-81a6-e0478c80f149",
     "showTitle": false,
     "tableResultSettingsMap": {},
     "title": ""
    }
   },
   "outputs": [],
   "source": [
    "from pyspark.sql.functions import udf, col\n",
    "from pyspark.sql.types import IntegerType\n",
    "\n",
    "import math\n",
    "def lonlat2meters(lon, lat):\n",
    "    semimajoraxis = 6378137.0\n",
    "    east = lon * 0.017453292519943295\n",
    "    north = lat * 0.017453292519943295\n",
    "    t = math.sin(north)\n",
    "    return semimajoraxis * east, 3189068.5 * math.log((1 + t + 1e-5) / (1 - t + 1e-5))"
   ]
  },
  {
   "cell_type": "code",
   "execution_count": 0,
   "metadata": {
    "application/vnd.databricks.v1+cell": {
     "cellMetadata": {
      "byteLimit": 2048000,
      "rowLimit": 10000
     },
     "inputWidgets": {},
     "nuid": "582fd36a-ab3e-4376-8fa0-b2e0183994f4",
     "showTitle": false,
     "tableResultSettingsMap": {
      "0": {
       "dataGridStateBlob": "{\"version\":1,\"tableState\":{\"columnPinning\":{\"left\":[\"#row_number#\"],\"right\":[]},\"columnSizing\":{},\"columnVisibility\":{}},\"settings\":{\"columns\":{}},\"syncTimestamp\":1758255292972}",
       "filterBlob": null,
       "queryPlanFiltersBlob": null,
       "tableResultIndex": 0
      }
     },
     "title": ""
    }
   },
   "outputs": [],
   "source": [
    "\n",
    "def get_xyidx_by_point( x, y):\n",
    "    x_min = -13885220.72428684\n",
    "    y_min = 2890285.81199535\n",
    "    x_unit = 150000\n",
    "    y_unit = 150000\n",
    "    i_x = int(x - x_min) // x_unit\n",
    "    i_y = int(y - y_min) // y_unit\n",
    "    return (i_x, i_y)\n",
    "\n",
    "def get_cellid_by_xyidx(i_x: int, i_y: int):\n",
    "    y_max = 6340351.496013149\n",
    "    y_min = 2890285.81199535\n",
    "    y_unit = 150000\n",
    "    y_size = int(math.ceil((y_max - y_min) / y_unit))\n",
    "    return i_x * y_size + i_y\n",
    "\n",
    "def get_cellid_by_point(lon,lat):\n",
    "    x,y = lonlat2meters(lon,lat)\n",
    "    i_x, i_y = get_xyidx_by_point(x, y)\n",
    "    return get_cellid_by_xyidx(i_x, i_y)\n",
    "\n",
    "\n",
    "get_cellid_by_point_udf = udf(get_cellid_by_point, IntegerType())\n",
    "\n",
    "df_train = df_train.withColumn(\"cellid\", get_cellid_by_point_udf(col(\"min_lon\"), col(\"min_lat\")))\n",
    "\n",
    "display(df_train)\n",
    "\n",
    "\n"
   ]
  },
  {
   "cell_type": "code",
   "execution_count": 0,
   "metadata": {
    "application/vnd.databricks.v1+cell": {
     "cellMetadata": {
      "byteLimit": 2048000,
      "rowLimit": 10000
     },
     "inputWidgets": {},
     "nuid": "24dacfed-d608-41e7-9cf6-13fad007a6e9",
     "showTitle": false,
     "tableResultSettingsMap": {},
     "title": ""
    }
   },
   "outputs": [],
   "source": [
    "cell_ids = df_train.select(\"cellid\").distinct().collect()"
   ]
  },
  {
   "cell_type": "code",
   "execution_count": 0,
   "metadata": {
    "application/vnd.databricks.v1+cell": {
     "cellMetadata": {
      "byteLimit": 2048000,
      "rowLimit": 10000
     },
     "inputWidgets": {},
     "nuid": "0707dc79-b600-4c3d-b8f3-ec55a396ea9e",
     "showTitle": false,
     "tableResultSettingsMap": {},
     "title": ""
    }
   },
   "outputs": [],
   "source": [
    "len(cell_ids)"
   ]
  },
  {
   "cell_type": "code",
   "execution_count": 0,
   "metadata": {
    "application/vnd.databricks.v1+cell": {
     "cellMetadata": {
      "byteLimit": 2048000,
      "rowLimit": 10000
     },
     "inputWidgets": {},
     "nuid": "a7d3d28e-c9d8-45c0-b73b-f4e0d03b16b4",
     "showTitle": false,
     "tableResultSettingsMap": {
      "0": {
       "dataGridStateBlob": "{\"version\":1,\"tableState\":{\"columnPinning\":{\"left\":[\"#row_number#\"],\"right\":[]},\"columnSizing\":{},\"columnVisibility\":{}},\"settings\":{\"columns\":{}},\"syncTimestamp\":1758255864033}",
       "filterBlob": null,
       "queryPlanFiltersBlob": null,
       "tableResultIndex": 0
      }
     },
     "title": ""
    }
   },
   "outputs": [],
   "source": [
    "df_repart = df_train.repartition(\"cellid\")\n",
    "display(df_repart)"
   ]
  },
  {
   "cell_type": "code",
   "execution_count": 0,
   "metadata": {
    "application/vnd.databricks.v1+cell": {
     "cellMetadata": {
      "byteLimit": 2048000,
      "rowLimit": 10000
     },
     "inputWidgets": {},
     "nuid": "e83610fb-1fe5-479c-929f-6b8698c397d0",
     "showTitle": false,
     "tableResultSettingsMap": {},
     "title": ""
    }
   },
   "outputs": [],
   "source": [
    "from tqdm import tqdm\n",
    "\n",
    "for cell_id in tqdm(cell_ids):\n",
    "    df_train_fil = df_repart.filter(col(\"cellid\") == cell_id[0])\n",
    "    df_train_fil.write.mode(\"overwrite\").saveAsTable(\"main_prod.datascience_scratchpad.all_traj_train_v2_cell_{}\".format(cell_id[0]))\n"
   ]
  },
  {
   "cell_type": "code",
   "execution_count": 0,
   "metadata": {
    "application/vnd.databricks.v1+cell": {
     "cellMetadata": {
      "byteLimit": 2048000,
      "rowLimit": 10000
     },
     "inputWidgets": {},
     "nuid": "b23ea0b3-3ab9-462b-a584-a9abdc271c50",
     "showTitle": false,
     "tableResultSettingsMap": {},
     "title": ""
    }
   },
   "outputs": [],
   "source": [
    "# save cell_ids\n",
    "\n",
    "cell_ids_list = [cell_id[0] for cell_id in cell_ids]"
   ]
  },
  {
   "cell_type": "code",
   "execution_count": 0,
   "metadata": {
    "application/vnd.databricks.v1+cell": {
     "cellMetadata": {
      "byteLimit": 2048000,
      "rowLimit": 10000
     },
     "inputWidgets": {},
     "nuid": "5acd9563-77a4-4c6d-af82-b24414f322b0",
     "showTitle": false,
     "tableResultSettingsMap": {},
     "title": ""
    }
   },
   "outputs": [],
   "source": [
    "import pickle\n",
    "pickle.dump(cell_ids_list, open(\"/Workspace/Users/jatin.agrawal@earnin.com/TrajCL/data/cell_ids_list.pkl\", \"wb\"))"
   ]
  },
  {
   "cell_type": "code",
   "execution_count": 0,
   "metadata": {
    "application/vnd.databricks.v1+cell": {
     "cellMetadata": {
      "byteLimit": 2048000,
      "rowLimit": 10000
     },
     "inputWidgets": {},
     "nuid": "773d346b-5496-4393-aacc-48b92b4ba998",
     "showTitle": false,
     "tableResultSettingsMap": {},
     "title": ""
    }
   },
   "outputs": [],
   "source": [
    "import pickle\n",
    "cell_ids = pickle.load(open(\"/Workspace/Users/jatin.agrawal@earnin.com/TrajCL/data/cell_ids_list.pkl\", \"rb\"))\n",
    "\n",
    "cell_ids"
   ]
  },
  {
   "cell_type": "code",
   "execution_count": 0,
   "metadata": {
    "application/vnd.databricks.v1+cell": {
     "cellMetadata": {
      "byteLimit": 2048000,
      "rowLimit": 10000
     },
     "inputWidgets": {},
     "nuid": "93f4cb07-17c4-4c27-91b1-6ac8d486dc77",
     "showTitle": false,
     "tableResultSettingsMap": {},
     "title": ""
    }
   },
   "outputs": [],
   "source": [
    "from tqdm import tqdm\n",
    "for cell_id in cell_ids:\n",
    "    # remove the table\n",
    "    print(cell_id)\n",
    "    spark.sql(\"DROP TABLE IF EXISTS main_prod.datascience_scratchpad.all_traj_train_v2_cell_{}\".format(cell_id))"
   ]
  },
  {
   "cell_type": "code",
   "execution_count": 0,
   "metadata": {
    "application/vnd.databricks.v1+cell": {
     "cellMetadata": {
      "byteLimit": 2048000,
      "rowLimit": 10000
     },
     "inputWidgets": {},
     "nuid": "909ed831-d509-4ced-856d-c705ba342f97",
     "showTitle": false,
     "tableResultSettingsMap": {},
     "title": ""
    }
   },
   "outputs": [],
   "source": [
    "tables = spark.catalog.listTables(\"main_prod.datascience_scratchpad\")\n",
    "matching_tables = [t.name for t in tables if t.name.startswith(\"all_traj_train_cell_\")]"
   ]
  },
  {
   "cell_type": "code",
   "execution_count": 0,
   "metadata": {
    "application/vnd.databricks.v1+cell": {
     "cellMetadata": {
      "byteLimit": 2048000,
      "rowLimit": 10000
     },
     "inputWidgets": {},
     "nuid": "bcc82f6e-525f-45ed-a569-ea50391a2e0f",
     "showTitle": false,
     "tableResultSettingsMap": {},
     "title": ""
    }
   },
   "outputs": [],
   "source": [
    "tables = spark.catalog.listTables(\"main_prod.datascience_scratchpad\")"
   ]
  },
  {
   "cell_type": "code",
   "execution_count": 0,
   "metadata": {
    "application/vnd.databricks.v1+cell": {
     "cellMetadata": {},
     "inputWidgets": {},
     "nuid": "1ada8e63-9930-462f-9d33-75bff35e3623",
     "showTitle": false,
     "tableResultSettingsMap": {},
     "title": ""
    }
   },
   "outputs": [],
   "source": []
  }
 ],
 "metadata": {
  "application/vnd.databricks.v1+notebook": {
   "computePreferences": {
    "hardware": {
     "accelerator": null,
     "gpuPoolId": null,
     "memory": null
    }
   },
   "dashboards": [],
   "environmentMetadata": {
    "base_environment": "",
    "environment_version": "3"
   },
   "inputWidgetPreferences": null,
   "language": "python",
   "notebookMetadata": {
    "mostRecentlyExecutedCommandWithImplicitDF": {
     "commandId": 7498742014449846,
     "dataframes": [
      "_sqldf"
     ]
    },
    "pythonIndentUnit": 4
   },
   "notebookName": "create_train_traj_data",
   "widgets": {}
  },
  "language_info": {
   "name": "python"
  }
 },
 "nbformat": 4,
 "nbformat_minor": 0
}
