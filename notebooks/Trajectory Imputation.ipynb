{
 "cells": [
  {
   "cell_type": "code",
   "execution_count": 0,
   "metadata": {
    "application/vnd.databricks.v1+cell": {
     "cellMetadata": {
      "byteLimit": 2048000,
      "rowLimit": 10000
     },
     "inputWidgets": {},
     "nuid": "321c298e-6376-46d4-831f-84f1b0025f6c",
     "showTitle": false,
     "tableResultSettingsMap": {},
     "title": ""
    }
   },
   "outputs": [],
   "source": [
    "df = spark.read.table(\"main_prod.datascience_scratchpad.nyc_train_filtered\")\n",
    "display(df)"
   ]
  },
  {
   "cell_type": "code",
   "execution_count": 0,
   "metadata": {
    "application/vnd.databricks.v1+cell": {
     "cellMetadata": {
      "byteLimit": 2048000,
      "rowLimit": 10000
     },
     "inputWidgets": {},
     "nuid": "5118dd84-67fb-42e9-a3a7-4629d88f8630",
     "showTitle": false,
     "tableResultSettingsMap": {},
     "title": ""
    }
   },
   "outputs": [],
   "source": [
    "query = \"\"\"\n",
    "select * from main_prod.datascience_scratchpad.nyc_train_filtered where traj_id rlike '16808692_*'\n",
    "\"\"\"\n",
    "\n",
    "df = spark.sql(query)\n",
    "display(df)"
   ]
  },
  {
   "cell_type": "code",
   "execution_count": 0,
   "metadata": {
    "application/vnd.databricks.v1+cell": {
     "cellMetadata": {
      "byteLimit": 2048000,
      "rowLimit": 10000
     },
     "inputWidgets": {},
     "nuid": "adc4fce9-e8c2-44ac-9ad7-a5b6a112f645",
     "showTitle": false,
     "tableResultSettingsMap": {},
     "title": ""
    }
   },
   "outputs": [],
   "source": [
    "df_test = df.toPandas()"
   ]
  },
  {
   "cell_type": "code",
   "execution_count": 0,
   "metadata": {
    "application/vnd.databricks.v1+cell": {
     "cellMetadata": {
      "byteLimit": 2048000,
      "rowLimit": 10000
     },
     "inputWidgets": {},
     "nuid": "c25498e6-c97e-4233-9684-7b4910db63d9",
     "showTitle": false,
     "tableResultSettingsMap": {},
     "title": ""
    }
   },
   "outputs": [],
   "source": [
    "def ts_to_min_index_list(ts_list):\n",
    "    output = []\n",
    "    for ts in ts_list:\n",
    "        output.append(((ts.hour * 60) + ts.minute)//10)\n",
    "    return output\n",
    "\n",
    "\n",
    "df_test['ts_min_index'] = df_test['timestamps_filtered'].apply(ts_to_min_index_list)\n",
    "df_test.head()"
   ]
  },
  {
   "cell_type": "code",
   "execution_count": 0,
   "metadata": {
    "application/vnd.databricks.v1+cell": {
     "cellMetadata": {
      "byteLimit": 2048000,
      "rowLimit": 10000
     },
     "inputWidgets": {},
     "nuid": "21e9b331-ed0d-489a-b7c8-1475cd13c50d",
     "showTitle": false,
     "tableResultSettingsMap": {},
     "title": ""
    }
   },
   "outputs": [],
   "source": [
    "display(df_test)"
   ]
  },
  {
   "cell_type": "code",
   "execution_count": 0,
   "metadata": {
    "application/vnd.databricks.v1+cell": {
     "cellMetadata": {
      "byteLimit": 2048000,
      "rowLimit": 10000
     },
     "inputWidgets": {},
     "nuid": "3cabd31b-03b9-4967-945c-091e6a80e8ba",
     "showTitle": false,
     "tableResultSettingsMap": {},
     "title": ""
    }
   },
   "outputs": [],
   "source": [
    "import math\n",
    "def meters2lonlat(merc_points):\n",
    "    lon_lats = []\n",
    "    for point in merc_points:\n",
    "        x,y = point[0],point[1]\n",
    "        semimajoraxis = 6378137.0\n",
    "        lon = x / semimajoraxis / 0.017453292519943295\n",
    "        t = math.exp(y / 3189068.5)\n",
    "        lat = math.asin((t - 1) / (t + 1)) / 0.017453292519943295\n",
    "        lon_lats.append([lon,lat])\n",
    "    return lon_lats"
   ]
  },
  {
   "cell_type": "code",
   "execution_count": 0,
   "metadata": {
    "application/vnd.databricks.v1+cell": {
     "cellMetadata": {
      "byteLimit": 2048000,
      "rowLimit": 10000
     },
     "inputWidgets": {},
     "nuid": "e7a804de-cde4-46c0-ba72-cb780d43573a",
     "showTitle": false,
     "tableResultSettingsMap": {},
     "title": ""
    }
   },
   "outputs": [],
   "source": [
    "import numpy as np\n",
    "def dist(a,b):\n",
    "    return np.sqrt(np.square(a[0]-b[0]) + np.square(a[1]-b[1]))\n",
    "\n",
    "def get_imputed_merc_seq(merc_seq,ts_min_idx_list):\n",
    "    merc_seq_imputed = [merc_seq[0]]\n",
    "    for i in range(1,len(ts_min_idx_list)):\n",
    "        if ts_min_idx_list[i] - ts_min_idx_list[i-1]<=1:\n",
    "            merc_seq_imputed.append(merc_seq[i])\n",
    "        else:\n",
    "            n_points_to_impute = ts_min_idx_list[i] - ts_min_idx_list[i-1] - 1\n",
    "            dist_between_points = dist(merc_seq[i],merc_seq[i-1]) / (n_points_to_impute + 1)        \n",
    "            angle = np.arctan2(merc_seq[i][1]-merc_seq[i-1][1],merc_seq[i][0]-merc_seq[i-1][0])\n",
    "            for j in range(n_points_to_impute):\n",
    "                merc_seq_imputed.append([merc_seq[i-1][0] + (j+1)*dist_between_points*np.cos(angle),merc_seq[i-1][1] + (j+1)*dist_between_points*np.sin(angle)])\n",
    "            merc_seq_imputed.append(merc_seq[i])\n",
    "    return merc_seq_imputed\n",
    "df_test['merc_seq_imputed'] = df_test.apply(lambda x: get_imputed_merc_seq(x['merc_seq_filtered'],x['ts_min_index']),axis=1)\n",
    "display(df_test)"
   ]
  },
  {
   "cell_type": "code",
   "execution_count": 0,
   "metadata": {
    "application/vnd.databricks.v1+cell": {
     "cellMetadata": {
      "byteLimit": 2048000,
      "rowLimit": 10000
     },
     "inputWidgets": {},
     "nuid": "3b32074d-a661-44b2-aeff-0e80aee1740b",
     "showTitle": false,
     "tableResultSettingsMap": {},
     "title": ""
    }
   },
   "outputs": [],
   "source": [
    "df_test['wgs_seq_imputed'] = df_test['merc_seq_imputed'].apply(meters2lonlat)\n",
    "display(df_test)"
   ]
  },
  {
   "cell_type": "code",
   "execution_count": 0,
   "metadata": {
    "application/vnd.databricks.v1+cell": {
     "cellMetadata": {
      "byteLimit": 2048000,
      "rowLimit": 10000
     },
     "inputWidgets": {},
     "nuid": "f44af220-e432-4a83-b6a1-c9085de2a89d",
     "showTitle": false,
     "tableResultSettingsMap": {},
     "title": ""
    }
   },
   "outputs": [],
   "source": [
    "!pip install folium\n",
    "import folium\n",
    "\n",
    "from folium import plugins\n",
    "\n",
    "def display_traj(lon_lat_list, ts_list = None):\n",
    "    coordinates = [[x[1],x[0]] for x in lon_lat_list]\n",
    "    # Initialize map\n",
    "    m = folium.Map(location=coordinates[0], zoom_start=15)\n",
    "\n",
    "\n",
    "    # for lat,lon in pip_list:\n",
    "    #     folium.Marker(\n",
    "    #         location=[lat, lon],\n",
    "    #         popup=\"Pip Location\",\n",
    "    #         icon=folium.Icon(color='red')  # Color can be 'red', 'blue', 'green', 'purple', etc.\n",
    "    #     ).add_to(m)\n",
    "\n",
    "    folium.Marker(\n",
    "        location=coordinates[0],\n",
    "        popup=\"Start Location\",\n",
    "        icon=folium.Icon(color='green')  # Color can be 'red', 'blue', 'green', 'purple', etc.\n",
    "    ).add_to(m)\n",
    "    # Add markers\n",
    "    for i, (lat, lon) in enumerate(coordinates[1:]):\n",
    "        if ts_list is not None:\n",
    "            folium.Marker([lat, lon], popup=ts_list[i+1]).add_to(m)\n",
    "        else:\n",
    "            folium.Marker([lat, lon], popup=i+1).add_to(m)\n",
    "\n",
    "    # Draw arrows between points\n",
    "    for i in range(len(coordinates) - 1):\n",
    "        start = coordinates[i]\n",
    "        end = coordinates[i + 1]\n",
    "\n",
    "        # Draw the line\n",
    "        line = folium.PolyLine([start, end], color=\"blue\", weight=3, opacity=0.7).add_to(m)\n",
    "\n",
    "        # Add directional arrow\n",
    "        plugins.PolyLineTextPath(\n",
    "            line,\n",
    "            '➤',  # arrow symbol\n",
    "            repeat=True,\n",
    "            offset=7,\n",
    "            attributes={'fill': 'blue', 'font-weight': 'bold', 'font-size': '16'}\n",
    "            ).add_to(m)\n",
    "\n",
    "    # Save and show the map\n",
    "    m.save(\"map_with_arrows.html\")\n",
    "    return m\n"
   ]
  },
  {
   "cell_type": "code",
   "execution_count": 0,
   "metadata": {
    "application/vnd.databricks.v1+cell": {
     "cellMetadata": {
      "byteLimit": 2048000,
      "rowLimit": 10000
     },
     "inputWidgets": {},
     "nuid": "1dd91070-0b07-4a8b-9dc3-6c350f255e08",
     "showTitle": false,
     "tableResultSettingsMap": {},
     "title": ""
    }
   },
   "outputs": [],
   "source": [
    "lon_lat_list = [[-118.2491903,34.143541],[-118.2312814,34.14513],[-118.2027699,34.1062418],[-118.2149212,34.0893875],[-118.2255016,34.0847909],[-118.2016728,34.1051449],[-118.2027239,34.1063563],[-118.2152673,34.0778707],[-118.2049629,34.1075268],[-118.2027935,34.106452],[-118.2026069,34.1063128],[-118.2027695,34.1074327],[-118.2028208,34.1062947],[-118.2232401,34.1407364],[-118.2569078,34.1433059],[-118.256865,34.1435445],[-118.2572734,34.1444554],[-118.2418265,34.1429183],[-118.2035006,34.108211],[-118.2016728,34.1057851],[-118.2226625,34.0851249],[-118.2064365,34.1108443],[-118.2197235,34.1235245],[-118.2265297,34.1219972],[-118.203112,34.1131974],[-118.2082529,34.1172702],[-118.2031279,34.1131763],[-118.2030931,34.1133257],[-118.203123,34.1133915],[-118.2088545,34.1143289],[-118.2309159,34.1452212],[-118.2491903,34.143541],[-118.2466651,34.1463677],[-118.2480939,34.1447743],[-118.2467169,34.1464383]]"
   ]
  },
  {
   "cell_type": "code",
   "execution_count": 0,
   "metadata": {
    "application/vnd.databricks.v1+cell": {
     "cellMetadata": {
      "byteLimit": 2048000,
      "rowLimit": 10000
     },
     "inputWidgets": {},
     "nuid": "e2163927-8967-4312-b75f-8fa37b012e8d",
     "showTitle": false,
     "tableResultSettingsMap": {},
     "title": ""
    }
   },
   "outputs": [],
   "source": [
    "display_traj(lon_lat_list)"
   ]
  },
  {
   "cell_type": "code",
   "execution_count": 0,
   "metadata": {
    "application/vnd.databricks.v1+cell": {
     "cellMetadata": {
      "byteLimit": 2048000,
      "rowLimit": 10000
     },
     "inputWidgets": {},
     "nuid": "5ca346f8-cd55-45a5-9ef0-bc164ac74096",
     "showTitle": false,
     "tableResultSettingsMap": {},
     "title": ""
    }
   },
   "outputs": [],
   "source": [
    "lon_lat_list = [(40.43116766093053, 40.38062059358551),\n",
    " (40.40652216879592, 40.38045216033828),\n",
    " (40.4057085377607, 40.383764670450745),\n",
    " (40.43660827574164, 40.37958192099031),\n",
    " (40.436558649018274, 40.37537106403637),\n",
    " (40.457481350981766, 40.361531130966995),\n",
    " (40.42744431568493, 40.22707012054006),\n",
    " (40.34843588499669, 40.245153850686116),\n",
    " (40.34314180518816, 40.24652975984849),\n",
    " (40.34251864901827, 40.24832685998045),\n",
    " (40.367953511255145, 40.290865700480786),\n",
    " (40.38198073465079, 40.32517491711977),\n",
    " (40.410793149018275, 40.33693833679479),\n",
    " (40.418285451558965, 40.370486425532526),\n",
    " (40.43912960241792, 40.38062059358551)]"
   ]
  },
  {
   "cell_type": "code",
   "execution_count": 0,
   "metadata": {
    "application/vnd.databricks.v1+cell": {
     "cellMetadata": {
      "byteLimit": 2048000,
      "rowLimit": 10000
     },
     "inputWidgets": {},
     "nuid": "ca710b98-a4d5-462f-a1ef-08c47a0ad912",
     "showTitle": false,
     "tableResultSettingsMap": {},
     "title": ""
    }
   },
   "outputs": [],
   "source": [
    "display_traj(lon_lat_list)"
   ]
  },
  {
   "cell_type": "code",
   "execution_count": 0,
   "metadata": {
    "application/vnd.databricks.v1+cell": {
     "cellMetadata": {
      "byteLimit": 2048000,
      "rowLimit": 10000
     },
     "inputWidgets": {},
     "nuid": "56a39970-ed42-4c45-807c-b48665846af0",
     "showTitle": false,
     "tableResultSettingsMap": {},
     "title": ""
    }
   },
   "outputs": [],
   "source": [
    "traj_id = \"16808692_2024-06-18\"\n",
    "\n",
    "display_traj(df_test[df_test['traj_id']==traj_id]['wgs_seq_filtered'].iloc[0], df_test[df_test['traj_id']==traj_id]['ts_min_index'].iloc[0])"
   ]
  },
  {
   "cell_type": "code",
   "execution_count": 0,
   "metadata": {
    "application/vnd.databricks.v1+cell": {
     "cellMetadata": {
      "byteLimit": 2048000,
      "rowLimit": 10000
     },
     "inputWidgets": {},
     "nuid": "485a39d7-88e9-42c2-a5cb-68cb88fa49a4",
     "showTitle": false,
     "tableResultSettingsMap": {},
     "title": ""
    }
   },
   "outputs": [],
   "source": [
    "display_traj(df_test[df_test['traj_id']==traj_id]['wgs_seq_imputed'].iloc[0])"
   ]
  },
  {
   "cell_type": "markdown",
   "metadata": {
    "application/vnd.databricks.v1+cell": {
     "cellMetadata": {},
     "inputWidgets": {},
     "nuid": "02c7f6c5-b6d5-47d5-80a2-f3528cf1854b",
     "showTitle": false,
     "tableResultSettingsMap": {},
     "title": ""
    }
   },
   "source": [
    "## Apply Imputation on Test set"
   ]
  },
  {
   "cell_type": "code",
   "execution_count": 0,
   "metadata": {
    "application/vnd.databricks.v1+cell": {
     "cellMetadata": {
      "byteLimit": 2048000,
      "rowLimit": 10000
     },
     "inputWidgets": {},
     "nuid": "23a3469a-b023-40df-884c-d8e1c371e2d2",
     "showTitle": false,
     "tableResultSettingsMap": {},
     "title": ""
    }
   },
   "outputs": [],
   "source": [
    "# df_test = spark.read.parquet(\"/Volumes/main_prod/datascience_scratchpad/jatin/trajcl_exp/nyc/inference_data_v3/traj_test_df_v3_with_ts.parquet\")\n",
    "df_test = spark.read.table(\"main_prod.datascience_scratchpad.nyc_train_with_time_index\")\n",
    "display(df_test)"
   ]
  },
  {
   "cell_type": "code",
   "execution_count": 0,
   "metadata": {
    "application/vnd.databricks.v1+cell": {
     "cellMetadata": {
      "byteLimit": 2048000,
      "rowLimit": 10000
     },
     "inputWidgets": {},
     "nuid": "d639942d-dbf2-49ef-a377-7c5631e8ccad",
     "showTitle": false,
     "tableResultSettingsMap": {},
     "title": ""
    }
   },
   "outputs": [],
   "source": [
    "import numpy as np\n",
    "\n",
    "def dist(a, b):\n",
    "    return np.sqrt(np.square(a[0] - b[0]) + np.square(a[1] - b[1]))\n",
    "\n",
    "def get_imputed_merc_seq(merc_seq, ts_min_idx_list):\n",
    "    merc_seq_imputed = [list(map(float, merc_seq[0]))]  # Ensure native Python floats\n",
    "\n",
    "    for i in range(1, len(ts_min_idx_list)):\n",
    "        if ts_min_idx_list[i] - ts_min_idx_list[i - 1] <= 1:\n",
    "            merc_seq_imputed.append(list(map(float, merc_seq[i])))\n",
    "        else:\n",
    "            n_points_to_impute = ts_min_idx_list[i] - ts_min_idx_list[i - 1] - 1\n",
    "            dist_between_points = float(dist(merc_seq[i], merc_seq[i - 1]) / (n_points_to_impute + 1))\n",
    "            angle = np.arctan2(merc_seq[i][1] - merc_seq[i - 1][1], merc_seq[i][0] - merc_seq[i - 1][0])\n",
    "            \n",
    "            for j in range(n_points_to_impute):\n",
    "                x = float(merc_seq[i - 1][0] + (j + 1) * dist_between_points * np.cos(angle))\n",
    "                y = float(merc_seq[i - 1][1] + (j + 1) * dist_between_points * np.sin(angle))\n",
    "                merc_seq_imputed.append([x, y])\n",
    "            \n",
    "            merc_seq_imputed.append(list(map(float, merc_seq[i])))\n",
    "\n",
    "    return merc_seq_imputed\n"
   ]
  },
  {
   "cell_type": "code",
   "execution_count": 0,
   "metadata": {
    "application/vnd.databricks.v1+cell": {
     "cellMetadata": {
      "byteLimit": 2048000,
      "rowLimit": 10000
     },
     "inputWidgets": {},
     "nuid": "1c0c12e9-a782-41e2-b25f-bb61bc3b05b4",
     "showTitle": false,
     "tableResultSettingsMap": {},
     "title": ""
    }
   },
   "outputs": [],
   "source": [
    "from pyspark.sql.functions import udf\n",
    "from pyspark.sql.types import StringType, ArrayType, DoubleType\n",
    "\n",
    "# Define the UDF\n",
    "get_imputed_merc_seq_udf = udf(get_imputed_merc_seq, ArrayType(ArrayType(DoubleType())))\n",
    "\n",
    "# Apply the UDF to create a new column\n",
    "df_test = df_test.withColumn('merc_seq_imputed', get_imputed_merc_seq_udf(df_test['merc_seq_filtered'], df_test['time_index_list']))\n",
    "\n",
    "display(df_test)"
   ]
  },
  {
   "cell_type": "code",
   "execution_count": 0,
   "metadata": {
    "application/vnd.databricks.v1+cell": {
     "cellMetadata": {
      "byteLimit": 2048000,
      "rowLimit": 10000
     },
     "inputWidgets": {},
     "nuid": "d361132c-dc4b-40fe-a2c9-1cba3bf9094f",
     "showTitle": false,
     "tableResultSettingsMap": {},
     "title": ""
    }
   },
   "outputs": [],
   "source": [
    "df_test.createOrReplaceTempView(\"train_imputed\")\n",
    "query = \"\"\"\n",
    "select * from train_imputed where traj_id like '4474029%'\n",
    "\"\"\"\n",
    "df_test_filtered = spark.sql(query)\n",
    "display(df_test_filtered)"
   ]
  },
  {
   "cell_type": "code",
   "execution_count": 0,
   "metadata": {
    "application/vnd.databricks.v1+cell": {
     "cellMetadata": {
      "byteLimit": 2048000,
      "rowLimit": 10000
     },
     "inputWidgets": {},
     "nuid": "034f306c-a297-4c7e-a2b9-e4b17b7fe013",
     "showTitle": false,
     "tableResultSettingsMap": {},
     "title": ""
    }
   },
   "outputs": [],
   "source": [
    "# from pyspark.sql.functions import col\n",
    "# df_test_filtered = df_test.filter(col('traj_id').like(\"4474029_\"))\n",
    "df_test_pd = df_test_filtered.toPandas()"
   ]
  },
  {
   "cell_type": "code",
   "execution_count": 0,
   "metadata": {
    "application/vnd.databricks.v1+cell": {
     "cellMetadata": {
      "byteLimit": 2048000,
      "rowLimit": 10000
     },
     "inputWidgets": {},
     "nuid": "e48a9971-1ac1-4582-9ca2-9173803b65da",
     "showTitle": false,
     "tableResultSettingsMap": {},
     "title": ""
    }
   },
   "outputs": [],
   "source": [
    "df_test_pd"
   ]
  },
  {
   "cell_type": "code",
   "execution_count": 0,
   "metadata": {
    "application/vnd.databricks.v1+cell": {
     "cellMetadata": {
      "byteLimit": 2048000,
      "rowLimit": 10000
     },
     "inputWidgets": {},
     "nuid": "89d85798-5f54-4255-9043-d264dd2376c1",
     "showTitle": false,
     "tableResultSettingsMap": {},
     "title": ""
    }
   },
   "outputs": [],
   "source": [
    "traj_id = \"4474029_2019-10-07\"\n",
    "\n",
    "display_traj(df_test_pd[df_test_pd['traj_id']==traj_id]['wgs_seq_filtered'].iloc[0], df_test_pd[df_test_pd['traj_id']==traj_id]['time_index_list'].iloc[0])"
   ]
  },
  {
   "cell_type": "code",
   "execution_count": 0,
   "metadata": {
    "application/vnd.databricks.v1+cell": {
     "cellMetadata": {
      "byteLimit": 2048000,
      "rowLimit": 10000
     },
     "inputWidgets": {},
     "nuid": "d22864fd-578b-4568-b1b4-a9e1d942af67",
     "showTitle": false,
     "tableResultSettingsMap": {},
     "title": ""
    }
   },
   "outputs": [],
   "source": [
    "df_test_pd['wgs_seq_imputed'] = df_test_pd['merc_seq_imputed'].apply(meters2lonlat)\n",
    "display(df_test_pd)"
   ]
  },
  {
   "cell_type": "code",
   "execution_count": 0,
   "metadata": {
    "application/vnd.databricks.v1+cell": {
     "cellMetadata": {
      "byteLimit": 2048000,
      "rowLimit": 10000
     },
     "inputWidgets": {},
     "nuid": "e19253ba-2a4c-4f76-a03a-0149464bcbf5",
     "showTitle": false,
     "tableResultSettingsMap": {},
     "title": ""
    }
   },
   "outputs": [],
   "source": [
    "display_traj(df_test_pd[df_test_pd['traj_id']==traj_id]['wgs_seq_imputed'].iloc[0])"
   ]
  },
  {
   "cell_type": "code",
   "execution_count": 0,
   "metadata": {
    "application/vnd.databricks.v1+cell": {
     "cellMetadata": {
      "byteLimit": 2048000,
      "rowLimit": 10000
     },
     "inputWidgets": {},
     "nuid": "d85ff090-2639-4df2-a5d5-a4cada74a1f5",
     "showTitle": false,
     "tableResultSettingsMap": {},
     "title": ""
    }
   },
   "outputs": [],
   "source": [
    "# df_test.write.mode(\"overwrite\").parquet(\"/Volumes/main_prod/datascience_scratchpad/jatin/trajcl_exp/nyc/inference_data_v3/traj_test_df_v3_imputed.parquet\")"
   ]
  },
  {
   "cell_type": "code",
   "execution_count": 0,
   "metadata": {
    "application/vnd.databricks.v1+cell": {
     "cellMetadata": {
      "byteLimit": 2048000,
      "rowLimit": 10000
     },
     "inputWidgets": {},
     "nuid": "7525edd4-e03d-4076-92c0-fcf22b88a1a3",
     "showTitle": false,
     "tableResultSettingsMap": {},
     "title": ""
    }
   },
   "outputs": [],
   "source": [
    "df_test.write.mode(\"overwrite\").saveAsTable(\"main_prod.datascience_scratchpad.nyc_train_imputed\")"
   ]
  },
  {
   "cell_type": "code",
   "execution_count": 0,
   "metadata": {
    "application/vnd.databricks.v1+cell": {
     "cellMetadata": {},
     "inputWidgets": {},
     "nuid": "19bc6a39-d700-448b-936d-4d902e3f8f90",
     "showTitle": false,
     "tableResultSettingsMap": {},
     "title": ""
    }
   },
   "outputs": [],
   "source": []
  }
 ],
 "metadata": {
  "application/vnd.databricks.v1+notebook": {
   "computePreferences": {
    "hardware": {
     "accelerator": null,
     "gpuPoolId": null,
     "memory": null
    }
   },
   "dashboards": [],
   "environmentMetadata": {
    "base_environment": "",
    "environment_version": "2"
   },
   "inputWidgetPreferences": null,
   "language": "python",
   "notebookMetadata": {
    "pythonIndentUnit": 4
   },
   "notebookName": "Trajectory Imputation",
   "widgets": {}
  },
  "language_info": {
   "name": "python"
  }
 },
 "nbformat": 4,
 "nbformat_minor": 0
}
