{
 "cells": [
  {
   "cell_type": "code",
   "execution_count": 0,
   "metadata": {
    "application/vnd.databricks.v1+cell": {
     "cellMetadata": {
      "byteLimit": 2048000,
      "rowLimit": 10000
     },
     "inputWidgets": {},
     "nuid": "2f1fe527-1aeb-4ed7-9269-1c05c1150da7",
     "showTitle": false,
     "tableResultSettingsMap": {},
     "title": ""
    }
   },
   "outputs": [],
   "source": [
    "df = spark.read.table(\"main_prod.datascience_scratchpad.nyc_train_filtered\")\n",
    "\n",
    "display(df)"
   ]
  },
  {
   "cell_type": "code",
   "execution_count": 0,
   "metadata": {
    "application/vnd.databricks.v1+cell": {
     "cellMetadata": {
      "byteLimit": 2048000,
      "rowLimit": 10000
     },
     "inputWidgets": {},
     "nuid": "fbf3e742-38b6-41ab-9aa8-967556ee8990",
     "showTitle": false,
     "tableResultSettingsMap": {},
     "title": ""
    }
   },
   "outputs": [],
   "source": [
    "from pyspark.sql import functions as fn\n",
    "\n",
    "# def get_min_max_xy(mer_seq):\n",
    "#     min_x = min([x[0] for x in mer_seq])\n",
    "#     min_y = min([x[1] for x in mer_seq])\n",
    "#     max_x = max([x[0] for x in mer_seq])\n",
    "#     max_y = max([x[1] for x in mer_seq])\n",
    "#     return min_x, min_y, max_x, max_y\n",
    "\n",
    "\n",
    "\n",
    "df = df.withColumn('min_x', fn.expr(\"array_min(merc_seq_filtered)[0]\"))\n",
    "df = df.withColumn('min_y', fn.expr(\"array_min(merc_seq_filtered)[1]\"))\n",
    "df = df.withColumn('max_x', fn.expr(\"array_max(merc_seq_filtered)[0]\"))\n",
    "df = df.withColumn('max_y', fn.expr(\"array_max(merc_seq_filtered)[1]\"))\n",
    "# df = df.withColumn('min_max_xy', fn.expr(\"array(min_x, min_y, max_x, max_y)\"))\n",
    "# df = df.drop('min_x', 'min_y', 'max_x', 'max_y')\n",
    "display(df)"
   ]
  },
  {
   "cell_type": "code",
   "execution_count": 0,
   "metadata": {
    "application/vnd.databricks.v1+cell": {
     "cellMetadata": {
      "byteLimit": 2048000,
      "rowLimit": 10000
     },
     "inputWidgets": {},
     "nuid": "1df883e6-b634-4d99-ab05-260abc3371e8",
     "showTitle": false,
     "tableResultSettingsMap": {},
     "title": ""
    }
   },
   "outputs": [],
   "source": [
    "# get minimum value of min_x\n",
    "df.select(fn.expr(\"min(min_x)\")).show()\n",
    "# get maximum value of max_x\n",
    "df.select(fn.expr(\"max(max_x)\")).show()\n",
    "# get minimum value of min_y\n",
    "df.select(fn.expr(\"min(min_y)\")).show()\n",
    "# get maximum value of max_y\n",
    "df.select(fn.expr(\"max(max_y)\")).show()"
   ]
  },
  {
   "cell_type": "code",
   "execution_count": 0,
   "metadata": {
    "application/vnd.databricks.v1+cell": {
     "cellMetadata": {
      "byteLimit": 2048000,
      "rowLimit": 10000
     },
     "inputWidgets": {},
     "nuid": "0460f580-4ac1-4202-9715-e94c837da835",
     "showTitle": false,
     "tableResultSettingsMap": {},
     "title": ""
    }
   },
   "outputs": [],
   "source": [
    "minx = df.select(fn.expr(\"min(min_x)\")).collect()[0][0]\n",
    "maxx = df.select(fn.expr(\"max(max_x)\")).collect()[0][0]\n",
    "miny = df.select(fn.expr(\"min(min_y)\")).collect()[0][0]\n",
    "maxy = df.select(fn.expr(\"max(max_y)\")).collect()[0][0]\n",
    "print(minx, maxx, miny, maxy)\n"
   ]
  },
  {
   "cell_type": "code",
   "execution_count": 0,
   "metadata": {
    "application/vnd.databricks.v1+cell": {
     "cellMetadata": {
      "byteLimit": 2048000,
      "rowLimit": 10000
     },
     "inputWidgets": {},
     "nuid": "e54dc4bd-33ee-40c3-92c1-9186992ef15e",
     "showTitle": false,
     "tableResultSettingsMap": {},
     "title": ""
    }
   },
   "outputs": [],
   "source": [
    "minx = -8263433.7868088\n",
    "maxx = -8230319.922972946\n",
    "miny = 4988765.250473092\n",
    "maxy = 4989832.581771174\n",
    "offsetx = (k-(maxx-minx))/2\n",
    "print(offsetx)"
   ]
  },
  {
   "cell_type": "code",
   "execution_count": 0,
   "metadata": {
    "application/vnd.databricks.v1+cell": {
     "cellMetadata": {
      "byteLimit": 2048000,
      "rowLimit": 10000
     },
     "inputWidgets": {},
     "nuid": "1c65890d-4f12-41f2-8f0f-d630150f1ddc",
     "showTitle": false,
     "tableResultSettingsMap": {},
     "title": ""
    }
   },
   "outputs": [],
   "source": [
    "k = 100000\n",
    "dx = (k - maxx - minx)/2\n",
    "dy = (k - maxy - miny)/2\n",
    "print(dx, dy)"
   ]
  },
  {
   "cell_type": "code",
   "execution_count": 0,
   "metadata": {
    "application/vnd.databricks.v1+cell": {
     "cellMetadata": {
      "byteLimit": 2048000,
      "rowLimit": 10000
     },
     "inputWidgets": {},
     "nuid": "d10b4cdc-7b69-48fe-b8c0-9530345a88a2",
     "showTitle": false,
     "tableResultSettingsMap": {},
     "title": ""
    }
   },
   "outputs": [],
   "source": [
    "from pyspark.sql.types import ArrayType, FloatType, DoubleType\n",
    "def transform_traj(mer_seq):\n",
    "    return [(x[0] + dx, x[1] + dy) for x in mer_seq]\n",
    "transform_traj_udf = fn.udf(transform_traj, returnType=ArrayType(ArrayType(DoubleType())))\n",
    "df = df.withColumn('merc_seq_transformed', transform_traj_udf('merc_seq_filtered'))\n",
    "display(df)"
   ]
  },
  {
   "cell_type": "code",
   "execution_count": 0,
   "metadata": {
    "application/vnd.databricks.v1+cell": {
     "cellMetadata": {},
     "inputWidgets": {},
     "nuid": "39b027cc-2552-42c6-b540-116fa7347ef9",
     "showTitle": false,
     "tableResultSettingsMap": {},
     "title": ""
    }
   },
   "outputs": [],
   "source": []
  },
  {
   "cell_type": "code",
   "execution_count": 0,
   "metadata": {
    "application/vnd.databricks.v1+cell": {
     "cellMetadata": {
      "byteLimit": 2048000,
      "rowLimit": 10000
     },
     "inputWidgets": {},
     "nuid": "d3f8fb27-9b1a-4526-9ada-ebdffeeead53",
     "showTitle": false,
     "tableResultSettingsMap": {},
     "title": ""
    }
   },
   "outputs": [],
   "source": [
    "df"
   ]
  },
  {
   "cell_type": "code",
   "execution_count": 0,
   "metadata": {
    "application/vnd.databricks.v1+cell": {
     "cellMetadata": {
      "byteLimit": 2048000,
      "rowLimit": 10000
     },
     "inputWidgets": {},
     "nuid": "48136668-ec7d-4488-8c64-25ddf7e07b7a",
     "showTitle": false,
     "tableResultSettingsMap": {},
     "title": ""
    }
   },
   "outputs": [],
   "source": [
    "import math\n",
    "def meters2lonlat(merc_points):\n",
    "    lon_lats = []\n",
    "    for point in merc_points:\n",
    "        x,y = point[0],point[1]\n",
    "        semimajoraxis = 6378137.0\n",
    "        lon = x / semimajoraxis / 0.017453292519943295\n",
    "        t = math.exp(y / 3189068.5)\n",
    "        lat = math.asin((t - 1) / (t + 1)) / 0.017453292519943295\n",
    "        lon_lats.append([lon,lat])\n",
    "    return lon_lats"
   ]
  },
  {
   "cell_type": "code",
   "execution_count": 0,
   "metadata": {
    "application/vnd.databricks.v1+cell": {
     "cellMetadata": {
      "byteLimit": 2048000,
      "rowLimit": 10000
     },
     "inputWidgets": {},
     "nuid": "b5f8556e-c67b-435b-942d-ee02f099aca9",
     "showTitle": false,
     "tableResultSettingsMap": {},
     "title": ""
    }
   },
   "outputs": [],
   "source": [
    "transformed_lonlat_udf = fn.udf(meters2lonlat, returnType=ArrayType(ArrayType(DoubleType())))\n",
    "df = df.withColumn('wgs_seq_transformed', transformed_lonlat_udf('merc_seq_transformed'))\n",
    "display(df)"
   ]
  },
  {
   "cell_type": "code",
   "execution_count": 0,
   "metadata": {
    "application/vnd.databricks.v1+cell": {
     "cellMetadata": {
      "byteLimit": 2048000,
      "rowLimit": 10000
     },
     "inputWidgets": {},
     "nuid": "47499b1a-aa7a-466e-ab5f-568be13b3873",
     "showTitle": false,
     "tableResultSettingsMap": {},
     "title": ""
    }
   },
   "outputs": [],
   "source": [
    "!pip install folium\n",
    "import folium\n",
    "\n",
    "from folium import plugins\n",
    "\n",
    "def display_traj(lon_lat_list, ts_list = None):\n",
    "    coordinates = [[x[1],x[0]] for x in lon_lat_list]\n",
    "    # Initialize map\n",
    "    m = folium.Map(location=coordinates[0], zoom_start=15)\n",
    "\n",
    "\n",
    "    # for lat,lon in pip_list:\n",
    "    #     folium.Marker(\n",
    "    #         location=[lat, lon],\n",
    "    #         popup=\"Pip Location\",\n",
    "    #         icon=folium.Icon(color='red')  # Color can be 'red', 'blue', 'green', 'purple', etc.\n",
    "    #     ).add_to(m)\n",
    "\n",
    "    folium.Marker(\n",
    "        location=coordinates[0],\n",
    "        popup=\"Start Location\",\n",
    "        icon=folium.Icon(color='green')  # Color can be 'red', 'blue', 'green', 'purple', etc.\n",
    "    ).add_to(m)\n",
    "    # Add markers\n",
    "    for i, (lat, lon) in enumerate(coordinates[1:]):\n",
    "        if ts_list is not None:\n",
    "            folium.Marker([lat, lon], popup=ts_list[i+1]).add_to(m)\n",
    "        else:\n",
    "            folium.Marker([lat, lon], popup=i+1).add_to(m)\n",
    "\n",
    "    # Draw arrows between points\n",
    "    for i in range(len(coordinates) - 1):\n",
    "        start = coordinates[i]\n",
    "        end = coordinates[i + 1]\n",
    "\n",
    "        # Draw the line\n",
    "        line = folium.PolyLine([start, end], color=\"blue\", weight=3, opacity=0.7).add_to(m)\n",
    "\n",
    "        # Add directional arrow\n",
    "        plugins.PolyLineTextPath(\n",
    "            line,\n",
    "            '➤',  # arrow symbol\n",
    "            repeat=True,\n",
    "            offset=7,\n",
    "            attributes={'fill': 'blue', 'font-weight': 'bold', 'font-size': '16'}\n",
    "            ).add_to(m)\n",
    "\n",
    "    # Save and show the map\n",
    "    m.save(\"map_with_arrows.html\")\n",
    "    return m\n"
   ]
  },
  {
   "cell_type": "code",
   "execution_count": 0,
   "metadata": {
    "application/vnd.databricks.v1+cell": {
     "cellMetadata": {
      "byteLimit": 2048000,
      "rowLimit": 10000
     },
     "inputWidgets": {},
     "nuid": "e2e0c555-564c-4854-a53a-69b3bb6732e7",
     "showTitle": false,
     "tableResultSettingsMap": {},
     "title": ""
    }
   },
   "outputs": [],
   "source": [
    "df.createOrReplaceTempView(\"temp_df\")"
   ]
  },
  {
   "cell_type": "code",
   "execution_count": 0,
   "metadata": {
    "application/vnd.databricks.v1+cell": {
     "cellMetadata": {
      "byteLimit": 2048000,
      "rowLimit": 10000
     },
     "inputWidgets": {},
     "nuid": "147d16d8-96d1-49f0-864b-37f75057bd50",
     "showTitle": false,
     "tableResultSettingsMap": {},
     "title": ""
    }
   },
   "outputs": [],
   "source": [
    "query = \"\"\"\n",
    "select * from temp_df where traj_id rlike '16808692_*'\n",
    "\"\"\"\n",
    "\n",
    "df_fil = spark.sql(query)\n",
    "display(df_fil)"
   ]
  },
  {
   "cell_type": "code",
   "execution_count": 0,
   "metadata": {
    "application/vnd.databricks.v1+cell": {
     "cellMetadata": {
      "byteLimit": 2048000,
      "rowLimit": 10000
     },
     "inputWidgets": {},
     "nuid": "d61845f2-00cd-4e17-ae88-949083d77722",
     "showTitle": false,
     "tableResultSettingsMap": {},
     "title": ""
    }
   },
   "outputs": [],
   "source": [
    "df_pd = df_fil.toPandas()"
   ]
  },
  {
   "cell_type": "code",
   "execution_count": 0,
   "metadata": {
    "application/vnd.databricks.v1+cell": {
     "cellMetadata": {
      "byteLimit": 2048000,
      "rowLimit": 10000
     },
     "inputWidgets": {},
     "nuid": "0555ac41-488f-4752-b22a-4d818c6013c1",
     "showTitle": false,
     "tableResultSettingsMap": {},
     "title": ""
    }
   },
   "outputs": [],
   "source": [
    "df_pd.head()"
   ]
  },
  {
   "cell_type": "code",
   "execution_count": 0,
   "metadata": {
    "application/vnd.databricks.v1+cell": {
     "cellMetadata": {
      "byteLimit": 2048000,
      "rowLimit": 10000
     },
     "inputWidgets": {},
     "nuid": "2c3d1945-1298-40ef-8a35-717b7650f0c3",
     "showTitle": false,
     "tableResultSettingsMap": {},
     "title": ""
    }
   },
   "outputs": [],
   "source": [
    "traj_id = \"16808692_2023-08-31\"\n",
    "\n",
    "display_traj(df_pd[df_pd['traj_id']==traj_id]['wgs_seq_transformed'].iloc[0])"
   ]
  },
  {
   "cell_type": "code",
   "execution_count": 0,
   "metadata": {
    "application/vnd.databricks.v1+cell": {
     "cellMetadata": {
      "byteLimit": 2048000,
      "rowLimit": 10000
     },
     "inputWidgets": {},
     "nuid": "3c41672c-e354-42af-8f33-e2af6be79862",
     "showTitle": false,
     "tableResultSettingsMap": {},
     "title": ""
    }
   },
   "outputs": [],
   "source": [
    "traj_id = \"16808692_2023-08-31\"\n",
    "\n",
    "display_traj(df_pd[df_pd['traj_id']==traj_id]['wgs_seq_filtered'].iloc[0])"
   ]
  },
  {
   "cell_type": "code",
   "execution_count": 0,
   "metadata": {
    "application/vnd.databricks.v1+cell": {
     "cellMetadata": {},
     "inputWidgets": {},
     "nuid": "a59badeb-704f-4e97-bc87-8402fac0086f",
     "showTitle": false,
     "tableResultSettingsMap": {},
     "title": ""
    }
   },
   "outputs": [],
   "source": []
  }
 ],
 "metadata": {
  "application/vnd.databricks.v1+notebook": {
   "computePreferences": {
    "hardware": {
     "accelerator": null,
     "gpuPoolId": null,
     "memory": null
    }
   },
   "dashboards": [],
   "environmentMetadata": {
    "base_environment": "",
    "environment_version": "3"
   },
   "inputWidgetPreferences": null,
   "language": "python",
   "notebookMetadata": {
    "pythonIndentUnit": 4
   },
   "notebookName": "Trajectory Normalization",
   "widgets": {}
  },
  "language_info": {
   "name": "python"
  }
 },
 "nbformat": 4,
 "nbformat_minor": 0
}
