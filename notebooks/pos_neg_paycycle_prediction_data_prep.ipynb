{
 "cells": [
  {
   "cell_type": "code",
   "execution_count": 0,
   "metadata": {
    "application/vnd.databricks.v1+cell": {
     "cellMetadata": {
      "byteLimit": 2048000,
      "rowLimit": 10000
     },
     "inputWidgets": {},
     "nuid": "c0710c9f-a9fb-4c00-a14d-5e7d66d27704",
     "showTitle": false,
     "tableResultSettingsMap": {},
     "title": ""
    }
   },
   "outputs": [],
   "source": [
    "query = \"\"\"\n",
    "select * from main_prod.datascience_scratchpad.all_traj_test_v2\n",
    "\"\"\"\n",
    "df = spark.sql(query)\n",
    "df.createOrReplaceTempView(\"all_traj_test_data\")\n",
    "display(df)"
   ]
  },
  {
   "cell_type": "code",
   "execution_count": 0,
   "metadata": {
    "application/vnd.databricks.v1+cell": {
     "cellMetadata": {
      "byteLimit": 2048000,
      "rowLimit": 10000
     },
     "inputWidgets": {},
     "nuid": "dcb514bc-c8c8-4cce-b974-0b5c20555039",
     "showTitle": false,
     "tableResultSettingsMap": {
      "0": {
       "dataGridStateBlob": "{\"version\":1,\"tableState\":{\"columnPinning\":{\"left\":[\"#row_number#\"],\"right\":[]},\"columnSizing\":{},\"columnVisibility\":{}},\"settings\":{\"columns\":{}},\"syncTimestamp\":1755711135160}",
       "filterBlob": null,
       "queryPlanFiltersBlob": null,
       "tableResultIndex": 0
      }
     },
     "title": ""
    }
   },
   "outputs": [],
   "source": [
    "query = \"\"\"\n",
    "select *, from_utc_timestamp(from_unixtime(location_timestamp/1000), 'America/Los_Angeles') as localized_ts from la_traj_data\n",
    "\"\"\"\n",
    "df = spark.sql(query)\n",
    "display(df)\n"
   ]
  },
  {
   "cell_type": "code",
   "execution_count": 0,
   "metadata": {
    "application/vnd.databricks.v1+cell": {
     "cellMetadata": {
      "byteLimit": 2048000,
      "rowLimit": 10000
     },
     "inputWidgets": {},
     "nuid": "7498dc58-c1e1-4059-8f68-aa1d639b972e",
     "showTitle": false,
     "tableResultSettingsMap": {},
     "title": ""
    }
   },
   "outputs": [],
   "source": [
    "# keep timestamps after 2022 and before 23rd July 2025\n",
    "df = df.filter((df.localized_ts >= '2022-01-01') & (df.localized_ts < '2025-07-23'))\n",
    "display(df)"
   ]
  },
  {
   "cell_type": "code",
   "execution_count": 0,
   "metadata": {
    "application/vnd.databricks.v1+cell": {
     "cellMetadata": {
      "byteLimit": 2048000,
      "rowLimit": 10000
     },
     "inputWidgets": {},
     "nuid": "8dd3f30f-7ec4-4d9c-93d8-d9084fd6620c",
     "showTitle": false,
     "tableResultSettingsMap": {},
     "title": ""
    }
   },
   "outputs": [],
   "source": [
    "# df.count()"
   ]
  },
  {
   "cell_type": "code",
   "execution_count": 0,
   "metadata": {
    "application/vnd.databricks.v1+cell": {
     "cellMetadata": {
      "byteLimit": 2048000,
      "rowLimit": 10000
     },
     "inputWidgets": {},
     "nuid": "772ab6be-8822-44ac-8e10-9df9aa711e60",
     "showTitle": false,
     "tableResultSettingsMap": {},
     "title": ""
    }
   },
   "outputs": [],
   "source": [
    "# train_df = spark.read.table(\"main_prod.datascience_scratchpad.nyc_train_filtered\")\n",
    "# display(train_df)"
   ]
  },
  {
   "cell_type": "code",
   "execution_count": 0,
   "metadata": {
    "application/vnd.databricks.v1+cell": {
     "cellMetadata": {
      "byteLimit": 2048000,
      "rowLimit": 10000
     },
     "inputWidgets": {},
     "nuid": "55ba4bd9-4dd0-4240-8c1a-ac9db83ccd47",
     "showTitle": false,
     "tableResultSettingsMap": {},
     "title": ""
    }
   },
   "outputs": [],
   "source": [
    "from pyspark.sql.types import IntegerType\n",
    "from pyspark.sql.functions import udf, col\n",
    "# def get_userid(traj_id):\n",
    "#     userid, traj_date = traj_id.split(\"_\")\n",
    "#     return int(userid)\n",
    "\n",
    "\n",
    "# udf_get_userid = udf(get_userid, IntegerType())\n",
    "# train_df_v2 = train_df.withColumn('userid', udf_get_userid(col('traj_id')))\n",
    "# display(train_df_v2)"
   ]
  },
  {
   "cell_type": "code",
   "execution_count": 0,
   "metadata": {
    "application/vnd.databricks.v1+cell": {
     "cellMetadata": {
      "byteLimit": 2048000,
      "rowLimit": 10000
     },
     "inputWidgets": {},
     "nuid": "27fdc6f8-71b7-40e9-a6c6-350efef4d226",
     "showTitle": false,
     "tableResultSettingsMap": {},
     "title": ""
    }
   },
   "outputs": [],
   "source": [
    "# df_filtered = df.join(train_df_v2, on='userid', how='left_anti')\n",
    "\n",
    "# display(df_filtered)"
   ]
  },
  {
   "cell_type": "code",
   "execution_count": 0,
   "metadata": {
    "application/vnd.databricks.v1+cell": {
     "cellMetadata": {
      "byteLimit": 2048000,
      "rowLimit": 10000
     },
     "inputWidgets": {},
     "nuid": "5906a93f-02a0-467e-bb61-ebb2357ad433",
     "showTitle": false,
     "tableResultSettingsMap": {},
     "title": ""
    }
   },
   "outputs": [],
   "source": [
    "df.select(col('userid')).distinct().count()"
   ]
  },
  {
   "cell_type": "code",
   "execution_count": 0,
   "metadata": {
    "application/vnd.databricks.v1+cell": {
     "cellMetadata": {
      "byteLimit": 2048000,
      "rowLimit": 10000
     },
     "inputWidgets": {},
     "nuid": "2735f810-e76c-4fc1-bbec-754c8a142fdd",
     "showTitle": false,
     "tableResultSettingsMap": {},
     "title": ""
    }
   },
   "outputs": [],
   "source": [
    "query = \"\"\"\n",
    "select * from main_prod.earnings_analysis.fact_user_earnings_daily\n",
    "\"\"\"\n",
    "earnings_df = spark.sql(query)\n",
    "display(earnings_df)"
   ]
  },
  {
   "cell_type": "code",
   "execution_count": 0,
   "metadata": {
    "application/vnd.databricks.v1+cell": {
     "cellMetadata": {
      "byteLimit": 2048000,
      "rowLimit": 10000
     },
     "inputWidgets": {},
     "nuid": "16b2891f-51f2-4792-beef-91b86fb71816",
     "showTitle": false,
     "tableResultSettingsMap": {},
     "title": ""
    }
   },
   "outputs": [],
   "source": [
    "earnings_df_fil = earnings_df.join(df, on='userid', how='inner')\n",
    "display(earnings_df_fil)"
   ]
  },
  {
   "cell_type": "code",
   "execution_count": 0,
   "metadata": {
    "application/vnd.databricks.v1+cell": {
     "cellMetadata": {
      "byteLimit": 2048000,
      "rowLimit": 10000
     },
     "inputWidgets": {},
     "nuid": "4a047eb1-0feb-4d48-a1d2-c1856933ae8b",
     "showTitle": false,
     "tableResultSettingsMap": {},
     "title": ""
    }
   },
   "outputs": [],
   "source": [
    "earnings_df_fil.createOrReplaceTempView(\"earnings_df_fil\")"
   ]
  },
  {
   "cell_type": "code",
   "execution_count": 0,
   "metadata": {
    "application/vnd.databricks.v1+cell": {
     "cellMetadata": {
      "byteLimit": 2048000,
      "rowLimit": 10000
     },
     "inputWidgets": {},
     "nuid": "dfcc3f45-8929-47d1-b137-e0b1be09f5e4",
     "showTitle": false,
     "tableResultSettingsMap": {
      "0": {
       "dataGridStateBlob": "{\"version\":1,\"tableState\":{\"columnPinning\":{\"left\":[\"#row_number#\"],\"right\":[]},\"columnSizing\":{},\"columnVisibility\":{}},\"settings\":{\"columns\":{}},\"syncTimestamp\":1755713058468}",
       "filterBlob": "{\"version\":1,\"filterGroups\":[],\"syncTimestamp\":1756895934133}",
       "queryPlanFiltersBlob": "[]",
       "tableResultIndex": 0
      }
     },
     "title": ""
    }
   },
   "outputs": [],
   "source": [
    "query = \"\"\"\n",
    "select userid, employername, paydate, max(total_pck_amt) as pck_amt from earnings_df_fil where paydate >= '2022-01-01' and paydate < '2025-07-23' and total_pck_amt is not null group by userid, employername, paydate\n",
    "\"\"\"\n",
    "earnings_df_agg = spark.sql(query)\n",
    "display(earnings_df_agg)"
   ]
  },
  {
   "cell_type": "code",
   "execution_count": 0,
   "metadata": {
    "application/vnd.databricks.v1+cell": {
     "cellMetadata": {
      "byteLimit": 2048000,
      "rowLimit": 10000
     },
     "inputWidgets": {},
     "nuid": "2655bdf1-e694-4182-85a7-3ff98985804e",
     "showTitle": false,
     "tableResultSettingsMap": {},
     "title": ""
    }
   },
   "outputs": [],
   "source": [
    "# earnings_df_agg.select(col('userid')).distinct().count()\n",
    "earnings_df_agg.createOrReplaceTempView(\"earnings_df_agg\")"
   ]
  },
  {
   "cell_type": "code",
   "execution_count": 0,
   "metadata": {
    "application/vnd.databricks.v1+cell": {
     "cellMetadata": {
      "byteLimit": 2048000,
      "rowLimit": 10000
     },
     "inputWidgets": {},
     "nuid": "4acdf58d-4eb9-418a-857c-258bbe31079c",
     "showTitle": false,
     "tableResultSettingsMap": {},
     "title": ""
    }
   },
   "outputs": [],
   "source": [
    "# earnings_df_agg.select(col('userid')).distinct().count()"
   ]
  },
  {
   "cell_type": "code",
   "execution_count": 0,
   "metadata": {
    "application/vnd.databricks.v1+cell": {
     "cellMetadata": {
      "byteLimit": 2048000,
      "rowLimit": 10000
     },
     "inputWidgets": {},
     "nuid": "d4d6dde7-70e0-4afe-b256-9c0030c04833",
     "showTitle": false,
     "tableResultSettingsMap": {},
     "title": ""
    }
   },
   "outputs": [],
   "source": [
    "\n",
    "from pyspark.sql.functions import collect_list, struct, col, expr\n",
    "user_emp_paydate_df = (\n",
    "    earnings_df_agg\n",
    "    .filter(\"userid IS NOT NULL AND employername IS NOT NULL AND paydate IS NOT NULL AND pck_amt IS NOT NULL\")\n",
    "    .select(\"userid\", \"employername\", struct(\"paydate\", \"pck_amt\").alias(\"entry\"))\n",
    "    .groupBy(\"userid\", \"employername\")\n",
    "    .agg(collect_list(\"entry\").alias(\"entries\"))\n",
    "    .withColumn(\"sorted_entries\", expr(\"array_sort(entries)\"))\n",
    "    .withColumn(\"paydates\", expr(\"transform(sorted_entries, x -> x.paydate)\"))\n",
    "    .withColumn(\"pck_amts\", expr(\"transform(sorted_entries, x -> x.pck_amt)\"))\n",
    "    .select(\"userid\", \"employername\", \"paydates\", \"pck_amts\")\n",
    ")"
   ]
  },
  {
   "cell_type": "code",
   "execution_count": 0,
   "metadata": {
    "application/vnd.databricks.v1+cell": {
     "cellMetadata": {
      "byteLimit": 2048000,
      "rowLimit": 10000
     },
     "inputWidgets": {},
     "nuid": "ce1b0d5a-737f-4311-8c08-9b2cf95924e7",
     "showTitle": false,
     "tableResultSettingsMap": {
      "0": {
       "dataGridStateBlob": null,
       "filterBlob": "{\"version\":1,\"filterGroups\":[],\"syncTimestamp\":1755756321811}",
       "queryPlanFiltersBlob": "[]",
       "tableResultIndex": 0
      }
     },
     "title": ""
    }
   },
   "outputs": [],
   "source": [
    "display(user_emp_paydate_df)"
   ]
  },
  {
   "cell_type": "code",
   "execution_count": 0,
   "metadata": {
    "application/vnd.databricks.v1+cell": {
     "cellMetadata": {
      "byteLimit": 2048000,
      "rowLimit": 10000
     },
     "inputWidgets": {},
     "nuid": "e1d5e91e-e4f5-4861-b374-d5acabb82bdf",
     "showTitle": false,
     "tableResultSettingsMap": {},
     "title": ""
    }
   },
   "outputs": [],
   "source": [
    "import pandas as pd\n",
    "def partition_6months(paydates, pck_amts):\n",
    "    partitions = []\n",
    "    start_idx = 0\n",
    "    for i in range(1, len(paydates)):\n",
    "        if paydates[i] - paydates[start_idx] >= pd.Timedelta(days=180):\n",
    "            partitions.append((paydates[start_idx:i], pck_amts[start_idx:i]))\n",
    "            start_idx = i\n",
    "        elif i == len(paydates) - 1:\n",
    "            partitions.append((paydates[start_idx:], pck_amts[start_idx:]))\n",
    "    return partitions\n",
    "from pyspark.sql.functions import udf\n",
    "from pyspark.sql.types import ArrayType, StructType, StructField, StringType, IntegerType, DateType, DoubleType, DecimalType\n",
    "\n",
    "partitions_udf = udf(partition_6months, ArrayType(StructType([\n",
    "    StructField(\"paydates\", ArrayType(DateType())),\n",
    "    StructField(\"pck_amts\", ArrayType(DecimalType(19, 2)))\n",
    "    ]))) \n",
    "\n",
    "user_emp_paydates_partitioned_df = user_emp_paydate_df.withColumn(\"partitions\", partitions_udf(col(\"paydates\"), col(\"pck_amts\")))\n",
    "display(user_emp_paydates_partitioned_df)"
   ]
  },
  {
   "cell_type": "code",
   "execution_count": 0,
   "metadata": {
    "application/vnd.databricks.v1+cell": {
     "cellMetadata": {
      "byteLimit": 2048000,
      "rowLimit": 10000
     },
     "inputWidgets": {},
     "nuid": "0548c968-531e-48ac-a8ee-287da3ac6b53",
     "showTitle": false,
     "tableResultSettingsMap": {},
     "title": ""
    }
   },
   "outputs": [],
   "source": [
    "# remove data with no partitions\n",
    "user_emp_paydates_partitioned_df_fil = user_emp_paydates_partitioned_df.filter(\"size(partitions) > 0\")\n",
    "display(user_emp_paydates_partitioned_df_fil)"
   ]
  },
  {
   "cell_type": "code",
   "execution_count": 0,
   "metadata": {
    "application/vnd.databricks.v1+cell": {
     "cellMetadata": {
      "byteLimit": 2048000,
      "rowLimit": 10000
     },
     "inputWidgets": {},
     "nuid": "dd32f88a-8679-4a26-a54d-2dc241da24e9",
     "showTitle": false,
     "tableResultSettingsMap": {},
     "title": ""
    }
   },
   "outputs": [],
   "source": [
    "user_emp_paydates_partitioned_df_fil.write.mode(\"overwrite\").saveAsTable(\"main_prod.datascience_scratchpad.user_emp_paydates_partitioned_df_fil_all\")"
   ]
  },
  {
   "cell_type": "code",
   "execution_count": 0,
   "metadata": {
    "application/vnd.databricks.v1+cell": {
     "cellMetadata": {
      "byteLimit": 2048000,
      "rowLimit": 10000
     },
     "inputWidgets": {},
     "nuid": "2229c7d6-6d73-4e22-846c-dcc52f595a7b",
     "showTitle": false,
     "tableResultSettingsMap": {},
     "title": ""
    }
   },
   "outputs": [],
   "source": [
    "user_emp_paydates_partitioned_df_fil = spark.table(\"main_prod.datascience_scratchpad.user_emp_paydates_partitioned_df_fil\")\n",
    "display(user_emp_paydates_partitioned_df_fil)\n"
   ]
  },
  {
   "cell_type": "code",
   "execution_count": 0,
   "metadata": {
    "application/vnd.databricks.v1+cell": {
     "cellMetadata": {
      "byteLimit": 2048000,
      "rowLimit": 10000
     },
     "inputWidgets": {},
     "nuid": "d6511ae5-d2bb-4ecf-b9f7-168b6fca7c1d",
     "showTitle": false,
     "tableResultSettingsMap": {},
     "title": ""
    }
   },
   "outputs": [],
   "source": [
    "def filter_less_than_3_pos_paycycle(partitions):\n",
    "    new_partitions = []\n",
    "\n",
    "    for partition in partitions:\n",
    "        paydates = partition[\"paydates\"]\n",
    "        pck_amts = partition[\"pck_amts\"]\n",
    "        count=0\n",
    "        for amt in pck_amts:\n",
    "            if amt > 0:\n",
    "                count+=1\n",
    "        if count>=3:\n",
    "            new_partitions.append(partition)\n",
    "    return new_partitions\n",
    "from pyspark.sql.types import ArrayType, StructType, StructField, DateType, DecimalType\n",
    "from pyspark.sql.functions import col\n",
    "filter_less_than_3_pos_paycycle_udf = udf(filter_less_than_3_pos_paycycle, ArrayType(StructType([\n",
    "\n",
    "    StructField(\"paydates\", ArrayType(DateType())),\n",
    "    StructField(\"pck_amts\", ArrayType(DecimalType(19, 2)))\n",
    "    ]))) \n",
    "\n",
    "user_emp_paydates_partitioned_df_fil_valid = user_emp_paydates_partitioned_df_fil.withColumn(\"partitions\", filter_less_than_3_pos_paycycle_udf(col(\"partitions\")))\n",
    "display(user_emp_paydates_partitioned_df_fil_valid)"
   ]
  },
  {
   "cell_type": "code",
   "execution_count": 0,
   "metadata": {
    "application/vnd.databricks.v1+cell": {
     "cellMetadata": {
      "byteLimit": 2048000,
      "rowLimit": 10000
     },
     "inputWidgets": {},
     "nuid": "39994b7a-978b-40f9-b9e2-2cceafb7b4ee",
     "showTitle": false,
     "tableResultSettingsMap": {},
     "title": ""
    }
   },
   "outputs": [],
   "source": [
    "user_emp_paydates_partitioned_df_fil_valid = user_emp_paydates_partitioned_df_fil.filter(\"size(partitions) > 0\")\n",
    "display(user_emp_paydates_partitioned_df_fil_valid)"
   ]
  },
  {
   "cell_type": "code",
   "execution_count": 0,
   "metadata": {
    "application/vnd.databricks.v1+cell": {
     "cellMetadata": {
      "byteLimit": 2048000,
      "rowLimit": 10000
     },
     "inputWidgets": {},
     "nuid": "a3dfce5e-75e1-4f18-ad63-3ff7110fca5c",
     "showTitle": false,
     "tableResultSettingsMap": {},
     "title": ""
    }
   },
   "outputs": [],
   "source": [
    "user_emp_paydates_partitioned_df_fil_valid.count()"
   ]
  },
  {
   "cell_type": "code",
   "execution_count": 0,
   "metadata": {
    "application/vnd.databricks.v1+cell": {
     "cellMetadata": {
      "byteLimit": 2048000,
      "rowLimit": 10000
     },
     "inputWidgets": {},
     "nuid": "b953eeb0-13e9-4dac-a673-9f6e03b7a8e2",
     "showTitle": false,
     "tableResultSettingsMap": {},
     "title": ""
    }
   },
   "outputs": [],
   "source": [
    "user_emp_paydates_df_pd = user_emp_paydates_partitioned_df_fil_valid.toPandas()"
   ]
  },
  {
   "cell_type": "code",
   "execution_count": 0,
   "metadata": {
    "application/vnd.databricks.v1+cell": {
     "cellMetadata": {
      "byteLimit": 2048000,
      "rowLimit": 10000
     },
     "inputWidgets": {},
     "nuid": "2e05878d-e050-47d3-96a0-c175daf6df8a",
     "showTitle": false,
     "tableResultSettingsMap": {},
     "title": ""
    }
   },
   "outputs": [],
   "source": [
    "display(user_emp_paydates_df_pd.head())"
   ]
  },
  {
   "cell_type": "code",
   "execution_count": 0,
   "metadata": {
    "application/vnd.databricks.v1+cell": {
     "cellMetadata": {
      "byteLimit": 2048000,
      "rowLimit": 10000
     },
     "inputWidgets": {},
     "nuid": "03295824-f192-4c34-9bd3-fba609195bf6",
     "showTitle": false,
     "tableResultSettingsMap": {},
     "title": ""
    }
   },
   "outputs": [],
   "source": [
    "len(user_emp_paydates_df_pd['userid'].unique())"
   ]
  },
  {
   "cell_type": "code",
   "execution_count": 0,
   "metadata": {
    "application/vnd.databricks.v1+cell": {
     "cellMetadata": {
      "byteLimit": 2048000,
      "rowLimit": 10000
     },
     "inputWidgets": {},
     "nuid": "cdba8c4a-e5c4-44a0-b0da-8859527b1c6a",
     "showTitle": false,
     "tableResultSettingsMap": {},
     "title": ""
    }
   },
   "outputs": [],
   "source": [
    "# save pandas df as parquet file\n",
    "user_emp_paydates_df_pd.to_parquet(\"/Volumes/main_prod/datascience_scratchpad/jatin/trajcl_exp/usa/test/user_emp_paydates_pck_df_all.parquet\")"
   ]
  },
  {
   "cell_type": "code",
   "execution_count": 0,
   "metadata": {
    "application/vnd.databricks.v1+cell": {
     "cellMetadata": {
      "byteLimit": 2048000,
      "rowLimit": 10000
     },
     "inputWidgets": {},
     "nuid": "9c2e4c39-ceeb-49f1-98c7-5cd10e7af2cb",
     "showTitle": false,
     "tableResultSettingsMap": {},
     "title": ""
    }
   },
   "outputs": [],
   "source": [
    "import pandas as pd\n",
    "\n",
    "user_emp_paydates_df_pd = pd.read_parquet(\"Volumes/main_prod/datascience_scratchpad/jatin/trajcl_exp/usa/test/user_emp_paydates_pck_df_all.parquet\")\n"
   ]
  },
  {
   "cell_type": "code",
   "execution_count": 0,
   "metadata": {
    "application/vnd.databricks.v1+cell": {
     "cellMetadata": {
      "byteLimit": 2048000,
      "rowLimit": 10000
     },
     "inputWidgets": {},
     "nuid": "a8314d98-e252-48a4-8121-564773b59097",
     "showTitle": false,
     "tableResultSettingsMap": {},
     "title": ""
    }
   },
   "outputs": [],
   "source": [
    "df.createOrReplaceTempView(\"all_traj_data_loc_ts\")"
   ]
  },
  {
   "cell_type": "code",
   "execution_count": 0,
   "metadata": {
    "application/vnd.databricks.v1+cell": {
     "cellMetadata": {
      "byteLimit": 2048000,
      "rowLimit": 10000
     },
     "inputWidgets": {},
     "nuid": "bee9bc52-b7f1-47ba-b13b-20675028c233",
     "showTitle": false,
     "tableResultSettingsMap": {},
     "title": ""
    }
   },
   "outputs": [],
   "source": [
    "df.count()"
   ]
  },
  {
   "cell_type": "code",
   "execution_count": 0,
   "metadata": {
    "application/vnd.databricks.v1+cell": {
     "cellMetadata": {
      "byteLimit": 2048000,
      "rowLimit": 10000
     },
     "inputWidgets": {},
     "nuid": "a58942f1-bf96-4547-8d6c-4f6d0d74b8af",
     "showTitle": false,
     "tableResultSettingsMap": {},
     "title": ""
    }
   },
   "outputs": [],
   "source": [
    "query = \"\"\"\n",
    "select * from la_traj_data_loc_ts where userid != '0' and userid is not null and localized_ts is not null and latitude is not null and longitude is not null\n",
    "\"\"\"\n",
    "df_fil = spark.sql(query)\n",
    "\n",
    "df_fil.count()"
   ]
  },
  {
   "cell_type": "code",
   "execution_count": 0,
   "metadata": {
    "application/vnd.databricks.v1+cell": {
     "cellMetadata": {
      "byteLimit": 2048000,
      "rowLimit": 10000
     },
     "inputWidgets": {},
     "nuid": "5806417a-16b1-4665-b64d-f94cb95677e4",
     "showTitle": false,
     "tableResultSettingsMap": {},
     "title": ""
    }
   },
   "outputs": [],
   "source": [
    "df_fil.createOrReplaceTempView(\"la_traj_data_loc_ts\")"
   ]
  },
  {
   "cell_type": "code",
   "execution_count": 0,
   "metadata": {
    "application/vnd.databricks.v1+cell": {
     "cellMetadata": {
      "byteLimit": 2048000,
      "rowLimit": 10000
     },
     "inputWidgets": {},
     "nuid": "dd837880-a72a-4e46-857a-4dd029bc3723",
     "showTitle": false,
     "tableResultSettingsMap": {},
     "title": ""
    }
   },
   "outputs": [],
   "source": [
    "\n",
    "query = \"\"\"\n",
    "SELECT \n",
    "    userid,\n",
    "    DATE(localized_ts) AS traj_date,\n",
    "    COLLECT_LIST(localized_ts) AS timestamps,\n",
    "    COLLECT_LIST(latitude) AS latitudes,\n",
    "    COLLECT_LIST(longitude) AS longitudes\n",
    "FROM \n",
    "    la_traj_data_loc_ts\n",
    "WHERE\n",
    "    userid IS NOT NULL \n",
    "    AND localized_ts IS NOT NULL \n",
    "    AND latitude IS NOT NULL \n",
    "    AND longitude IS NOT NULL\n",
    "GROUP BY \n",
    "    userid, DATE(localized_ts)\n",
    "ORDER BY \n",
    "    userid, traj_date\n",
    "\"\"\"\n",
    "\n",
    "result_df = spark.sql(query)\n",
    "display(result_df)"
   ]
  },
  {
   "cell_type": "code",
   "execution_count": 0,
   "metadata": {
    "application/vnd.databricks.v1+cell": {
     "cellMetadata": {
      "byteLimit": 2048000,
      "rowLimit": 10000
     },
     "inputWidgets": {},
     "nuid": "8b92ceb7-f639-4da4-9432-3332b99f3dc8",
     "showTitle": false,
     "tableResultSettingsMap": {
      "0": {
       "dataGridStateBlob": "{\"version\":1,\"tableState\":{\"columnPinning\":{\"left\":[\"#row_number#\"],\"right\":[]},\"columnSizing\":{},\"columnVisibility\":{}},\"settings\":{\"columns\":{}},\"syncTimestamp\":1755852593655}",
       "filterBlob": null,
       "queryPlanFiltersBlob": null,
       "tableResultIndex": 0
      }
     },
     "title": ""
    }
   },
   "outputs": [],
   "source": [
    "display(df.where(\"userid = '14653656'\").select(\"userid\", \"localized_ts\",\"longitude\", \"latitude\"))"
   ]
  },
  {
   "cell_type": "code",
   "execution_count": 0,
   "metadata": {
    "application/vnd.databricks.v1+cell": {
     "cellMetadata": {
      "byteLimit": 2048000,
      "rowLimit": 10000
     },
     "inputWidgets": {},
     "nuid": "8055d3a9-2b09-41d3-8e57-932308995943",
     "showTitle": false,
     "tableResultSettingsMap": {},
     "title": ""
    }
   },
   "outputs": [],
   "source": [
    "result_df_fil = result_df.where(\"userid != '0'\")\n",
    "display(result_df_fil)\n"
   ]
  },
  {
   "cell_type": "code",
   "execution_count": 0,
   "metadata": {
    "application/vnd.databricks.v1+cell": {
     "cellMetadata": {
      "byteLimit": 2048000,
      "rowLimit": 10000
     },
     "inputWidgets": {},
     "nuid": "94c235b0-83bb-4e31-b904-9a1ac7b73459",
     "showTitle": false,
     "tableResultSettingsMap": {},
     "title": ""
    }
   },
   "outputs": [],
   "source": [
    "display(result_df_fil.where(\"userid = '118'\"))"
   ]
  },
  {
   "cell_type": "code",
   "execution_count": 0,
   "metadata": {
    "application/vnd.databricks.v1+cell": {
     "cellMetadata": {
      "byteLimit": 2048000,
      "rowLimit": 10000
     },
     "inputWidgets": {},
     "nuid": "63d4d693-3321-424e-a3a0-569e52e6854e",
     "showTitle": false,
     "tableResultSettingsMap": {},
     "title": ""
    }
   },
   "outputs": [],
   "source": [
    "from pyspark.sql.functions import udf\n",
    "from pyspark.sql.types import StructType, StructField, ArrayType, DoubleType, DateType, TimestampType\n",
    "def sort_by_time(timestamps, longitudes, latitudes):\n",
    "    sorted_ts = []\n",
    "    polylines = []\n",
    "    for ts, lon, lat in sorted(zip(timestamps, longitudes, latitudes), key=lambda x: x[0]):\n",
    "        sorted_ts.append(ts)\n",
    "        polylines.append([float(lon), float(lat)])\n",
    "    return sorted_ts, polylines\n",
    "\n",
    "\n",
    "sort_and_extract_udf = udf(sort_by_time, \n",
    "                           StructType([\n",
    "                               StructField(\"sorted_ts\", ArrayType(TimestampType())),\n",
    "                               StructField(\"polylines\", ArrayType(ArrayType(DoubleType())))\n",
    "                           ]))\n",
    "\n",
    "\n",
    "result_df_v2 = result_df_fil.withColumn(\"sorted_data\", \n",
    "                                         sort_and_extract_udf(\"timestamps\", \"longitudes\", \"latitudes\"))\n",
    "\n",
    "result_df_v2 = result_df_v2.withColumn(\"sorted_ts\", col(\"sorted_data.sorted_ts\")) \\\n",
    "                             .withColumn(\"polylines\", col(\"sorted_data.polylines\")) \\\n",
    "                             .drop(\"sorted_data\")\n",
    "display(result_df_v2)"
   ]
  },
  {
   "cell_type": "code",
   "execution_count": 0,
   "metadata": {
    "application/vnd.databricks.v1+cell": {
     "cellMetadata": {
      "byteLimit": 2048000,
      "rowLimit": 10000
     },
     "inputWidgets": {},
     "nuid": "e1a6d5ba-a932-4363-94bd-4d514751166d",
     "showTitle": false,
     "tableResultSettingsMap": {},
     "title": ""
    }
   },
   "outputs": [],
   "source": [
    "result_df_v3 = result_df_v2.drop(\"timestamps\", \"longitudes\", \"latitudes\")\n",
    "display(result_df_v3)"
   ]
  },
  {
   "cell_type": "code",
   "execution_count": 0,
   "metadata": {
    "application/vnd.databricks.v1+cell": {
     "cellMetadata": {
      "byteLimit": 2048000,
      "rowLimit": 10000
     },
     "inputWidgets": {},
     "nuid": "d398cdef-c770-40d2-829f-da00c2666cce",
     "showTitle": false,
     "tableResultSettingsMap": {},
     "title": ""
    }
   },
   "outputs": [],
   "source": [
    "from pyspark.sql.functions import unix_timestamp, col\n",
    "from pyspark.sql.types import IntegerType\n",
    "\n",
    "def get_distant_ts(timestamps):\n",
    "    final_indices = [0]\n",
    "    diff=0\n",
    "    for i in range(1,len(timestamps)):\n",
    "        diff += (timestamps[i] - timestamps[i-1]).total_seconds()\n",
    "        if diff > 600:\n",
    "            final_indices.append(i)\n",
    "            diff=0\n",
    "    return final_indices\n",
    "\n",
    "get_distant_ts_udf = udf(lambda ts: get_distant_ts(ts), ArrayType(IntegerType()))\n",
    "\n",
    "result_df_v4 = result_df_v3.withColumn(\"final_indices\", get_distant_ts_udf(col(\"sorted_ts\")))\n",
    "display(result_df_v4)"
   ]
  },
  {
   "cell_type": "code",
   "execution_count": 0,
   "metadata": {
    "application/vnd.databricks.v1+cell": {
     "cellMetadata": {
      "byteLimit": 2048000,
      "rowLimit": 10000
     },
     "inputWidgets": {},
     "nuid": "b412a8e0-73a7-48a9-a582-a4a482e801f1",
     "showTitle": false,
     "tableResultSettingsMap": {},
     "title": ""
    }
   },
   "outputs": [],
   "source": [
    "result_df_v4.createOrReplaceTempView(\"la_traj_data_loc_ts_v4\")"
   ]
  },
  {
   "cell_type": "code",
   "execution_count": 0,
   "metadata": {
    "application/vnd.databricks.v1+cell": {
     "cellMetadata": {},
     "inputWidgets": {},
     "nuid": "92320ebe-cb39-475f-b604-80d609ac6aa7",
     "showTitle": false,
     "tableResultSettingsMap": {},
     "title": ""
    }
   },
   "outputs": [],
   "source": [
    "result_df_v4.write.mode(\"overwrite\").saveAsTable(\"main_prod.datascience_scratchpad.la_traj_data_v4\")"
   ]
  },
  {
   "cell_type": "code",
   "execution_count": 0,
   "metadata": {
    "application/vnd.databricks.v1+cell": {
     "cellMetadata": {
      "byteLimit": 2048000,
      "rowLimit": 10000
     },
     "inputWidgets": {},
     "nuid": "4248760b-10f7-4b39-b41b-7551347260e0",
     "showTitle": false,
     "tableResultSettingsMap": {},
     "title": ""
    }
   },
   "outputs": [],
   "source": [
    "query = \"\"\"\n",
    "select * from la_traj_data_loc_ts_v4 where size(final_indices) >= 15\n",
    "\"\"\"\n",
    "result_df_v5 = spark.sql(query)\n",
    "display(result_df_v5)"
   ]
  },
  {
   "cell_type": "code",
   "execution_count": 0,
   "metadata": {
    "application/vnd.databricks.v1+cell": {
     "cellMetadata": {
      "byteLimit": 2048000,
      "rowLimit": 10000
     },
     "inputWidgets": {},
     "nuid": "63d851b3-b841-410e-9611-8de4c1f48678",
     "showTitle": false,
     "tableResultSettingsMap": {},
     "title": ""
    }
   },
   "outputs": [],
   "source": [
    "result_df_v5.write.mode(\"overwrite\").saveAsTable(\"main_prod.datascience_scratchpad.la_traj_data_v5\")"
   ]
  },
  {
   "cell_type": "code",
   "execution_count": 0,
   "metadata": {
    "application/vnd.databricks.v1+cell": {
     "cellMetadata": {
      "byteLimit": 2048000,
      "rowLimit": 10000
     },
     "inputWidgets": {},
     "nuid": "504d1337-4e94-4297-99ed-054de7f08890",
     "showTitle": false,
     "tableResultSettingsMap": {},
     "title": ""
    }
   },
   "outputs": [],
   "source": [
    "result_df_v5 = spark.read.table(\"main_prod.datascience_scratchpad.la_traj_data_v5\")"
   ]
  },
  {
   "cell_type": "code",
   "execution_count": 0,
   "metadata": {
    "application/vnd.databricks.v1+cell": {
     "cellMetadata": {
      "byteLimit": 2048000,
      "rowLimit": 10000
     },
     "inputWidgets": {},
     "nuid": "7c747717-075d-4268-b9da-b083d3c2a8ae",
     "showTitle": false,
     "tableResultSettingsMap": {},
     "title": ""
    }
   },
   "outputs": [],
   "source": [
    "display(result_df_v5)"
   ]
  },
  {
   "cell_type": "code",
   "execution_count": 0,
   "metadata": {
    "application/vnd.databricks.v1+cell": {
     "cellMetadata": {
      "byteLimit": 2048000,
      "rowLimit": 10000
     },
     "inputWidgets": {},
     "nuid": "5a3b81f2-25af-4f3e-b067-cee348e1e472",
     "showTitle": false,
     "tableResultSettingsMap": {},
     "title": ""
    }
   },
   "outputs": [],
   "source": [
    "result_df_v5.select('userid').distinct().count()"
   ]
  },
  {
   "cell_type": "code",
   "execution_count": 0,
   "metadata": {
    "application/vnd.databricks.v1+cell": {
     "cellMetadata": {
      "byteLimit": 2048000,
      "rowLimit": 10000
     },
     "inputWidgets": {},
     "nuid": "e2800ba5-fd8c-4cd6-86cd-220d0a13d6f6",
     "showTitle": false,
     "tableResultSettingsMap": {},
     "title": ""
    }
   },
   "outputs": [],
   "source": [
    "from pyspark.sql.functions import udf, col\n",
    "from pyspark.sql.types import StructType, StructField, ArrayType, DoubleType, DateType, TimestampType\n",
    "def apply_filter_index(ts,polylines, final_indices):\n",
    "    final_ts = []\n",
    "    final_polylines = []\n",
    "    for i in final_indices:\n",
    "        final_ts.append(ts[i])\n",
    "        final_polylines.append(polylines[i])\n",
    "    return final_ts, final_polylines\n",
    "apply_filter_index_udf = udf(lambda ts,polylines, final_indices: apply_filter_index(ts,polylines, final_indices), \n",
    "                           StructType([\n",
    "                               StructField(\"final_ts\", ArrayType(TimestampType())),\n",
    "                               StructField(\"final_polylines\", ArrayType(ArrayType(DoubleType())))\n",
    "                           ]))\n",
    "result_df_v6 = result_df_v5.withColumn(\"final_data\", \n",
    "                                         apply_filter_index_udf(col(\"sorted_ts\"), col(\"polylines\"), col(\"final_indices\")))\n",
    "result_df_v6 = result_df_v6.withColumn(\"timestamps\", col(\"final_data.final_ts\")) \\\n",
    "                             .withColumn(\"polylines_final\", col(\"final_data.final_polylines\")) \\\n",
    "                             .drop(\"final_data\",\"final_indices\", \"sorted_ts\",\"polylines\")\n",
    "display(result_df_v6)"
   ]
  },
  {
   "cell_type": "code",
   "execution_count": 0,
   "metadata": {
    "application/vnd.databricks.v1+cell": {
     "cellMetadata": {},
     "inputWidgets": {},
     "nuid": "75f725b6-8bef-4178-b389-003a306ddcea",
     "showTitle": false,
     "tableResultSettingsMap": {},
     "title": ""
    }
   },
   "outputs": [],
   "source": [
    "result_df_v6 = result_df_v6.withColumnRenamed(\"polylines_final\", \"wgs_seq\")\n",
    "result_df_v6 = result_df_v6.filter(col(\"wgs_seq\").isNotNull())"
   ]
  },
  {
   "cell_type": "code",
   "execution_count": 0,
   "metadata": {
    "application/vnd.databricks.v1+cell": {
     "cellMetadata": {
      "byteLimit": 2048000,
      "rowLimit": 10000
     },
     "inputWidgets": {},
     "nuid": "e73c1b0c-2647-468a-a815-f1c609e31899",
     "showTitle": false,
     "tableResultSettingsMap": {},
     "title": ""
    }
   },
   "outputs": [],
   "source": [
    "import math\n",
    "def lonlat2meters(lon, lat):\n",
    "    semimajoraxis = 6378137.0\n",
    "    east = lon * 0.017453292519943295\n",
    "    north = lat * 0.017453292519943295\n",
    "    t = math.sin(north)\n",
    "    return semimajoraxis * east, 3189068.5 * math.log((1 + t) / (1 - t))\n",
    "\n",
    "lonlat2meters_udf = udf(lambda traj: [list(lonlat2meters(p[0], p[1])) for p in traj], ArrayType(ArrayType(DoubleType())))\n",
    "result_df_v7 = result_df_v6.withColumn(\"merc_seq\", lonlat2meters_udf(col(\"wgs_seq\")))\n",
    "display(result_df_v7)"
   ]
  },
  {
   "cell_type": "code",
   "execution_count": 0,
   "metadata": {
    "application/vnd.databricks.v1+cell": {
     "cellMetadata": {
      "byteLimit": 2048000,
      "rowLimit": 10000
     },
     "inputWidgets": {},
     "nuid": "3db82cb2-e9fe-4c41-8855-b7557e44d05e",
     "showTitle": false,
     "tableResultSettingsMap": {},
     "title": ""
    }
   },
   "outputs": [],
   "source": [
    "la_test_df = spark.read.table(\"main_prod.datascience_scratchpad.la_traj_data_v9_part1\")\n",
    "display(la_test_df)"
   ]
  },
  {
   "cell_type": "code",
   "execution_count": 0,
   "metadata": {
    "application/vnd.databricks.v1+cell": {
     "cellMetadata": {
      "byteLimit": 2048000,
      "rowLimit": 10000
     },
     "inputWidgets": {},
     "nuid": "5eb1a608-4432-4af4-9e5f-219f1d78a8bf",
     "showTitle": false,
     "tableResultSettingsMap": {},
     "title": ""
    }
   },
   "outputs": [],
   "source": [
    "# remove rows from result_df_v7 where userid matches with la_test_df\n",
    "\n",
    "result_df_v8 = result_df_v7.join(la_test_df, on='userid', how='left_anti')\n",
    "display(result_df_v8)"
   ]
  },
  {
   "cell_type": "code",
   "execution_count": 0,
   "metadata": {
    "application/vnd.databricks.v1+cell": {
     "cellMetadata": {
      "byteLimit": 2048000,
      "rowLimit": 10000
     },
     "inputWidgets": {},
     "nuid": "31494b53-7810-42ff-a7be-a62dcae7087d",
     "showTitle": false,
     "tableResultSettingsMap": {},
     "title": ""
    }
   },
   "outputs": [],
   "source": [
    "nyc_df = spark.read.table(\"main_prod.datascience_scratchpad.nyc_test_filtered\")\n",
    "display(nyc_df)\n",
    "# remove rows from result_df_v7 where userid matches with nyc_df\n"
   ]
  },
  {
   "cell_type": "code",
   "execution_count": 0,
   "metadata": {
    "application/vnd.databricks.v1+cell": {
     "cellMetadata": {
      "byteLimit": 2048000,
      "rowLimit": 10000
     },
     "inputWidgets": {},
     "nuid": "e91e035f-ae5a-4624-9f89-46de4534fc6e",
     "showTitle": false,
     "tableResultSettingsMap": {},
     "title": ""
    }
   },
   "outputs": [],
   "source": [
    "from pyspark.sql.functions import udf, col\n",
    "from pyspark.sql.types import StructType, StructField, ArrayType, DoubleType, DateType, TimestampType, StringType\n",
    "def get_traj_id(userid, traj_date):\n",
    "    return str(userid) + '_' + traj_date.strftime(\"%Y-%m-%d\")\n",
    "get_traj_id_udf = udf(lambda userid, traj_date: get_traj_id(userid, traj_date), StringType())\n",
    "result_df_v9 = result_df_v8.withColumn(\"traj_id\", get_traj_id_udf(col(\"userid\"), col(\"traj_date\")))\n",
    "display(result_df_v9)"
   ]
  },
  {
   "cell_type": "code",
   "execution_count": 0,
   "metadata": {
    "application/vnd.databricks.v1+cell": {
     "cellMetadata": {
      "byteLimit": 2048000,
      "rowLimit": 10000
     },
     "inputWidgets": {},
     "nuid": "a215124e-fd2a-4615-8924-f3ee3042e0cf",
     "showTitle": false,
     "tableResultSettingsMap": {},
     "title": ""
    }
   },
   "outputs": [],
   "source": [
    "from pyspark.sql.functions import udf, col\n",
    "from pyspark.sql.types import StructType, StructField, ArrayType, DoubleType, DateType, TimestampType, IntegerType\n",
    "def get_traj_len(traj):\n",
    "    return len(traj)\n",
    "get_traj_len_udf = udf(lambda traj: get_traj_len(traj), IntegerType())\n",
    "result_df_v10 = result_df_v9.withColumn(\"traj_len\", get_traj_len_udf(col(\"merc_seq\")))\n",
    "display(result_df_v10)"
   ]
  },
  {
   "cell_type": "code",
   "execution_count": 0,
   "metadata": {
    "application/vnd.databricks.v1+cell": {
     "cellMetadata": {
      "byteLimit": 2048000,
      "rowLimit": 10000
     },
     "inputWidgets": {},
     "nuid": "15b4fa42-2f47-4c3c-be58-e728bf1fc039",
     "showTitle": false,
     "tableResultSettingsMap": {},
     "title": ""
    }
   },
   "outputs": [],
   "source": [
    "la_df = result_df_v10.drop(\"traj_date\")\n",
    "# rename columns\n",
    "la_df = la_df.withColumnRenamed(\"timestamps\", \"timestamps_filtered\")\n",
    "la_df = la_df.withColumnRenamed(\"merc_seq\", \"merc_seq_filtered\")\n",
    "la_df = la_df.withColumnRenamed(\"wgs_seq\", \"wgs_seq_filtered\")\n",
    "la_df = la_df.withColumnRenamed(\"traj_len\", \"trajlen\")\n",
    "display(la_df)"
   ]
  },
  {
   "cell_type": "code",
   "execution_count": 0,
   "metadata": {
    "application/vnd.databricks.v1+cell": {
     "cellMetadata": {
      "byteLimit": 2048000,
      "rowLimit": 10000
     },
     "inputWidgets": {},
     "nuid": "da53e068-8122-421a-8ac8-04e90eecf8ac",
     "showTitle": false,
     "tableResultSettingsMap": {},
     "title": ""
    }
   },
   "outputs": [],
   "source": [
    "# concat la_df with nyc_df on same columns\n",
    "la_df = la_df.select(\"userid\", \"traj_id\",\"timestamps_filtered\",\"wgs_seq_filtered\", \"merc_seq_filtered\", \"trajlen\" )\n",
    "\n",
    "combined_df = nyc_df.union(la_df)\n",
    "display(combined_df)"
   ]
  },
  {
   "cell_type": "code",
   "execution_count": 0,
   "metadata": {
    "application/vnd.databricks.v1+cell": {
     "cellMetadata": {
      "byteLimit": 2048000,
      "rowLimit": 10000
     },
     "inputWidgets": {},
     "nuid": "0adeea43-1d20-4736-81f5-ab0687f2d999",
     "showTitle": false,
     "tableResultSettingsMap": {},
     "title": ""
    }
   },
   "outputs": [],
   "source": [
    "combined_df.count()"
   ]
  },
  {
   "cell_type": "code",
   "execution_count": 0,
   "metadata": {
    "application/vnd.databricks.v1+cell": {
     "cellMetadata": {
      "byteLimit": 2048000,
      "rowLimit": 10000
     },
     "inputWidgets": {},
     "nuid": "fa2ae2eb-134c-43a9-8ca0-24016af8c9a4",
     "showTitle": false,
     "tableResultSettingsMap": {},
     "title": ""
    }
   },
   "outputs": [],
   "source": [
    "combined_df.write.mode(\"overwrite\").saveAsTable(\"main_prod.datascience_scratchpad.la_nyc_traj_data_v1\")"
   ]
  },
  {
   "cell_type": "code",
   "execution_count": 0,
   "metadata": {
    "application/vnd.databricks.v1+cell": {
     "cellMetadata": {
      "byteLimit": 2048000,
      "rowLimit": 10000
     },
     "inputWidgets": {},
     "nuid": "d16bf196-4d0e-4e43-9e32-7be28bf444f5",
     "showTitle": false,
     "tableResultSettingsMap": {},
     "title": ""
    }
   },
   "outputs": [],
   "source": [
    "display(user_emp_paydates_df_pd.head())"
   ]
  },
  {
   "cell_type": "code",
   "execution_count": 0,
   "metadata": {
    "application/vnd.databricks.v1+cell": {
     "cellMetadata": {
      "byteLimit": 2048000,
      "rowLimit": 10000
     },
     "inputWidgets": {},
     "nuid": "f47d5ef9-de1b-469a-a240-cd9d483d8b5c",
     "showTitle": false,
     "tableResultSettingsMap": {},
     "title": ""
    }
   },
   "outputs": [],
   "source": [
    "display(df)"
   ]
  },
  {
   "cell_type": "code",
   "execution_count": 0,
   "metadata": {
    "application/vnd.databricks.v1+cell": {
     "cellMetadata": {
      "byteLimit": 2048000,
      "rowLimit": 10000
     },
     "inputWidgets": {},
     "nuid": "a81ca1a4-c6b0-4dc1-89fd-23b4fa6d378a",
     "showTitle": false,
     "tableResultSettingsMap": {},
     "title": ""
    }
   },
   "outputs": [],
   "source": [
    "import bisect\n",
    "from pyspark.sql.types import IntegerType, StringType, StructType, StructField, DoubleType, DecimalType\n",
    "def get_emp_pck_partitionid(userid, traj_date):\n",
    "    try:\n",
    "        df = user_emp_paydates_df_pd[user_emp_paydates_df_pd['userid'] == userid].reset_index(drop=True)\n",
    "        partitions = list(df['partitions'])\n",
    "        paydates_list = list(df['paydates'])\n",
    "        idx = -1\n",
    "        for i,paydates in enumerate(paydates_list):\n",
    "            \n",
    "            first_paydate = paydates[0]\n",
    "            last_paydate = paydates[-1]\n",
    "            # print(traj_date, first_paydate, last_paydate)\n",
    "            if traj_date< last_paydate and (traj_date>=first_paydate or (first_paydate - traj_date).days<7):\n",
    "                idx = i\n",
    "                break\n",
    "        if idx!=-1:\n",
    "            row = df.iloc[idx]\n",
    "            employername = row['employername']\n",
    "            partition = row['partitions']\n",
    "            paydates = paydates_list[idx]\n",
    "            paydate_idx = bisect.bisect_right(paydates, traj_date)\n",
    "            paydate = paydates[paydate_idx]\n",
    "            pck_amts = row['pck_amts']\n",
    "            pck_amt = pck_amts[paydate_idx]\n",
    "            idx_in_partition = None\n",
    "            partition_id = -1\n",
    "            for i in range(len(partition)):\n",
    "                if paydate in partition[i]['paydates']:\n",
    "                    partition_id = i\n",
    "                    idx_in_partition = bisect.bisect_left(partition[i]['paydates'], paydate)\n",
    "                    \n",
    "            return employername, partition_id, pck_amt, idx_in_partition\n",
    "        else:\n",
    "            return None, None, None, None\n",
    "    except:\n",
    "        return None, None, None, None\n",
    "\n",
    "\n",
    "get_emp_pck_partitionid_udf = udf(lambda userid, traj_date: get_emp_pck_partitionid(userid, traj_date), \n",
    "                           StructType([\n",
    "                               StructField(\"employername\", StringType()),\n",
    "                               StructField(\"partition_id\", IntegerType()),\n",
    "                               StructField(\"pck_amt\", DecimalType(19,2)),\n",
    "                               StructField(\"idx_in_partition\", IntegerType())\n",
    "                           ]))\n",
    "result_df_v7 = df.withColumn(\"emp_pck_partitionid\", \n",
    "                                         get_emp_pck_partitionid_udf(col(\"userid\"), col(\"traj_date\")))\n",
    "# result_df_v7 = result_df_v7.withColumn(\"employername\", col(\"emp_pck_partitionid.employername\")) \\\n",
    "#                              .withColumn(\"partition_id\", col(\"emp_pck_partitionid.partition_id\")) \\\n",
    "#                              .withColumn(\"pck_amt\", col(\"emp_pck_partitionid.pck_amt\")) \\\n",
    "#                              .withColumn(\"set_type\", col(\"emp_pck_partitionid.set_type\")) \\\n",
    "#                              .drop(\"emp_pck_partitionid\")\n",
    "# dummy_v2 = dummy.withColumn(\"emp_pck_partitionid\", \n",
    "#                                           get_emp_pck_partitionid_udf(col(\"userid\"), col(\"traj_date\")))\n",
    "# display(dummy_v2)\n",
    "\n",
    "# dummy_pd = dummy.toPandas()\n",
    "# for i,row in dummy_pd.iterrows():\n",
    "#     userid = row['userid']\n",
    "#     traj_date = row['traj_date']\n",
    "#     employername, partition_id, pck_amt, set_type = get_emp_pck_partitionid(userid, traj_date)\n",
    "#     print(traj_date, employername, partition_id, pck_amt, set_type)\n",
    "# display(result_df_v7)\n"
   ]
  },
  {
   "cell_type": "code",
   "execution_count": 0,
   "metadata": {
    "application/vnd.databricks.v1+cell": {
     "cellMetadata": {
      "byteLimit": 2048000,
      "rowLimit": 10000
     },
     "inputWidgets": {},
     "nuid": "8c830b5d-2528-45ee-9414-fca28120111c",
     "showTitle": false,
     "tableResultSettingsMap": {},
     "title": ""
    }
   },
   "outputs": [],
   "source": [
    "display(result_df_v7)"
   ]
  },
  {
   "cell_type": "code",
   "execution_count": 0,
   "metadata": {
    "application/vnd.databricks.v1+cell": {
     "cellMetadata": {
      "byteLimit": 2048000,
      "rowLimit": 10000
     },
     "inputWidgets": {},
     "nuid": "6165910c-1e6b-4507-839d-3d7de96894af",
     "showTitle": false,
     "tableResultSettingsMap": {},
     "title": ""
    }
   },
   "outputs": [],
   "source": [
    "result_df_v8 = result_df_v7.withColumn(\"employername\", col(\"emp_pck_partitionid.employername\")) \\\n",
    "                             .withColumn(\"partition_id\", col(\"emp_pck_partitionid.partition_id\")) \\\n",
    "                             .withColumn(\"pck_amt\", col(\"emp_pck_partitionid.pck_amt\")) \\\n",
    "                             .withColumn(\"idx_in_partition\", col(\"emp_pck_partitionid.idx_in_partition\")) \\\n",
    "                             .drop(\"emp_pck_partitionid\")"
   ]
  },
  {
   "cell_type": "code",
   "execution_count": 0,
   "metadata": {
    "application/vnd.databricks.v1+cell": {
     "cellMetadata": {
      "byteLimit": 2048000,
      "rowLimit": 10000
     },
     "inputWidgets": {},
     "nuid": "83325846-ff4e-401a-a4f6-1dfe481d0264",
     "showTitle": false,
     "tableResultSettingsMap": {},
     "title": ""
    }
   },
   "outputs": [],
   "source": [
    "display(result_df_v8)"
   ]
  },
  {
   "cell_type": "code",
   "execution_count": 0,
   "metadata": {
    "application/vnd.databricks.v1+cell": {
     "cellMetadata": {
      "byteLimit": 2048000,
      "rowLimit": 10000
     },
     "inputWidgets": {},
     "nuid": "a73bfd93-8d70-41cd-8939-64d3c4ba9712",
     "showTitle": false,
     "tableResultSettingsMap": {},
     "title": ""
    }
   },
   "outputs": [],
   "source": [
    "result_df_v9 = result_df_v8.where(\"employername is not NULL and pck_amt is not NULL and idx_in_partition is not NULL and partition_id is not NULL\")\n",
    "display(result_df_v9)"
   ]
  },
  {
   "cell_type": "code",
   "execution_count": 0,
   "metadata": {
    "application/vnd.databricks.v1+cell": {
     "cellMetadata": {
      "byteLimit": 2048000,
      "rowLimit": 10000
     },
     "inputWidgets": {},
     "nuid": "e398ca24-49aa-49c8-9882-824a2d0f0a99",
     "showTitle": false,
     "tableResultSettingsMap": {},
     "title": ""
    }
   },
   "outputs": [],
   "source": [
    "result_df_v9.select(\"userid\").distinct().count()"
   ]
  },
  {
   "cell_type": "code",
   "execution_count": 0,
   "metadata": {
    "application/vnd.databricks.v1+cell": {
     "cellMetadata": {
      "byteLimit": 2048000,
      "rowLimit": 10000
     },
     "inputWidgets": {},
     "nuid": "c825ae8f-b009-456f-b612-c4e7e508f7b4",
     "showTitle": false,
     "tableResultSettingsMap": {},
     "title": ""
    }
   },
   "outputs": [],
   "source": [
    "# get the list of distinct userids\n",
    "\n",
    "userid_list = result_df_v9.select(\"userid\").distinct().toPandas()['userid'].tolist()\n"
   ]
  },
  {
   "cell_type": "code",
   "execution_count": 0,
   "metadata": {
    "application/vnd.databricks.v1+cell": {
     "cellMetadata": {
      "byteLimit": 2048000,
      "rowLimit": 10000
     },
     "inputWidgets": {},
     "nuid": "d4986a2f-32f6-4440-acda-55b86d8e67f2",
     "showTitle": false,
     "tableResultSettingsMap": {},
     "title": ""
    }
   },
   "outputs": [],
   "source": [
    "import numpy as np\n",
    "#randomly select 50000 userids\n",
    "np.random.seed(123)\n",
    "random_sample = list(np.random.choice(userid_list, 1000, replace=False))\n",
    "\n",
    "# filter result_df_v9 to only\n",
    "result_df_v9_subset = result_df_v9.filter(col(\"userid\").isin(random_sample))\n"
   ]
  },
  {
   "cell_type": "code",
   "execution_count": 0,
   "metadata": {
    "application/vnd.databricks.v1+cell": {
     "cellMetadata": {
      "byteLimit": 2048000,
      "rowLimit": 10000
     },
     "inputWidgets": {},
     "nuid": "38cc6a9e-1960-47f9-9c4c-abed57a7aa8a",
     "showTitle": false,
     "tableResultSettingsMap": {},
     "title": ""
    }
   },
   "outputs": [],
   "source": [
    "display(result_df_v9_subset)"
   ]
  },
  {
   "cell_type": "code",
   "execution_count": 0,
   "metadata": {
    "application/vnd.databricks.v1+cell": {
     "cellMetadata": {
      "byteLimit": 2048000,
      "rowLimit": 10000
     },
     "inputWidgets": {},
     "nuid": "7007418a-bb85-4348-9f0c-d9fd22db888c",
     "showTitle": false,
     "tableResultSettingsMap": {},
     "title": ""
    }
   },
   "outputs": [],
   "source": [
    "def pck_0_1(pck_amt):\n",
    "    if pck_amt>0:\n",
    "        return 1\n",
    "    else:\n",
    "        return 0\n",
    "    \n",
    "pck_0_1_udf = udf(lambda pck_amt: pck_0_1(pck_amt), IntegerType())\n",
    "result_df_v9_v2 = result_df_v9_subset.withColumn(\"pck_0_1\", pck_0_1_udf(col(\"pck_amt\")))\n",
    "\n",
    "result_df_v9_v2 = result_df_v9_v2.drop(\"pck_amt\")\n",
    "display(result_df_v9_v2)"
   ]
  },
  {
   "cell_type": "code",
   "execution_count": 0,
   "metadata": {
    "application/vnd.databricks.v1+cell": {
     "cellMetadata": {
      "byteLimit": 2048000,
      "rowLimit": 10000
     },
     "inputWidgets": {},
     "nuid": "ff5160ad-b6e6-4566-93e9-51cc2e9fcf7d",
     "showTitle": false,
     "tableResultSettingsMap": {},
     "title": ""
    }
   },
   "outputs": [],
   "source": [
    "result_df_v9_v2.count()"
   ]
  },
  {
   "cell_type": "code",
   "execution_count": 0,
   "metadata": {
    "application/vnd.databricks.v1+cell": {
     "cellMetadata": {
      "byteLimit": 2048000,
      "rowLimit": 10000
     },
     "inputWidgets": {},
     "nuid": "47f9f3dc-9dd5-4573-a0df-c1a67cd0c236",
     "showTitle": false,
     "tableResultSettingsMap": {},
     "title": ""
    }
   },
   "outputs": [],
   "source": [
    "result_df_v9_v2.write.mode(\"overwrite\").parquet(\"/Volumes/main_prod/datascience_scratchpad/jatin/trajcl_exp/la/result_df_v9.pkl\")"
   ]
  },
  {
   "cell_type": "code",
   "execution_count": 0,
   "metadata": {
    "application/vnd.databricks.v1+cell": {
     "cellMetadata": {
      "byteLimit": 2048000,
      "rowLimit": 10000
     },
     "inputWidgets": {},
     "nuid": "a6738786-00ff-4bb8-be16-7b25aac24553",
     "showTitle": false,
     "tableResultSettingsMap": {},
     "title": ""
    }
   },
   "outputs": [],
   "source": [
    "result_df_v9_v2.write.mode(\"overwrite\").saveAsTable(\"main_prod.datascience_scratchpad.la_traj_data_v9_subset_1k\")"
   ]
  },
  {
   "cell_type": "code",
   "execution_count": 0,
   "metadata": {
    "application/vnd.databricks.v1+cell": {
     "cellMetadata": {
      "byteLimit": 2048000,
      "rowLimit": 10000
     },
     "inputWidgets": {},
     "nuid": "000fc742-07ab-4a50-88a4-a21e01a70c51",
     "showTitle": false,
     "tableResultSettingsMap": {},
     "title": ""
    }
   },
   "outputs": [],
   "source": [
    "result_df_v9.write.mode(\"overwrite\").saveAsTable(\"main_prod.datascience_scratchpad.all_traj_test_v9\")"
   ]
  },
  {
   "cell_type": "code",
   "execution_count": 0,
   "metadata": {
    "application/vnd.databricks.v1+cell": {
     "cellMetadata": {
      "byteLimit": 2048000,
      "rowLimit": 10000
     },
     "inputWidgets": {},
     "nuid": "6a37aa23-28fb-4afc-ab4b-65241f1ed7c9",
     "showTitle": false,
     "tableResultSettingsMap": {},
     "title": ""
    }
   },
   "outputs": [],
   "source": [
    "result_df_v9.createOrReplaceTempView(\"result_df_v9\")\n"
   ]
  },
  {
   "cell_type": "code",
   "execution_count": 0,
   "metadata": {
    "application/vnd.databricks.v1+cell": {
     "cellMetadata": {
      "byteLimit": 2048000,
      "rowLimit": 10000
     },
     "inputWidgets": {},
     "nuid": "ab0736d9-3450-44b0-ad6f-6e04a577278e",
     "showTitle": false,
     "tableResultSettingsMap": {},
     "title": ""
    }
   },
   "outputs": [],
   "source": [
    "result_df_v9"
   ]
  },
  {
   "cell_type": "code",
   "execution_count": 0,
   "metadata": {
    "application/vnd.databricks.v1+cell": {
     "cellMetadata": {
      "byteLimit": 2048000,
      "rowLimit": 10000
     },
     "inputWidgets": {},
     "nuid": "16df9e6f-209a-4596-90df-0ace64f73d5f",
     "showTitle": false,
     "tableResultSettingsMap": {},
     "title": ""
    }
   },
   "outputs": [],
   "source": [
    "col_list_1 = [\"userid\", \"traj_date\", \"timestamps\", \"merc_seq\", \"wgs_seq\"]\n",
    "col_list_2 = [\"userid\", \"traj_date\", \"employername\", \"partition_id\", \"pck_amt\", \"idx_in_partition\"]\n",
    "\n",
    "result_df_part1 = result_df_v9.select(col_list_1)\n",
    "result_df_part2 = result_df_v9.select(col_list_2)\n",
    "\n",
    "display(result_df_part1)\n"
   ]
  },
  {
   "cell_type": "code",
   "execution_count": 0,
   "metadata": {
    "application/vnd.databricks.v1+cell": {
     "cellMetadata": {
      "byteLimit": 2048000,
      "rowLimit": 10000
     },
     "inputWidgets": {},
     "nuid": "ca14fcec-29d3-4a99-9fc3-0e726ae457fd",
     "showTitle": false,
     "tableResultSettingsMap": {},
     "title": ""
    }
   },
   "outputs": [],
   "source": [
    "display(result_df_part2)"
   ]
  },
  {
   "cell_type": "code",
   "execution_count": 0,
   "metadata": {
    "application/vnd.databricks.v1+cell": {
     "cellMetadata": {
      "byteLimit": 2048000,
      "rowLimit": 10000
     },
     "inputWidgets": {},
     "nuid": "7adb9176-5c94-4065-b149-4495a29a8a8f",
     "showTitle": false,
     "tableResultSettingsMap": {},
     "title": ""
    }
   },
   "outputs": [],
   "source": [
    "result_df_part2.createOrReplaceTempView(\"all_traj_data_v9_part2\")"
   ]
  },
  {
   "cell_type": "code",
   "execution_count": 0,
   "metadata": {
    "application/vnd.databricks.v1+cell": {
     "cellMetadata": {
      "byteLimit": 2048000,
      "rowLimit": 10000
     },
     "inputWidgets": {},
     "nuid": "509b4226-38be-440b-b5d3-f102cf13a51f",
     "showTitle": false,
     "tableResultSettingsMap": {
      "0": {
       "dataGridStateBlob": "{\"version\":1,\"tableState\":{\"columnPinning\":{\"left\":[\"#row_number#\"],\"right\":[]},\"columnSizing\":{},\"columnVisibility\":{}},\"settings\":{\"columns\":{}},\"syncTimestamp\":1756098556601}",
       "filterBlob": null,
       "queryPlanFiltersBlob": null,
       "tableResultIndex": 0
      }
     },
     "title": ""
    }
   },
   "outputs": [],
   "source": [
    "from pyspark.sql import functions as F\n",
    "result_df_v10_part2 = (\n",
    "    result_df_part2.select(\n",
    "        \"userid\",\n",
    "        \"employername\",\n",
    "        F.col(\"partition_id\"),\n",
    "        F.col(\"idx_in_partition\").alias(\"idx_in_partition\")\n",
    "    )\n",
    "    .groupBy(\"userid\", \"employername\", \"partition_id\")\n",
    "    .agg(\n",
    "        F.max(\"idx_in_partition\").alias(\"max_idx_in_partition\")\n",
    "    )\n",
    ")\n",
    "display(result_df_v10_part2)"
   ]
  },
  {
   "cell_type": "code",
   "execution_count": 0,
   "metadata": {
    "application/vnd.databricks.v1+cell": {
     "cellMetadata": {
      "byteLimit": 2048000,
      "rowLimit": 10000
     },
     "inputWidgets": {},
     "nuid": "5791c4d2-7e82-43da-9090-6159dcf51f17",
     "showTitle": false,
     "tableResultSettingsMap": {},
     "title": ""
    }
   },
   "outputs": [],
   "source": [
    "result_df_v10_part2.createOrReplaceTempView(\"result_df_v10_part2\")"
   ]
  },
  {
   "cell_type": "code",
   "execution_count": 0,
   "metadata": {
    "application/vnd.databricks.v1+cell": {
     "cellMetadata": {
      "byteLimit": 2048000,
      "rowLimit": 10000
     },
     "inputWidgets": {},
     "nuid": "58fa06ba-c94c-4694-9025-69c8453819cb",
     "showTitle": false,
     "tableResultSettingsMap": {},
     "title": ""
    }
   },
   "outputs": [],
   "source": [
    "query = \"\"\"\n",
    "select all_traj_data_v9_part2.*, result_df_v10_part2.max_idx_in_partition as max_idx_in_partition from all_traj_data_v9_part2 as all_traj_data_v9_part2 join result_df_v10_part2 on all_traj_data_v9_part2.userid = result_df_v10_part2.userid and all_traj_data_v9_part2.partition_id = result_df_v10_part2.partition_id and all_traj_data_v9_part2.employername = result_df_v10_part2.employername\n",
    "\"\"\"\n",
    "result_df_v11 = spark.sql(query)\n",
    "display(result_df_v11)"
   ]
  },
  {
   "cell_type": "code",
   "execution_count": 0,
   "metadata": {
    "application/vnd.databricks.v1+cell": {
     "cellMetadata": {
      "byteLimit": 2048000,
      "rowLimit": 10000
     },
     "inputWidgets": {},
     "nuid": "856615f4-8d45-44fb-95bb-a984fbb32c47",
     "showTitle": false,
     "tableResultSettingsMap": {},
     "title": ""
    }
   },
   "outputs": [],
   "source": [
    "def get_set_type(idx_in_partition, max_idx_in_partition):\n",
    "    if idx_in_partition == max_idx_in_partition:\n",
    "        return \"test\"\n",
    "    else:\n",
    "        return \"train\"\n",
    "    \n",
    "result_df_v12 = result_df_v11.withColumn(\"set_type\", F.udf(get_set_type, returnType=StringType())(F.col(\"idx_in_partition\"), F.col(\"max_idx_in_partition\")))\n",
    "display(result_df_v12)\n"
   ]
  },
  {
   "cell_type": "code",
   "execution_count": 0,
   "metadata": {
    "application/vnd.databricks.v1+cell": {
     "cellMetadata": {
      "byteLimit": 2048000,
      "rowLimit": 10000
     },
     "inputWidgets": {},
     "nuid": "6ce6257e-243c-4fe2-97fd-8132453a2c80",
     "showTitle": false,
     "tableResultSettingsMap": {},
     "title": ""
    }
   },
   "outputs": [],
   "source": [
    "from pyspark.sql import functions as F\n",
    "\n",
    "# Suppose your DataFrame is called df\n",
    "filtered_df = (\n",
    "    result_df_v12.groupBy(\"userid\", \"employername\", \"partition_id\", \"set_type\")\n",
    "      .agg(F.count(\"*\").alias(\"cnt\"))\n",
    "      .filter(((F.col(\"cnt\") >= 12) & (F.col('set_type')==\"train\")) | ((F.col('set_type')==\"test\") & (F.col(\"cnt\") >= 4)))  # drop the count column if you don’t need it\n",
    ")\n",
    "display(filtered_df)\n",
    "# Join back with original df to keep only valid groups\n",
    "# result_df_v13 = result_df_v12.join(filtered_df, on=[\"userid\", \"employername\", \"partitionid\"], how=\"inner\")\n"
   ]
  },
  {
   "cell_type": "code",
   "execution_count": 0,
   "metadata": {
    "application/vnd.databricks.v1+cell": {
     "cellMetadata": {
      "byteLimit": 2048000,
      "rowLimit": 10000
     },
     "inputWidgets": {},
     "nuid": "72f20b81-baac-4fec-8468-2dfe85a0bf8a",
     "showTitle": false,
     "tableResultSettingsMap": {},
     "title": ""
    }
   },
   "outputs": [],
   "source": [
    "display(filtered_df.where(\"userid = '14789443'\"))"
   ]
  },
  {
   "cell_type": "code",
   "execution_count": 0,
   "metadata": {
    "application/vnd.databricks.v1+cell": {
     "cellMetadata": {
      "byteLimit": 2048000,
      "rowLimit": 10000
     },
     "inputWidgets": {},
     "nuid": "da4439c0-5987-4739-8e53-11578bc05ab8",
     "showTitle": false,
     "tableResultSettingsMap": {},
     "title": ""
    }
   },
   "outputs": [],
   "source": [
    "filtered_df.count()"
   ]
  },
  {
   "cell_type": "code",
   "execution_count": 0,
   "metadata": {
    "application/vnd.databricks.v1+cell": {
     "cellMetadata": {
      "byteLimit": 2048000,
      "rowLimit": 10000
     },
     "inputWidgets": {},
     "nuid": "455602dc-b8a0-4c01-8771-97c61571684b",
     "showTitle": false,
     "tableResultSettingsMap": {},
     "title": ""
    }
   },
   "outputs": [],
   "source": [
    "filtered_df.createOrReplaceTempView(\"filtered_df\")\n",
    "result_df_v12.createOrReplaceTempView(\"result_df_v12\")"
   ]
  },
  {
   "cell_type": "code",
   "execution_count": 0,
   "metadata": {
    "application/vnd.databricks.v1+cell": {
     "cellMetadata": {
      "byteLimit": 2048000,
      "rowLimit": 10000
     },
     "inputWidgets": {},
     "nuid": "99caa811-44c0-4977-9276-060f4b7754cc",
     "showTitle": false,
     "tableResultSettingsMap": {},
     "title": ""
    }
   },
   "outputs": [],
   "source": [
    "query = \"\"\"\n",
    "select result_df_v12.*, filtered_df.cnt as cnt from result_df_v12 join filtered_df on result_df_v12.userid = filtered_df.userid and result_df_v12.partition_id = filtered_df.partition_id and result_df_v12.employername = filtered_df.employername and result_df_v12.set_type = filtered_df.set_type\n",
    "\"\"\"\n",
    "\n",
    "\n",
    "result_df_v13 = spark.sql(query)\n",
    "display(result_df_v13)"
   ]
  },
  {
   "cell_type": "code",
   "execution_count": 0,
   "metadata": {
    "application/vnd.databricks.v1+cell": {
     "cellMetadata": {
      "byteLimit": 2048000,
      "rowLimit": 10000
     },
     "inputWidgets": {},
     "nuid": "01f0776b-bd96-4209-9a91-ad697a504da2",
     "showTitle": false,
     "tableResultSettingsMap": {},
     "title": ""
    }
   },
   "outputs": [],
   "source": [
    "result_df_v13.createOrReplaceTempView(\"result_df_v13\")"
   ]
  },
  {
   "cell_type": "code",
   "execution_count": 0,
   "metadata": {
    "application/vnd.databricks.v1+cell": {
     "cellMetadata": {
      "byteLimit": 2048000,
      "rowLimit": 10000
     },
     "inputWidgets": {},
     "nuid": "9fb81ee7-33ee-43b3-a06f-3b6609a6323d",
     "showTitle": false,
     "tableResultSettingsMap": {},
     "title": ""
    }
   },
   "outputs": [],
   "source": [
    "result_df_v12.write.mode(\"overwrite\").saveAsTable(\"main_prod.datascience_scratchpad.all_traj_test_data_v12\")"
   ]
  },
  {
   "cell_type": "code",
   "execution_count": 0,
   "metadata": {
    "application/vnd.databricks.v1+cell": {
     "cellMetadata": {
      "byteLimit": 2048000,
      "rowLimit": 10000
     },
     "inputWidgets": {},
     "nuid": "05724889-7ea2-4229-b2f9-e09601a69979",
     "showTitle": false,
     "tableResultSettingsMap": {},
     "title": ""
    }
   },
   "outputs": [],
   "source": [
    "result_df_v12.createOrReplaceTempView(\"result_df_v12\")"
   ]
  },
  {
   "cell_type": "code",
   "execution_count": 0,
   "metadata": {
    "application/vnd.databricks.v1+cell": {
     "cellMetadata": {
      "byteLimit": 2048000,
      "rowLimit": 10000
     },
     "inputWidgets": {},
     "nuid": "08f22895-bca1-412a-8b07-f8a28103ea0b",
     "showTitle": false,
     "tableResultSettingsMap": {},
     "title": ""
    }
   },
   "outputs": [],
   "source": [
    "result_df_v13.write.mode(\"overwrite\").saveAsTable(\"main_prod.datascience_scratchpad.la_traj_data_v13\")"
   ]
  },
  {
   "cell_type": "code",
   "execution_count": 0,
   "metadata": {
    "application/vnd.databricks.v1+cell": {
     "cellMetadata": {
      "byteLimit": 2048000,
      "rowLimit": 10000
     },
     "inputWidgets": {},
     "nuid": "539b2ea5-36f7-4091-94d8-016d4cc1b446",
     "showTitle": false,
     "tableResultSettingsMap": {},
     "title": ""
    }
   },
   "outputs": [],
   "source": [
    "result_df_part1.createOrReplaceTempView(\"all_traj_data_v9_part1\")"
   ]
  },
  {
   "cell_type": "code",
   "execution_count": 0,
   "metadata": {
    "application/vnd.databricks.v1+cell": {
     "cellMetadata": {
      "byteLimit": 2048000,
      "rowLimit": 10000
     },
     "inputWidgets": {},
     "nuid": "48da6a59-2bc2-46a4-8d65-5bf076057626",
     "showTitle": false,
     "tableResultSettingsMap": {},
     "title": ""
    }
   },
   "outputs": [],
   "source": [
    "query = \"\"\"\n",
    "select all_traj_data_v9_part1.*, result_df_v12.employername as employername, result_df_v12.partition_id as partition_id, result_df_v12.pck_amt as pck_amt, result_df_v12.set_type as set_type from all_traj_data_v9_part1 join result_df_v12 on all_traj_data_v9_part1.userid = result_df_v12.userid and all_traj_data_v9_part1.traj_date = result_df_v12.traj_date\"\"\"\n",
    "result_df_v14 = spark.sql(query)\n",
    "display(result_df_v14)"
   ]
  },
  {
   "cell_type": "code",
   "execution_count": 0,
   "metadata": {
    "application/vnd.databricks.v1+cell": {
     "cellMetadata": {
      "byteLimit": 2048000,
      "rowLimit": 10000
     },
     "inputWidgets": {},
     "nuid": "93fccfdf-554b-4d18-9542-f1bd887055d8",
     "showTitle": false,
     "tableResultSettingsMap": {},
     "title": ""
    }
   },
   "outputs": [],
   "source": [
    "\n",
    "result_df_v14.write.mode(\"overwrite\").saveAsTable(\"main_prod.datascience_scratchpad.nyc_traj_data_v14\")"
   ]
  },
  {
   "cell_type": "code",
   "execution_count": 0,
   "metadata": {
    "application/vnd.databricks.v1+cell": {
     "cellMetadata": {
      "byteLimit": 2048000,
      "rowLimit": 10000
     },
     "inputWidgets": {},
     "nuid": "6197eaed-12e1-4302-b260-63ace92990b2",
     "showTitle": false,
     "tableResultSettingsMap": {},
     "title": ""
    }
   },
   "outputs": [],
   "source": [
    "result_df_v14 = spark.read.table(\"main_prod.datascience_scratchpad.nyc_traj_data_v14\")"
   ]
  },
  {
   "cell_type": "code",
   "execution_count": 0,
   "metadata": {
    "application/vnd.databricks.v1+cell": {
     "cellMetadata": {
      "byteLimit": 2048000,
      "rowLimit": 10000
     },
     "inputWidgets": {},
     "nuid": "79fdfb8a-4ffa-46df-94f2-e7bad9086dd5",
     "showTitle": false,
     "tableResultSettingsMap": {},
     "title": ""
    }
   },
   "outputs": [],
   "source": [
    "result_df_v14 = result_df_v14.withColumnRenamed(\"polylines_final\", \"wgs_seq\")\n",
    "result_df_v14 = result_df_v14.filter(col(\"wgs_seq\").isNotNull())\n",
    "display(result_df_v14)"
   ]
  },
  {
   "cell_type": "code",
   "execution_count": 0,
   "metadata": {
    "application/vnd.databricks.v1+cell": {
     "cellMetadata": {
      "byteLimit": 2048000,
      "rowLimit": 10000
     },
     "inputWidgets": {},
     "nuid": "214a0aa7-4848-4379-ac42-eb57f4db9677",
     "showTitle": false,
     "tableResultSettingsMap": {},
     "title": ""
    }
   },
   "outputs": [],
   "source": [
    "from pyspark.sql.functions import expr\n",
    "result_df_v15 = result_df_v14.withColumn(\"trajlen\", expr(\"size(wgs_seq)\"))\n",
    "\n",
    "display(result_df_v15)"
   ]
  },
  {
   "cell_type": "code",
   "execution_count": 0,
   "metadata": {
    "application/vnd.databricks.v1+cell": {
     "cellMetadata": {
      "byteLimit": 2048000,
      "rowLimit": 10000
     },
     "inputWidgets": {},
     "nuid": "759e380b-1f87-4664-9000-1a58cf20a530",
     "showTitle": false,
     "tableResultSettingsMap": {},
     "title": ""
    }
   },
   "outputs": [],
   "source": [
    "import math\n",
    "def lonlat2meters(lon, lat):\n",
    "    semimajoraxis = 6378137.0\n",
    "    east = lon * 0.017453292519943295\n",
    "    north = lat * 0.017453292519943295\n",
    "    t = math.sin(north)\n",
    "    return semimajoraxis * east, 3189068.5 * math.log((1 + t) / (1 - t))"
   ]
  },
  {
   "cell_type": "code",
   "execution_count": 0,
   "metadata": {
    "application/vnd.databricks.v1+cell": {
     "cellMetadata": {
      "byteLimit": 2048000,
      "rowLimit": 10000
     },
     "inputWidgets": {},
     "nuid": "34d5c2d1-3a44-4bb2-b690-782624b8d585",
     "showTitle": false,
     "tableResultSettingsMap": {},
     "title": ""
    }
   },
   "outputs": [],
   "source": [
    "lonlat2meters_udf = udf(lambda traj: [list(lonlat2meters(p[0], p[1])) for p in traj], ArrayType(ArrayType(DoubleType())))\n",
    "result_df_v16 = result_df_v15.withColumn(\"merc_seq\", lonlat2meters_udf(col(\"wgs_seq\")))\n",
    "display(result_df_v16)"
   ]
  },
  {
   "cell_type": "code",
   "execution_count": 0,
   "metadata": {
    "application/vnd.databricks.v1+cell": {
     "cellMetadata": {
      "byteLimit": 2048000,
      "rowLimit": 10000
     },
     "inputWidgets": {},
     "nuid": "7e239780-ece1-4c16-8614-5b2aba21e1be",
     "showTitle": false,
     "tableResultSettingsMap": {},
     "title": ""
    }
   },
   "outputs": [],
   "source": [
    "result_df_v16.select(\"userid\").distinct().count()"
   ]
  },
  {
   "cell_type": "code",
   "execution_count": 0,
   "metadata": {
    "application/vnd.databricks.v1+cell": {
     "cellMetadata": {
      "byteLimit": 2048000,
      "rowLimit": 10000
     },
     "inputWidgets": {},
     "nuid": "ede538b7-e3a5-4787-8ecc-bf845c5a16a3",
     "showTitle": false,
     "tableResultSettingsMap": {},
     "title": ""
    }
   },
   "outputs": [],
   "source": [
    "result_df_v16.select('employername').distinct().count()"
   ]
  },
  {
   "cell_type": "code",
   "execution_count": 0,
   "metadata": {
    "application/vnd.databricks.v1+cell": {
     "cellMetadata": {
      "byteLimit": 2048000,
      "rowLimit": 10000
     },
     "inputWidgets": {},
     "nuid": "1087ff09-1f3f-4255-b016-6550d814b19e",
     "showTitle": false,
     "tableResultSettingsMap": {},
     "title": ""
    }
   },
   "outputs": [],
   "source": [
    "# total partitions\n",
    "\n",
    "result_df_v16.select('userid','employername','partition_id').distinct().count()\n"
   ]
  },
  {
   "cell_type": "code",
   "execution_count": 0,
   "metadata": {
    "application/vnd.databricks.v1+cell": {
     "cellMetadata": {
      "byteLimit": 2048000,
      "rowLimit": 10000
     },
     "inputWidgets": {},
     "nuid": "4e8bc93d-ade7-4811-a7da-bb8151d47ada",
     "showTitle": false,
     "tableResultSettingsMap": {},
     "title": ""
    }
   },
   "outputs": [],
   "source": [
    "result_df_v16.write.mode(\"overwrite\").saveAsTable(\"main_prod.datascience_scratchpad.nyc_traj_data_v16\")"
   ]
  },
  {
   "cell_type": "code",
   "execution_count": 0,
   "metadata": {
    "application/vnd.databricks.v1+cell": {
     "cellMetadata": {
      "byteLimit": 2048000,
      "rowLimit": 10000
     },
     "inputWidgets": {},
     "nuid": "88e9576d-4c0c-4a05-a649-d235699c14f4",
     "showTitle": false,
     "tableResultSettingsMap": {},
     "title": ""
    }
   },
   "outputs": [],
   "source": [
    "result_df_v16.count()"
   ]
  },
  {
   "cell_type": "code",
   "execution_count": 0,
   "metadata": {
    "application/vnd.databricks.v1+cell": {
     "cellMetadata": {
      "byteLimit": 2048000,
      "rowLimit": 10000
     },
     "inputWidgets": {},
     "nuid": "623a6a3b-cfd9-4e43-8348-73e20e26b2dc",
     "showTitle": false,
     "tableResultSettingsMap": {},
     "title": ""
    }
   },
   "outputs": [],
   "source": [
    "result_df_v16_pd = result_df_v16.toPandas()\n",
    "result_df_v16_pd.head()"
   ]
  },
  {
   "cell_type": "code",
   "execution_count": 0,
   "metadata": {
    "application/vnd.databricks.v1+cell": {
     "cellMetadata": {
      "byteLimit": 2048000,
      "rowLimit": 10000
     },
     "inputWidgets": {},
     "nuid": "ada29081-3b58-448e-a66b-8017c11f2be8",
     "showTitle": false,
     "tableResultSettingsMap": {},
     "title": ""
    }
   },
   "outputs": [],
   "source": [
    "def get_weekday(traj_date):\n",
    "    return traj_date.weekday()\n",
    "\n",
    "\n",
    "get_weekday_udf = udf(lambda traj_date: get_weekday(traj_date), IntegerType())\n",
    "result_df_v17 = result_df_v14.withColumn(\"weekday\", get_weekday_udf(col(\"traj_date\")))\n",
    "display(result_df_v17)"
   ]
  },
  {
   "cell_type": "code",
   "execution_count": 0,
   "metadata": {
    "application/vnd.databricks.v1+cell": {
     "cellMetadata": {
      "byteLimit": 2048000,
      "rowLimit": 10000
     },
     "inputWidgets": {},
     "nuid": "d6afc572-f99d-4b03-a2b4-b392c82f4ec7",
     "showTitle": false,
     "tableResultSettingsMap": {},
     "title": ""
    }
   },
   "outputs": [],
   "source": [
    "result_df_v17.write.mode(\"overwrite\").saveAsTable(\"main_prod.datascience_scratchpad.all_traj_test_with_pck\")"
   ]
  },
  {
   "cell_type": "code",
   "execution_count": 0,
   "metadata": {
    "application/vnd.databricks.v1+cell": {
     "cellMetadata": {
      "byteLimit": 2048000,
      "rowLimit": 10000
     },
     "inputWidgets": {},
     "nuid": "015df0fd-0f5e-49a3-a0c9-367886985cc2",
     "showTitle": false,
     "tableResultSettingsMap": {},
     "title": ""
    }
   },
   "outputs": [],
   "source": [
    "display(result_df_v17.where(\"userid  = '5240'\"))"
   ]
  },
  {
   "cell_type": "code",
   "execution_count": 0,
   "metadata": {
    "application/vnd.databricks.v1+cell": {
     "cellMetadata": {
      "byteLimit": 2048000,
      "rowLimit": 10000
     },
     "inputWidgets": {},
     "nuid": "2fb347f7-1089-4bef-9052-7a85acd904a4",
     "showTitle": false,
     "tableResultSettingsMap": {},
     "title": ""
    }
   },
   "outputs": [],
   "source": [
    "result_df_v17.write.mode(\"overwrite\").parquet(\"/Volumes/main_prod/datascience_scratchpad/jatin/trajcl_exp/nyc/hyp_2/df_v17\")"
   ]
  },
  {
   "cell_type": "code",
   "execution_count": 0,
   "metadata": {
    "application/vnd.databricks.v1+cell": {
     "cellMetadata": {
      "byteLimit": 2048000,
      "rowLimit": 10000
     },
     "inputWidgets": {},
     "nuid": "4efa6a14-6e7a-4508-83c8-55021b3927a1",
     "showTitle": false,
     "tableResultSettingsMap": {},
     "title": ""
    }
   },
   "outputs": [],
   "source": [
    "result_df_v17.count()"
   ]
  },
  {
   "cell_type": "code",
   "execution_count": 0,
   "metadata": {
    "application/vnd.databricks.v1+cell": {
     "cellMetadata": {
      "byteLimit": 2048000,
      "rowLimit": 10000
     },
     "inputWidgets": {},
     "nuid": "16343d76-0ac8-4cb9-b770-dc8362035e39",
     "showTitle": false,
     "tableResultSettingsMap": {},
     "title": ""
    }
   },
   "outputs": [],
   "source": [
    "result_df_v17.select('userid').distinct().count()"
   ]
  },
  {
   "cell_type": "code",
   "execution_count": 0,
   "metadata": {
    "application/vnd.databricks.v1+cell": {
     "cellMetadata": {
      "byteLimit": 2048000,
      "rowLimit": 10000
     },
     "inputWidgets": {},
     "nuid": "2bbdd74f-d149-4bd6-8fa2-2eb8a864f80f",
     "showTitle": false,
     "tableResultSettingsMap": {},
     "title": ""
    }
   },
   "outputs": [],
   "source": [
    "from pyspark.sql.functions import udf\n",
    "from pyspark.sql.types import ArrayType, IntegerType\n",
    "\n",
    "def ts_to_min_index_list(ts_list):\n",
    "    output = []\n",
    "    for ts in ts_list:\n",
    "        output.append(((ts.hour * 60) + ts.minute)//10)\n",
    "    return output\n",
    "\n",
    "\n",
    "udf_ts_to_min_index_list = udf(ts_to_min_index_list, ArrayType(IntegerType()))\n",
    "result_df_v18 = result_df_v17.withColumn('time_index_list', udf_ts_to_min_index_list('timestamps'))\n",
    "display(result_df_v18)"
   ]
  },
  {
   "cell_type": "code",
   "execution_count": 0,
   "metadata": {
    "application/vnd.databricks.v1+cell": {
     "cellMetadata": {
      "byteLimit": 2048000,
      "rowLimit": 10000
     },
     "inputWidgets": {},
     "nuid": "fbb388bd-b3c8-43fd-90b1-991907d11630",
     "showTitle": false,
     "tableResultSettingsMap": {},
     "title": ""
    }
   },
   "outputs": [],
   "source": [
    "result_df_v18.write.mode(\"overwrite\").saveAsTable(\"main_prod.datascience_scratchpad.nyc_traj_data_v18\")"
   ]
  },
  {
   "cell_type": "code",
   "execution_count": 0,
   "metadata": {
    "application/vnd.databricks.v1+cell": {
     "cellMetadata": {},
     "inputWidgets": {},
     "nuid": "35c2f7b0-6c30-42b4-85b1-4034754c3145",
     "showTitle": false,
     "tableResultSettingsMap": {},
     "title": ""
    }
   },
   "outputs": [],
   "source": []
  }
 ],
 "metadata": {
  "application/vnd.databricks.v1+notebook": {
   "computePreferences": {
    "hardware": {
     "accelerator": null,
     "gpuPoolId": null,
     "memory": null
    }
   },
   "dashboards": [],
   "environmentMetadata": {
    "base_environment": "",
    "environment_version": "2"
   },
   "inputWidgetPreferences": null,
   "language": "python",
   "notebookMetadata": {
    "mostRecentlyExecutedCommandWithImplicitDF": {
     "commandId": 4708991079311916,
     "dataframes": [
      "_sqldf"
     ]
    },
    "pythonIndentUnit": 4
   },
   "notebookName": "pos_neg_paycycle_prediction_data_prep",
   "widgets": {}
  },
  "language_info": {
   "name": "python"
  }
 },
 "nbformat": 4,
 "nbformat_minor": 0
}
