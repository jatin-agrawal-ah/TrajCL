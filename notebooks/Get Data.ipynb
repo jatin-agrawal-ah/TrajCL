{
 "cells": [
  {
   "cell_type": "code",
   "execution_count": 0,
   "metadata": {
    "application/vnd.databricks.v1+cell": {
     "cellMetadata": {
      "byteLimit": 2048000,
      "rowLimit": 10000
     },
     "inputWidgets": {},
     "nuid": "f35f81c2-19b9-4d03-b3e3-bce48a0a9479",
     "showTitle": false,
     "tableResultSettingsMap": {},
     "title": ""
    }
   },
   "outputs": [],
   "source": [
    "# query = f\"\"\"SELECT *\n",
    "# FROM clientstate.full_locations \n",
    "# WHERE latitude BETWEEN 40.4774 AND 40.9176 \n",
    "#   AND longitude BETWEEN -74.2591 AND -73.7004\"\"\"\n",
    "\n",
    "# df = spark.sql(query)"
   ]
  },
  {
   "cell_type": "code",
   "execution_count": 0,
   "metadata": {
    "application/vnd.databricks.v1+cell": {
     "cellMetadata": {},
     "inputWidgets": {},
     "nuid": "7035d3cb-a362-41f4-bbf4-cb3af32ed797",
     "showTitle": false,
     "tableResultSettingsMap": {},
     "title": ""
    }
   },
   "outputs": [],
   "source": [
    "# df.write.format(\"delta\").saveAsTable(\"main_prod.datascience_scratchpad.nyc_traj_data\")"
   ]
  },
  {
   "cell_type": "code",
   "execution_count": 0,
   "metadata": {
    "application/vnd.databricks.v1+cell": {
     "cellMetadata": {
      "byteLimit": 2048000,
      "rowLimit": 10000
     },
     "inputWidgets": {},
     "nuid": "c473be91-3e52-40c1-bde3-ef6d68ecf47a",
     "showTitle": false,
     "tableResultSettingsMap": {
      "0": {
       "dataGridStateBlob": "{\"version\":1,\"tableState\":{\"columnPinning\":{\"left\":[\"#row_number#\"],\"right\":[]},\"columnSizing\":{},\"columnVisibility\":{}},\"settings\":{\"columns\":{}},\"syncTimestamp\":1753991684778}",
       "filterBlob": null,
       "queryPlanFiltersBlob": null,
       "tableResultIndex": 0
      }
     },
     "title": ""
    }
   },
   "outputs": [],
   "source": [
    "query = \"\"\"\n",
    "select * from main_prod.datascience_scratchpad.nyc_traj_data\n",
    "\"\"\"\n",
    "temp_df = spark.sql(query)\n",
    "temp_df.createOrReplaceTempView(\"temp_df\")\n",
    "display(temp_df)"
   ]
  },
  {
   "cell_type": "code",
   "execution_count": 0,
   "metadata": {
    "application/vnd.databricks.v1+cell": {
     "cellMetadata": {
      "byteLimit": 2048000,
      "rowLimit": 10000
     },
     "inputWidgets": {},
     "nuid": "6ca71460-5f96-4a96-b06e-a54ce1a087ce",
     "showTitle": false,
     "tableResultSettingsMap": {},
     "title": ""
    }
   },
   "outputs": [],
   "source": [
    "# convert timestamps for all the datapoints in the df\n",
    "\n",
    "query = \"\"\"\n",
    "select distinct nyc_traj_data.userid, nyc_traj_data.latitude, nyc_traj_data.longitude, from_utc_timestamp(from_unixtime(nyc_traj_data.location_timestamp / 1000), tz.timezone) AS localized_timestamp from temp_df nyc_traj_data join main_prod.datascience.userpiphistory tz on nyc_traj_data.userid = tz.userid order by localized_timestamp\"\"\"\n",
    "\n",
    "df = spark.sql(query)\n",
    "df.createOrReplaceTempView(\"nyc_traj_data_loc_ts\")\n",
    "display(df)\n"
   ]
  },
  {
   "cell_type": "code",
   "execution_count": 0,
   "metadata": {
    "application/vnd.databricks.v1+cell": {
     "cellMetadata": {
      "byteLimit": 2048000,
      "rowLimit": 10000
     },
     "inputWidgets": {},
     "nuid": "32ca46cb-bea1-49b6-8ff5-dc5a06f92b35",
     "showTitle": false,
     "tableResultSettingsMap": {},
     "title": ""
    }
   },
   "outputs": [],
   "source": [
    "query = \"\"\"\n",
    "SELECT \n",
    "    userid,\n",
    "    DATE(localized_timestamp) AS date,\n",
    "    COLLECT_LIST(localized_timestamp) AS timestamps,\n",
    "    COLLECT_LIST(latitude) AS latitudes,\n",
    "    COLLECT_LIST(longitude) AS longitudes\n",
    "FROM \n",
    "    nyc_traj_data_loc_ts\n",
    "WHERE\n",
    "    userid IS NOT NULL \n",
    "    AND localized_timestamp IS NOT NULL \n",
    "    AND latitude IS NOT NULL \n",
    "    AND longitude IS NOT NULL\n",
    "GROUP BY \n",
    "    userid, DATE(localized_timestamp)\n",
    "ORDER BY \n",
    "    userid, date\n",
    "\"\"\"\n",
    "\n",
    "result_df = spark.sql(query)\n",
    "display(result_df)"
   ]
  },
  {
   "cell_type": "code",
   "execution_count": 0,
   "metadata": {
    "application/vnd.databricks.v1+cell": {
     "cellMetadata": {
      "byteLimit": 2048000,
      "rowLimit": 10000
     },
     "inputWidgets": {},
     "nuid": "f37af745-3841-4cf2-b57c-f2c876ede927",
     "showTitle": false,
     "tableResultSettingsMap": {},
     "title": ""
    }
   },
   "outputs": [],
   "source": [
    "result_df.write.mode(\"overwrite\").saveAsTable(\"main_prod.datascience_scratchpad.nyc_userid_traj_ts_data\")"
   ]
  },
  {
   "cell_type": "code",
   "execution_count": 0,
   "metadata": {
    "application/vnd.databricks.v1+cell": {
     "cellMetadata": {
      "byteLimit": 2048000,
      "rowLimit": 10000
     },
     "inputWidgets": {},
     "nuid": "141cc8ef-18f6-4836-a8e1-96663f0c302d",
     "showTitle": false,
     "tableResultSettingsMap": {
      "0": {
       "dataGridStateBlob": "{\"version\":1,\"tableState\":{\"columnPinning\":{\"left\":[\"#row_number#\"],\"right\":[]},\"columnSizing\":{},\"columnVisibility\":{}},\"settings\":{\"columns\":{}},\"syncTimestamp\":1753991772187}",
       "filterBlob": null,
       "queryPlanFiltersBlob": null,
       "tableResultIndex": 0
      }
     },
     "title": ""
    }
   },
   "outputs": [],
   "source": [
    "query = \"\"\"\n",
    "SELECT \n",
    "    userid, \n",
    "    COUNT(*) AS frequency\n",
    "FROM \n",
    "    main_prod.datascience_scratchpad.nyc_traj_data\n",
    "where userid != 0\n",
    "GROUP BY \n",
    "    userid\n",
    "ORDER BY \n",
    "    frequency DESC\n",
    "limit 50000\n",
    "\"\"\"\n",
    "\n",
    "frequent_users_df = spark.sql(query)\n",
    "display(frequent_users_df)"
   ]
  },
  {
   "cell_type": "code",
   "execution_count": 0,
   "metadata": {
    "application/vnd.databricks.v1+cell": {
     "cellMetadata": {
      "byteLimit": 2048000,
      "rowLimit": 10000
     },
     "inputWidgets": {},
     "nuid": "09bbb66b-a7c7-44a2-81b4-fa09af96fb18",
     "showTitle": false,
     "tableResultSettingsMap": {},
     "title": ""
    }
   },
   "outputs": [],
   "source": [
    "frequent_users_df.createOrReplaceTempView(\"frequent_users_df\")"
   ]
  },
  {
   "cell_type": "code",
   "execution_count": 0,
   "metadata": {
    "application/vnd.databricks.v1+cell": {
     "cellMetadata": {
      "byteLimit": 2048000,
      "rowLimit": 10000
     },
     "inputWidgets": {},
     "nuid": "3b8f85f0-3112-466b-92ee-f3de05a4d2cd",
     "showTitle": false,
     "tableResultSettingsMap": {
      "0": {
       "dataGridStateBlob": "{\"version\":1,\"tableState\":{\"columnPinning\":{\"left\":[\"#row_number#\"],\"right\":[]},\"columnSizing\":{},\"columnVisibility\":{}},\"settings\":{\"columns\":{}},\"syncTimestamp\":1753992452699}",
       "filterBlob": null,
       "queryPlanFiltersBlob": null,
       "tableResultIndex": 0
      }
     },
     "title": ""
    }
   },
   "outputs": [],
   "source": [
    "# join on frequent users\n",
    "query = \"\"\"\n",
    "SELECT nyc_traj_data.* FROM frequent_users_df frequent_users_df join main_prod.datascience_scratchpad.nyc_traj_data nyc_traj_data on nyc_traj_data.userid = frequent_users_df.userid\n",
    "\"\"\"\n",
    "nyc_frequent_users_df = spark.sql(query)\n",
    "nyc_frequent_users_df.createOrReplaceTempView(\"nyc_frequent_users_df\")\n",
    "display(nyc_frequent_users_df)"
   ]
  },
  {
   "cell_type": "code",
   "execution_count": 0,
   "metadata": {
    "application/vnd.databricks.v1+cell": {
     "cellMetadata": {
      "byteLimit": 2048000,
      "rowLimit": 10000
     },
     "inputWidgets": {},
     "nuid": "2ad23a35-8423-4e18-86e5-f73b4ca9d2c7",
     "showTitle": false,
     "tableResultSettingsMap": {},
     "title": ""
    }
   },
   "outputs": [],
   "source": [
    "# get max and min userid\n",
    "query = \"\"\"\n",
    "SELECT MAX(userid) AS max_userid, MIN(userid) AS min_userid FROM frequent_users_df\n",
    "\"\"\"\n",
    "max_min_df = spark.sql(query)\n",
    "display(max_min_df)"
   ]
  },
  {
   "cell_type": "code",
   "execution_count": 0,
   "metadata": {
    "application/vnd.databricks.v1+cell": {
     "cellMetadata": {
      "byteLimit": 2048000,
      "implicitDf": true,
      "rowLimit": 10000
     },
     "inputWidgets": {},
     "nuid": "7b858cbf-1531-4f8f-87ad-77708ebad464",
     "showTitle": false,
     "tableResultSettingsMap": {},
     "title": ""
    }
   },
   "outputs": [],
   "source": [
    "%sql\n",
    "select count(*) from nyc_frequent_users_df"
   ]
  },
  {
   "cell_type": "code",
   "execution_count": 0,
   "metadata": {
    "application/vnd.databricks.v1+cell": {
     "cellMetadata": {
      "byteLimit": 2048000,
      "implicitDf": true,
      "rowLimit": 10000
     },
     "inputWidgets": {},
     "nuid": "fff9bf14-cb2e-4d30-b774-7f19b56e5a38",
     "showTitle": false,
     "tableResultSettingsMap": {},
     "title": ""
    }
   },
   "outputs": [],
   "source": [
    "%sql\n",
    "select sum(frequency) from frequent_users_df"
   ]
  },
  {
   "cell_type": "code",
   "execution_count": 0,
   "metadata": {
    "application/vnd.databricks.v1+cell": {
     "cellMetadata": {
      "byteLimit": 2048000,
      "rowLimit": 10000
     },
     "inputWidgets": {},
     "nuid": "72247678-c0ce-4116-8a85-368b7f5be430",
     "showTitle": false,
     "tableResultSettingsMap": {
      "0": {
       "dataGridStateBlob": "{\"version\":1,\"tableState\":{\"columnPinning\":{\"left\":[\"#row_number#\"],\"right\":[]},\"columnSizing\":{},\"columnVisibility\":{}},\"settings\":{\"columns\":{}},\"syncTimestamp\":1754040651311}",
       "filterBlob": "{\"version\":1,\"filterGroups\":[{\"enabled\":true,\"filterGroupId\":\"fg_d5df020e\",\"op\":\"OR\",\"filters\":[{\"filterId\":\"f_efae99d7\",\"enabled\":true,\"columnId\":\"userid\",\"dataType\":\"integer\",\"filterType\":\"oneof\",\"filterValues\":[],\"filterConfig\":{\"caseSensitive\":true}}],\"local\":false,\"updatedAt\":1754041138264}],\"syncTimestamp\":1754041138264}",
       "queryPlanFiltersBlob": "[]",
       "tableResultIndex": 0
      }
     },
     "title": ""
    }
   },
   "outputs": [],
   "source": [
    "query = \"\"\"\n",
    "select distinct userid, latitude, longitude, from_utc_timestamp(from_unixtime(location_timestamp / 1000), 'America/New_York') AS localized_timestamp from nyc_frequent_users_df where location_timestamp>1546300800000 order by localized_timestamp\"\"\"\n",
    "\n",
    "df = spark.sql(query)\n",
    "df.createOrReplaceTempView(\"nyc_traj_data_loc_ts\")\n",
    "display(df)"
   ]
  },
  {
   "cell_type": "code",
   "execution_count": 0,
   "metadata": {
    "application/vnd.databricks.v1+cell": {
     "cellMetadata": {
      "byteLimit": 2048000,
      "rowLimit": 10000
     },
     "inputWidgets": {},
     "nuid": "423d601d-a1f8-4a5e-9edb-bbed82bf5d94",
     "showTitle": false,
     "tableResultSettingsMap": {
      "0": {
       "dataGridStateBlob": "{\"version\":1,\"tableState\":{\"columnPinning\":{\"left\":[\"#row_number#\"],\"right\":[]},\"columnSizing\":{},\"columnVisibility\":{}},\"settings\":{\"columns\":{}},\"syncTimestamp\":1754043153252}",
       "filterBlob": null,
       "queryPlanFiltersBlob": null,
       "tableResultIndex": 0
      }
     },
     "title": ""
    }
   },
   "outputs": [],
   "source": [
    "query = \"\"\"\n",
    "select userid, latitude, longitude, localized_timestamp, concat(userid, '_', Date(localized_timestamp)) as traj_id from nyc_traj_data_loc_ts\n",
    "\"\"\"\n",
    "nyc_data_df_traj_id = spark.sql(query)\n",
    "nyc_data_df_traj_id.createOrReplaceTempView(\"nyc_data_df_traj_id\")\n",
    "display(nyc_data_df_traj_id)\n"
   ]
  },
  {
   "cell_type": "code",
   "execution_count": 0,
   "metadata": {
    "application/vnd.databricks.v1+cell": {
     "cellMetadata": {
      "byteLimit": 2048000,
      "implicitDf": true,
      "rowLimit": 10000
     },
     "inputWidgets": {},
     "nuid": "768c0074-4060-4dea-9846-bf06a3a6024d",
     "showTitle": false,
     "tableResultSettingsMap": {},
     "title": ""
    }
   },
   "outputs": [],
   "source": [
    "%sql\n",
    "select * from main_prod.datascience_scratchpad.nyc_data_df_traj_id limit 100"
   ]
  },
  {
   "cell_type": "code",
   "execution_count": 0,
   "metadata": {
    "application/vnd.databricks.v1+cell": {
     "cellMetadata": {
      "byteLimit": 2048000,
      "rowLimit": 10000
     },
     "inputWidgets": {},
     "nuid": "3392471d-f945-4ca0-8399-fbcf055501d2",
     "showTitle": false,
     "tableResultSettingsMap": {},
     "title": ""
    }
   },
   "outputs": [],
   "source": [
    "nyc_data_df_traj_id.write.mode(\"overwrite\").saveAsTable(\"main_prod.datascience_scratchpad.nyc_data_df_traj_id\")"
   ]
  },
  {
   "cell_type": "code",
   "execution_count": 0,
   "metadata": {
    "application/vnd.databricks.v1+cell": {
     "cellMetadata": {
      "byteLimit": 2048000,
      "implicitDf": true,
      "rowLimit": 10000
     },
     "inputWidgets": {},
     "nuid": "5affa065-80a3-4b3f-a565-87f2af366191",
     "showTitle": false,
     "tableResultSettingsMap": {},
     "title": ""
    }
   },
   "outputs": [],
   "source": [
    "%sql\n",
    "select count(*) from nyc_traj_data_loc_ts"
   ]
  },
  {
   "cell_type": "code",
   "execution_count": 0,
   "metadata": {
    "application/vnd.databricks.v1+cell": {
     "cellMetadata": {
      "byteLimit": 2048000,
      "implicitDf": true,
      "rowLimit": 10000
     },
     "inputWidgets": {},
     "nuid": "57d22173-613f-450b-b409-103032ba3c5e",
     "showTitle": false,
     "tableResultSettingsMap": {},
     "title": ""
    }
   },
   "outputs": [],
   "source": [
    "%sql\n",
    "select * from main_prod.datascience_scratchpad.nyc_data_df_traj_id where traj_id = '19846421_2025-03-19' order by localized_timestamp"
   ]
  },
  {
   "cell_type": "code",
   "execution_count": 0,
   "metadata": {
    "application/vnd.databricks.v1+cell": {
     "cellMetadata": {
      "byteLimit": 2048000,
      "implicitDf": true,
      "rowLimit": 10000
     },
     "inputWidgets": {},
     "nuid": "79739363-5465-4d34-bdb7-a44cf362879c",
     "showTitle": false,
     "tableResultSettingsMap": {
      "0": {
       "dataGridStateBlob": "{\"version\":1,\"tableState\":{\"columnPinning\":{\"left\":[\"#row_number#\"],\"right\":[]},\"columnSizing\":{},\"columnVisibility\":{}},\"settings\":{\"columns\":{}},\"syncTimestamp\":1754044853726}",
       "filterBlob": null,
       "queryPlanFiltersBlob": null,
       "tableResultIndex": 0
      }
     },
     "title": ""
    }
   },
   "outputs": [],
   "source": [
    "%sql\n",
    "SELECT *\n",
    "  FROM main_prod.datascience_scratchpad.nyc_data_df_traj_id where traj_id = '618612_2025-07-04'\n",
    "  ORDER BY traj_id, localized_timestamp "
   ]
  },
  {
   "cell_type": "code",
   "execution_count": 0,
   "metadata": {
    "application/vnd.databricks.v1+cell": {
     "cellMetadata": {
      "byteLimit": 2048000,
      "implicitDf": true,
      "rowLimit": 10000
     },
     "inputWidgets": {},
     "nuid": "eb3f01cf-0e7d-43ff-80ad-c707e089f384",
     "showTitle": false,
     "tableResultSettingsMap": {
      "0": {
       "dataGridStateBlob": "{\"version\":1,\"tableState\":{\"columnPinning\":{\"left\":[\"#row_number#\"],\"right\":[]},\"columnSizing\":{},\"columnVisibility\":{}},\"settings\":{\"columns\":{}},\"syncTimestamp\":1754045865412}",
       "filterBlob": null,
       "queryPlanFiltersBlob": null,
       "tableResultIndex": 0
      }
     },
     "title": ""
    }
   },
   "outputs": [],
   "source": [
    "query = \"\"\"\n",
    "SELECT \n",
    "  userid,\n",
    "  traj_id,\n",
    "  \n",
    "  -- Get array of [longitude, latitude] as array of DOUBLEs\n",
    "  transform(\n",
    "    sort_array(collect_list(struct(localized_timestamp, array(\n",
    "      cast(longitude as double),\n",
    "      cast(latitude as double)\n",
    "    )))),\n",
    "    x -> x.col2\n",
    "  ) AS polylines,\n",
    "\n",
    "  -- Extract timestamps\n",
    "  transform(\n",
    "    sort_array(collect_list(struct(localized_timestamp, array(\n",
    "      longitude, latitude\n",
    "    )))),\n",
    "    x -> x.localized_timestamp\n",
    "  ) AS timestamps\n",
    "\n",
    "FROM main_prod.datascience_scratchpad.nyc_data_df_traj_id\n",
    "GROUP BY traj_id, userid;\n",
    "\"\"\"\n",
    "\n",
    "df = spark.sql(query)\n",
    "display(df)"
   ]
  },
  {
   "cell_type": "code",
   "execution_count": 0,
   "metadata": {
    "application/vnd.databricks.v1+cell": {
     "cellMetadata": {
      "byteLimit": 2048000,
      "rowLimit": 10000
     },
     "inputWidgets": {},
     "nuid": "799478c3-42db-4bbe-8b6f-25235009361e",
     "showTitle": false,
     "tableResultSettingsMap": {},
     "title": ""
    }
   },
   "outputs": [],
   "source": [
    "df.select(\"*\").count()"
   ]
  },
  {
   "cell_type": "code",
   "execution_count": 0,
   "metadata": {
    "application/vnd.databricks.v1+cell": {
     "cellMetadata": {
      "byteLimit": 2048000,
      "rowLimit": 10000
     },
     "inputWidgets": {},
     "nuid": "3fd02af5-2ce7-4518-ba38-b1b12bb1fee2",
     "showTitle": false,
     "tableResultSettingsMap": {},
     "title": ""
    }
   },
   "outputs": [],
   "source": [
    "userids = df.select(\"userid\").distinct()"
   ]
  },
  {
   "cell_type": "code",
   "execution_count": 0,
   "metadata": {
    "application/vnd.databricks.v1+cell": {
     "cellMetadata": {
      "byteLimit": 2048000,
      "rowLimit": 10000
     },
     "inputWidgets": {},
     "nuid": "a0141568-9f32-4511-a750-c58b615b18fa",
     "showTitle": false,
     "tableResultSettingsMap": {},
     "title": ""
    }
   },
   "outputs": [],
   "source": [
    "train_userids = userids.sample(False, 0.8)\n",
    "test_userids = userids.subtract(train_userids)\n",
    "display(train_userids.count())"
   ]
  },
  {
   "cell_type": "code",
   "execution_count": 0,
   "metadata": {
    "application/vnd.databricks.v1+cell": {
     "cellMetadata": {
      "byteLimit": 2048000,
      "rowLimit": 10000
     },
     "inputWidgets": {},
     "nuid": "3ed60b87-e598-435d-891b-661f0648b19c",
     "showTitle": false,
     "tableResultSettingsMap": {},
     "title": ""
    }
   },
   "outputs": [],
   "source": [
    "display(test_userids.count())"
   ]
  },
  {
   "cell_type": "code",
   "execution_count": 0,
   "metadata": {
    "application/vnd.databricks.v1+cell": {
     "cellMetadata": {
      "byteLimit": 2048000,
      "rowLimit": 10000
     },
     "inputWidgets": {},
     "nuid": "64a76beb-c26b-464e-9094-ce909b87f90f",
     "showTitle": false,
     "tableResultSettingsMap": {},
     "title": ""
    }
   },
   "outputs": [],
   "source": [
    "train_df = df.join(train_userids, on=\"userid\", how=\"inner\")\n",
    "display(train_df)"
   ]
  },
  {
   "cell_type": "code",
   "execution_count": 0,
   "metadata": {
    "application/vnd.databricks.v1+cell": {
     "cellMetadata": {
      "byteLimit": 2048000,
      "rowLimit": 10000
     },
     "inputWidgets": {},
     "nuid": "4f4f6a93-5b5e-405f-96cc-1bc54a3740f1",
     "showTitle": false,
     "tableResultSettingsMap": {},
     "title": ""
    }
   },
   "outputs": [],
   "source": [
    "test_df = df.join(test_userids, on=\"userid\", how=\"inner\")\n",
    "display(test_df)"
   ]
  },
  {
   "cell_type": "code",
   "execution_count": 0,
   "metadata": {
    "application/vnd.databricks.v1+cell": {
     "cellMetadata": {
      "byteLimit": 2048000,
      "rowLimit": 10000
     },
     "inputWidgets": {},
     "nuid": "815cae75-e9d2-4a0c-b120-e8c0ac12a574",
     "showTitle": false,
     "tableResultSettingsMap": {},
     "title": ""
    }
   },
   "outputs": [],
   "source": [
    "train_df.select('userid').distinct().count()\n"
   ]
  },
  {
   "cell_type": "code",
   "execution_count": 0,
   "metadata": {
    "application/vnd.databricks.v1+cell": {
     "cellMetadata": {
      "byteLimit": 2048000,
      "rowLimit": 10000
     },
     "inputWidgets": {},
     "nuid": "1265950d-868e-406e-ba47-a12b13c71443",
     "showTitle": false,
     "tableResultSettingsMap": {},
     "title": ""
    }
   },
   "outputs": [],
   "source": [
    "test_df.select('userid').distinct().count()"
   ]
  },
  {
   "cell_type": "code",
   "execution_count": 0,
   "metadata": {
    "application/vnd.databricks.v1+cell": {
     "cellMetadata": {
      "byteLimit": 2048000,
      "rowLimit": 10000
     },
     "inputWidgets": {},
     "nuid": "a9b85fdf-f115-4844-8a4d-6447c735c0e6",
     "showTitle": false,
     "tableResultSettingsMap": {},
     "title": ""
    }
   },
   "outputs": [],
   "source": [
    "train_df.write.mode(\"overwrite\").saveAsTable(\"main_prod.datascience_scratchpad.nyc_train_df_v2\")\n",
    "test_df.write.mode(\"overwrite\").saveAsTable(\"main_prod.datascience_scratchpad.nyc_test_df_v2\")"
   ]
  },
  {
   "cell_type": "code",
   "execution_count": 0,
   "metadata": {
    "application/vnd.databricks.v1+cell": {
     "cellMetadata": {
      "byteLimit": 2048000,
      "rowLimit": 10000
     },
     "inputWidgets": {},
     "nuid": "f9c297e9-ff69-4d1b-a449-f56115a22e55",
     "showTitle": false,
     "tableResultSettingsMap": {},
     "title": ""
    }
   },
   "outputs": [],
   "source": [
    "train_df.count(), test_df.count()"
   ]
  },
  {
   "cell_type": "code",
   "execution_count": 0,
   "metadata": {
    "application/vnd.databricks.v1+cell": {
     "cellMetadata": {
      "byteLimit": 2048000,
      "rowLimit": 10000
     },
     "inputWidgets": {},
     "nuid": "153b15a8-756d-40da-bef2-4e8cc866824b",
     "showTitle": false,
     "tableResultSettingsMap": {},
     "title": ""
    }
   },
   "outputs": [],
   "source": [
    "\n",
    "s3_train_path = \"s3://ml-datasets-datalakeprod-us-west-2-sagemaker/jatin-trajcl-exp/train.csv\"\n",
    "\n",
    "\n",
    "train_df.write.mode(\"overwrite\").csv(s3_train_path)\n",
    "\n"
   ]
  },
  {
   "cell_type": "code",
   "execution_count": 0,
   "metadata": {
    "application/vnd.databricks.v1+cell": {
     "cellMetadata": {
      "byteLimit": 2048000,
      "rowLimit": 10000
     },
     "inputWidgets": {},
     "nuid": "8850e468-38ef-494f-bf75-188590e54afd",
     "showTitle": false,
     "tableResultSettingsMap": {},
     "title": ""
    }
   },
   "outputs": [],
   "source": [
    "from pyspark.sql.functions import to_json, col\n",
    "s3_test_path = \"s3://ml-datasets-datalakeprod-us-west-2-sagemaker/jatin-trajcl-exp/test.csv\"\n",
    "\n",
    "test_df_clean = test_df.withColumn(\"polylines\", to_json(col(\"polylines\"))) \\\n",
    "             .withColumn(\"timestamps\", to_json(col(\"timestamps\")))\n",
    "\n",
    "display(test_df_clean)"
   ]
  },
  {
   "cell_type": "code",
   "execution_count": 0,
   "metadata": {
    "application/vnd.databricks.v1+cell": {
     "cellMetadata": {
      "byteLimit": 2048000,
      "rowLimit": 10000
     },
     "inputWidgets": {},
     "nuid": "9f00eaa3-f645-4ff6-b8fe-951b1a99adcb",
     "showTitle": false,
     "tableResultSettingsMap": {},
     "title": ""
    }
   },
   "outputs": [],
   "source": [
    "\n",
    "s3_test_path = \"s3://earnin-prod-datalake-us-west-2-dl-scratchpad/jatin/trajcl-exp/test.csv\"\n",
    "test_df_clean.write.mode(\"overwrite\").csv(s3_test_path)"
   ]
  },
  {
   "cell_type": "code",
   "execution_count": 0,
   "metadata": {
    "application/vnd.databricks.v1+cell": {
     "cellMetadata": {
      "byteLimit": 2048000,
      "rowLimit": 10000
     },
     "inputWidgets": {},
     "nuid": "5a2717d0-dbe3-4fab-9cc6-f4e18798a239",
     "showTitle": false,
     "tableResultSettingsMap": {
      "0": {
       "dataGridStateBlob": "{\"version\":1,\"tableState\":{\"columnPinning\":{\"left\":[\"#row_number#\"],\"right\":[]},\"columnSizing\":{},\"columnVisibility\":{}},\"settings\":{\"columns\":{}},\"syncTimestamp\":1754913336918}",
       "filterBlob": null,
       "queryPlanFiltersBlob": null,
       "tableResultIndex": 0
      }
     },
     "title": ""
    }
   },
   "outputs": [],
   "source": [
    "train_df = spark.table(\"main_prod.datascience_scratchpad.nyc_train_df\")\n",
    "\n",
    "train_df_clean = train_df.withColumn(\"polylines\", to_json(col(\"polylines\"))) \\\n",
    "             .withColumn(\"timestamps\", to_json(col(\"timestamps\")))\n",
    "\n",
    "display(train_df_clean)"
   ]
  },
  {
   "cell_type": "code",
   "execution_count": 0,
   "metadata": {
    "application/vnd.databricks.v1+cell": {
     "cellMetadata": {
      "byteLimit": 2048000,
      "rowLimit": 10000
     },
     "inputWidgets": {},
     "nuid": "4042767f-0ce7-48f3-959b-26add2715e3b",
     "showTitle": false,
     "tableResultSettingsMap": {},
     "title": ""
    }
   },
   "outputs": [],
   "source": [
    "s3_train_path = \"s3://earnin-prod-datalake-us-west-2-dl-scratchpad/jatin/trajcl-exp/train.csv\"\n",
    "\n",
    "train_df_clean.write.mode(\"overwrite\").csv(s3_train_path)"
   ]
  },
  {
   "cell_type": "code",
   "execution_count": 0,
   "metadata": {
    "application/vnd.databricks.v1+cell": {
     "cellMetadata": {},
     "inputWidgets": {},
     "nuid": "40f77e36-5d9e-4fba-8bf5-844c291992b6",
     "showTitle": false,
     "tableResultSettingsMap": {},
     "title": ""
    }
   },
   "outputs": [],
   "source": []
  }
 ],
 "metadata": {
  "application/vnd.databricks.v1+notebook": {
   "computePreferences": null,
   "dashboards": [],
   "environmentMetadata": {
    "base_environment": "",
    "environment_version": "3"
   },
   "inputWidgetPreferences": null,
   "language": "python",
   "notebookMetadata": {
    "mostRecentlyExecutedCommandWithImplicitDF": {
     "commandId": 5204275644121570,
     "dataframes": [
      "_sqldf"
     ]
    },
    "pythonIndentUnit": 4
   },
   "notebookName": "Get Data",
   "widgets": {}
  },
  "language_info": {
   "name": "python"
  }
 },
 "nbformat": 4,
 "nbformat_minor": 0
}
