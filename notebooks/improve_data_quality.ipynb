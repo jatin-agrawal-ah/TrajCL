{
 "cells": [
  {
   "cell_type": "code",
   "execution_count": 0,
   "metadata": {
    "application/vnd.databricks.v1+cell": {
     "cellMetadata": {
      "byteLimit": 2048000,
      "rowLimit": 10000
     },
     "inputWidgets": {},
     "nuid": "4ffad1b3-c284-46c3-a0e5-2649a394dcba",
     "showTitle": false,
     "tableResultSettingsMap": {},
     "title": ""
    }
   },
   "outputs": [],
   "source": [
    "import pandas as pd\n",
    "\n",
    "user_emp_paydates_df_pd = pd.read_parquet(\"/Volumes/main_prod/datascience_scratchpad/jatin/trajcl_exp/nyc/hyp_2/user_emp_paydates_pck_df.parquet\")"
   ]
  },
  {
   "cell_type": "code",
   "execution_count": 0,
   "metadata": {
    "application/vnd.databricks.v1+cell": {
     "cellMetadata": {
      "byteLimit": 2048000,
      "rowLimit": 10000
     },
     "inputWidgets": {},
     "nuid": "2bb5310e-d6af-4c7b-a7f6-b4a9a92337d7",
     "showTitle": false,
     "tableResultSettingsMap": {},
     "title": ""
    }
   },
   "outputs": [],
   "source": [
    "display(user_emp_paydates_df_pd.head())"
   ]
  },
  {
   "cell_type": "code",
   "execution_count": 0,
   "metadata": {
    "application/vnd.databricks.v1+cell": {
     "cellMetadata": {
      "byteLimit": 2048000,
      "rowLimit": 10000
     },
     "inputWidgets": {},
     "nuid": "b9f0649c-ba7c-4435-b7b7-fe7279c88763",
     "showTitle": false,
     "tableResultSettingsMap": {},
     "title": ""
    }
   },
   "outputs": [],
   "source": [
    "gt_label_0_list_file = \"/Workspace/Users/jatin.agrawal@earnin.com/TrajCL/data/gt_label_0_list.pkl\"\n",
    "import pickle\n",
    "\n",
    "gt_label_0_list = pickle.load(open(gt_label_0_list_file, \"rb\"))"
   ]
  },
  {
   "cell_type": "code",
   "execution_count": 0,
   "metadata": {
    "application/vnd.databricks.v1+cell": {
     "cellMetadata": {
      "byteLimit": 2048000,
      "rowLimit": 10000
     },
     "inputWidgets": {},
     "nuid": "b957d62c-5fee-473b-a345-aa41d8c7951e",
     "showTitle": false,
     "tableResultSettingsMap": {},
     "title": ""
    }
   },
   "outputs": [],
   "source": [
    "gt_label_0_list"
   ]
  },
  {
   "cell_type": "code",
   "execution_count": 0,
   "metadata": {
    "application/vnd.databricks.v1+cell": {
     "cellMetadata": {
      "byteLimit": 2048000,
      "rowLimit": 10000
     },
     "inputWidgets": {},
     "nuid": "595e9511-c104-4829-beef-609c42534838",
     "showTitle": false,
     "tableResultSettingsMap": {},
     "title": ""
    }
   },
   "outputs": [],
   "source": [
    "import bisect\n",
    "def get_paydates_range(user_id, emp, partition_id, start_date,end_date):\n",
    "    df = user_emp_paydates_df_pd[(user_emp_paydates_df_pd[\"userid\"] == user_id) & (user_emp_paydates_df_pd['employername']==emp)]\n",
    "    partitions  = df['partitions'].values[0]\n",
    "    partition = partitions[partition_id]\n",
    "    paydates = partition['paydates']\n",
    "    paydate_idx = bisect.bisect_right(paydates, end_date)\n",
    "    if paydate_idx == len(paydates):\n",
    "        return paydates[-2], paydates[-1]\n",
    "    elif paydate_idx == 0:\n",
    "        return start_date, paydates[0]\n",
    "    else:\n",
    "        return paydates[paydate_idx-1], paydates[paydate_idx]"
   ]
  },
  {
   "cell_type": "code",
   "execution_count": 0,
   "metadata": {
    "application/vnd.databricks.v1+cell": {
     "cellMetadata": {
      "byteLimit": 2048000,
      "rowLimit": 10000
     },
     "inputWidgets": {},
     "nuid": "b01c294e-e412-469b-824b-2efcacce4d55",
     "showTitle": false,
     "tableResultSettingsMap": {},
     "title": ""
    }
   },
   "outputs": [],
   "source": [
    "gt_label_0_list[3]"
   ]
  },
  {
   "cell_type": "code",
   "execution_count": 0,
   "metadata": {
    "application/vnd.databricks.v1+cell": {
     "cellMetadata": {
      "byteLimit": 2048000,
      "rowLimit": 10000
     },
     "inputWidgets": {},
     "nuid": "a52c8347-c12e-4923-a01f-9701ed27a60d",
     "showTitle": false,
     "tableResultSettingsMap": {},
     "title": ""
    }
   },
   "outputs": [],
   "source": [
    "display(user_emp_paydates_df_pd[(user_emp_paydates_df_pd[\"userid\"] == gt_label_0_list[1]['key'][0]) & (user_emp_paydates_df_pd['employername']==gt_label_0_list[1]['key'][1])])"
   ]
  },
  {
   "cell_type": "code",
   "execution_count": 0,
   "metadata": {
    "application/vnd.databricks.v1+cell": {
     "cellMetadata": {
      "byteLimit": 2048000,
      "rowLimit": 10000
     },
     "inputWidgets": {},
     "nuid": "46d690a6-aa6a-4bf0-a0e6-a730fa49eccb",
     "showTitle": false,
     "tableResultSettingsMap": {},
     "title": ""
    }
   },
   "outputs": [],
   "source": [
    "\n",
    "get_paydates_range(gt_label_0_list[0]['key'][0], gt_label_0_list[0]['key'][1], gt_label_0_list[0]['key'][2], gt_label_0_list[0]['traj_dates'][-1])"
   ]
  },
  {
   "cell_type": "code",
   "execution_count": 0,
   "metadata": {
    "application/vnd.databricks.v1+cell": {
     "cellMetadata": {
      "byteLimit": 2048000,
      "implicitDf": true,
      "rowLimit": 10000
     },
     "inputWidgets": {},
     "nuid": "ef5415ee-41e7-467c-a2e4-d892431fdea4",
     "showTitle": false,
     "tableResultSettingsMap": {
      "0": {
       "dataGridStateBlob": "{\"version\":1,\"tableState\":{\"columnPinning\":{\"left\":[\"#row_number#\"],\"right\":[]},\"columnSizing\":{},\"columnVisibility\":{}},\"settings\":{\"columns\":{}},\"syncTimestamp\":1756293434505}",
       "filterBlob": null,
       "queryPlanFiltersBlob": null,
       "tableResultIndex": 0
      }
     },
     "title": ""
    }
   },
   "outputs": [],
   "source": [
    "%sql\n",
    "select * from main_prod.paycheckprediction.receivedpaycheck where userid  = \"6048564\""
   ]
  },
  {
   "cell_type": "code",
   "execution_count": 0,
   "metadata": {
    "application/vnd.databricks.v1+cell": {
     "cellMetadata": {},
     "inputWidgets": {},
     "nuid": "462f0648-b5de-4ecd-9a5e-27f79a9ad462",
     "showTitle": false,
     "tableResultSettingsMap": {},
     "title": ""
    }
   },
   "outputs": [],
   "source": []
  },
  {
   "cell_type": "code",
   "execution_count": 0,
   "metadata": {
    "application/vnd.databricks.v1+cell": {
     "cellMetadata": {
      "byteLimit": 2048000,
      "rowLimit": 10000
     },
     "inputWidgets": {},
     "nuid": "b79b7239-653d-413b-bec0-26be84027519",
     "showTitle": false,
     "tableResultSettingsMap": {},
     "title": ""
    }
   },
   "outputs": [],
   "source": [
    "from tqdm import tqdm\n",
    "output = []\n",
    "\n",
    "\n",
    "for i in tqdm(range(len(gt_label_0_list))):\n",
    "    user_id = gt_label_0_list[i]['key'][0]\n",
    "    emp = gt_label_0_list[i]['key'][1]\n",
    "    partition_id = gt_label_0_list[i]['key'][2]\n",
    "    start_date = gt_label_0_list[i]['traj_dates'][0]\n",
    "    end_date = gt_label_0_list[i]['traj_dates'][-1]\n",
    "    start_date, end_date = get_paydates_range(user_id, emp, partition_id, start_date, end_date)\n",
    "    #increase end date by 2 days\n",
    "    end_date = end_date + pd.DateOffset(days=2)\n",
    "    query = \"\"\"\n",
    "    select amount, availableonest from main_prod.paycheckprediction.receivedpaycheck where userid = {} and availableonest between '{}' and '{}' \n",
    "    \"\"\".format(user_id, start_date, end_date)\n",
    "    df = spark.sql(query)\n",
    "    amount = 0\n",
    "    if df.count()>0:\n",
    "        amount = df.select(\"amount\").collect()[0]['amount']\n",
    "    output.append(amount)    "
   ]
  },
  {
   "cell_type": "code",
   "execution_count": 0,
   "metadata": {
    "application/vnd.databricks.v1+cell": {
     "cellMetadata": {
      "byteLimit": 2048000,
      "rowLimit": 10000
     },
     "inputWidgets": {},
     "nuid": "dbc825b3-a654-413a-921e-262dc68aa9ef",
     "showTitle": false,
     "tableResultSettingsMap": {},
     "title": ""
    }
   },
   "outputs": [],
   "source": [
    "final_output = []\n",
    "\n",
    "for i in range(len(gt_label_0_list)):\n",
    "    final_output.append((gt_label_0_list[i]['key'], output[i]))\n",
    "\n",
    "pickle.dump(final_output, open(\"/Workspace/Users/jatin.agrawal@earnin.com/TrajCL/data/gt_label_0_list_with_amt.pkl\", \"wb\"))"
   ]
  },
  {
   "cell_type": "code",
   "execution_count": 0,
   "metadata": {
    "application/vnd.databricks.v1+cell": {
     "cellMetadata": {
      "byteLimit": 2048000,
      "rowLimit": 10000
     },
     "inputWidgets": {},
     "nuid": "562a27d7-0e3c-4728-835b-96cad63ac997",
     "showTitle": false,
     "tableResultSettingsMap": {},
     "title": ""
    }
   },
   "outputs": [],
   "source": [
    "non_0_count = 0\n",
    "for amount in output:\n",
    "    if amount>0:\n",
    "        non_0_count+=1\n",
    "\n",
    "print(non_0_count), print(len(output))"
   ]
  },
  {
   "cell_type": "code",
   "execution_count": 0,
   "metadata": {
    "application/vnd.databricks.v1+cell": {
     "cellMetadata": {
      "byteLimit": 2048000,
      "implicitDf": true,
      "rowLimit": 10000
     },
     "inputWidgets": {},
     "nuid": "3c4830a8-43c3-4423-9f19-c70b3d3c44e6",
     "showTitle": false,
     "tableResultSettingsMap": {},
     "title": ""
    }
   },
   "outputs": [],
   "source": [
    "%sql\n",
    "\n",
    "SELECT * FROM main_prod.ml_data.income_type_v2 WHERE userid = '34299'"
   ]
  },
  {
   "cell_type": "code",
   "execution_count": 0,
   "metadata": {
    "application/vnd.databricks.v1+cell": {
     "cellMetadata": {
      "byteLimit": 2048000,
      "implicitDf": true,
      "rowLimit": 10000
     },
     "inputWidgets": {},
     "nuid": "f58544fa-fa34-4c4d-b00a-2ab6adfa6a10",
     "showTitle": false,
     "tableResultSettingsMap": {
      "0": {
       "dataGridStateBlob": "{\"version\":1,\"tableState\":{\"columnPinning\":{\"left\":[\"#row_number#\"],\"right\":[]},\"columnSizing\":{},\"columnVisibility\":{}},\"settings\":{\"columns\":{}},\"syncTimestamp\":1756362753249}",
       "filterBlob": null,
       "queryPlanFiltersBlob": null,
       "tableResultIndex": 0
      }
     },
     "title": ""
    }
   },
   "outputs": [],
   "source": [
    "%sql\n",
    "select * from main_prod.earnings_analysis.fact_user_earnings_daily where userid = \"3463200\""
   ]
  },
  {
   "cell_type": "code",
   "execution_count": 0,
   "metadata": {
    "application/vnd.databricks.v1+cell": {
     "cellMetadata": {
      "byteLimit": 2048000,
      "implicitDf": true,
      "rowLimit": 10000
     },
     "inputWidgets": {},
     "nuid": "6c21441f-f8b1-4f3f-98b1-1063e28826e8",
     "showTitle": false,
     "tableResultSettingsMap": {
      "0": {
       "dataGridStateBlob": "{\"version\":1,\"tableState\":{\"columnPinning\":{\"left\":[\"#row_number#\"],\"right\":[]},\"columnSizing\":{},\"columnVisibility\":{}},\"settings\":{\"columns\":{}},\"syncTimestamp\":1756369975400}",
       "filterBlob": null,
       "queryPlanFiltersBlob": null,
       "tableResultIndex": 0
      }
     },
     "title": ""
    }
   },
   "outputs": [],
   "source": [
    "%sql\n",
    "select * from main_prod.analysis.derived_userstate_bankconnection where userid = \"6269644\""
   ]
  },
  {
   "cell_type": "code",
   "execution_count": 0,
   "metadata": {
    "application/vnd.databricks.v1+cell": {
     "cellMetadata": {
      "byteLimit": 2048000,
      "rowLimit": 10000
     },
     "inputWidgets": {},
     "nuid": "2b61f87d-4ae8-479d-afb2-79de0bdfd6a2",
     "showTitle": false,
     "tableResultSettingsMap": {},
     "title": ""
    }
   },
   "outputs": [],
   "source": [
    "from tqdm import tqdm\n",
    "output = []\n",
    "\n",
    "\n",
    "for i in tqdm(range(len(gt_label_0_list))):\n",
    "    user_id = gt_label_0_list[i]['key'][0]\n",
    "    emp = gt_label_0_list[i]['key'][1]\n",
    "    partition_id = gt_label_0_list[i]['key'][2]\n",
    "    start_date = gt_label_0_list[i]['traj_dates'][0]\n",
    "    end_date = gt_label_0_list[i]['traj_dates'][-1]\n",
    "    start_date, end_date = get_paydates_range(user_id, emp, partition_id, start_date, end_date)\n",
    "    query = \"\"\"\n",
    "    select connectionstatus from main_prod.analysis.derived_userstate_bankconnection where userid = {} and date_ between '{}' and '{}'\n",
    "    \"\"\".format(user_id, start_date, end_date)\n",
    "    df = spark.sql(query)\n",
    "    df_pd = df.toPandas()\n",
    "    connection_status_list = df_pd['connectionstatus'].values\n",
    "    connection = \"active\"\n",
    "    for status in connection_status_list:\n",
    "        if status!='Healthy':\n",
    "            connection = status\n",
    "            break\n",
    "    output.append(connection)"
   ]
  },
  {
   "cell_type": "code",
   "execution_count": 0,
   "metadata": {
    "application/vnd.databricks.v1+cell": {
     "cellMetadata": {
      "byteLimit": 2048000,
      "rowLimit": 10000
     },
     "inputWidgets": {},
     "nuid": "d4ea9808-0753-41d2-a686-5815012b1cde",
     "showTitle": false,
     "tableResultSettingsMap": {},
     "title": ""
    }
   },
   "outputs": [],
   "source": [
    "count_inactive = 0\n",
    "inactive_dict = {}\n",
    "for i,connection in enumerate(output):\n",
    "    if connection!='active':\n",
    "        count_inactive+=1\n",
    "        inactive_dict[gt_label_0_list[i]['key'][0]] = connection\n",
    "print(count_inactive), print(len(output))"
   ]
  },
  {
   "cell_type": "code",
   "execution_count": 0,
   "metadata": {
    "application/vnd.databricks.v1+cell": {
     "cellMetadata": {
      "byteLimit": 2048000,
      "rowLimit": 10000
     },
     "inputWidgets": {},
     "nuid": "66275f84-b4bf-4a1a-8d4c-e26de96e5610",
     "showTitle": false,
     "tableResultSettingsMap": {},
     "title": ""
    }
   },
   "outputs": [],
   "source": [
    "inactive_dict[165431]"
   ]
  },
  {
   "cell_type": "code",
   "execution_count": 0,
   "metadata": {
    "application/vnd.databricks.v1+cell": {
     "cellMetadata": {
      "byteLimit": 2048000,
      "implicitDf": true,
      "rowLimit": 10000
     },
     "inputWidgets": {},
     "nuid": "7b91f445-14e3-4545-adc1-9b96d21e90d2",
     "showTitle": false,
     "tableResultSettingsMap": {},
     "title": ""
    }
   },
   "outputs": [],
   "source": [
    "%sql\n",
    "select * from main_prod.bankfeed.userprovidedbankconnection where userid = \"6269644\""
   ]
  },
  {
   "cell_type": "code",
   "execution_count": 0,
   "metadata": {
    "application/vnd.databricks.v1+cell": {
     "cellMetadata": {
      "byteLimit": 2048000,
      "rowLimit": 10000
     },
     "inputWidgets": {},
     "nuid": "cc72c429-e836-4de8-9fa6-c622785a8ef3",
     "showTitle": false,
     "tableResultSettingsMap": {},
     "title": ""
    }
   },
   "outputs": [],
   "source": [
    "from tqdm import tqdm\n",
    "import datetime\n",
    "output = []\n",
    "\n",
    "\n",
    "for i in tqdm(range(len(gt_label_0_list))):\n",
    "    user_id = gt_label_0_list[i]['key'][0]\n",
    "    emp = gt_label_0_list[i]['key'][1]\n",
    "    partition_id = gt_label_0_list[i]['key'][2]\n",
    "    start_date = gt_label_0_list[i]['traj_dates'][0]\n",
    "    end_date = gt_label_0_list[i]['traj_dates'][-1]\n",
    "    start_date, end_date = get_paydates_range(user_id, emp, partition_id, start_date, end_date)\n",
    "    query = \"\"\"\n",
    "    select * from main_prod.bankfeed.userprovidedbankconnection where userid = \"{}\" and isactive = true and connectionstate = 1000\n",
    "    \"\"\".format(user_id)\n",
    "    df = spark.sql(query)\n",
    "    df_pd = df.toPandas()\n",
    "    connection = \"inactive\"\n",
    "    last_healty_at_list = df_pd['lasthealthyat'].values\n",
    "    created_on_list = df_pd['createdon'].values\n",
    "    \n",
    "    for healthy_date, created_on in zip(last_healty_at_list, created_on_list):\n",
    "        created_on_date = datetime.datetime.strptime(created_on, \"%Y-%m-%d %H:%M:%S\").date()\n",
    "        if created_on_date < start_date:\n",
    "            connection = \"active\"\n",
    "    output.append(connection)"
   ]
  },
  {
   "cell_type": "code",
   "execution_count": 0,
   "metadata": {
    "application/vnd.databricks.v1+cell": {
     "cellMetadata": {
      "byteLimit": 2048000,
      "rowLimit": 10000
     },
     "inputWidgets": {},
     "nuid": "ff3e5a58-bde5-4f49-884d-68611013041d",
     "showTitle": false,
     "tableResultSettingsMap": {},
     "title": ""
    }
   },
   "outputs": [],
   "source": [
    "display(df_pd)"
   ]
  },
  {
   "cell_type": "code",
   "execution_count": 0,
   "metadata": {
    "application/vnd.databricks.v1+cell": {
     "cellMetadata": {
      "byteLimit": 2048000,
      "rowLimit": 10000
     },
     "inputWidgets": {},
     "nuid": "f9e9670b-1e31-4a1d-b9f3-3262be2153d2",
     "showTitle": false,
     "tableResultSettingsMap": {},
     "title": ""
    }
   },
   "outputs": [],
   "source": [
    "count_inactive = 0\n",
    "inactive_dict = {}\n",
    "for i,connection in enumerate(output):\n",
    "    if connection=='inactive':\n",
    "        count_inactive+=1\n",
    "        inactive_dict[gt_label_0_list[i]['key']] = \"inactive\"\n",
    "print(count_inactive), print(len(output))"
   ]
  },
  {
   "cell_type": "code",
   "execution_count": 0,
   "metadata": {
    "application/vnd.databricks.v1+cell": {
     "cellMetadata": {
      "byteLimit": 2048000,
      "rowLimit": 10000
     },
     "inputWidgets": {},
     "nuid": "dd546233-d2d1-4ee8-ad25-6882c7d2f3c6",
     "showTitle": false,
     "tableResultSettingsMap": {},
     "title": ""
    }
   },
   "outputs": [],
   "source": [
    "pickle.dump(inactive_dict, open(\"/Workspace/Users/jatin.agrawal@earnin.com/TrajCL/data/inactive_dict.pkl\", \"wb\"))"
   ]
  },
  {
   "cell_type": "code",
   "execution_count": 0,
   "metadata": {
    "application/vnd.databricks.v1+cell": {
     "cellMetadata": {},
     "inputWidgets": {},
     "nuid": "4385d9f1-55fc-44e3-b258-d327f955623a",
     "showTitle": false,
     "tableResultSettingsMap": {},
     "title": ""
    }
   },
   "outputs": [],
   "source": []
  }
 ],
 "metadata": {
  "application/vnd.databricks.v1+notebook": {
   "computePreferences": {
    "hardware": {
     "accelerator": null,
     "gpuPoolId": null,
     "memory": null
    }
   },
   "dashboards": [],
   "environmentMetadata": {
    "base_environment": "",
    "environment_version": "3"
   },
   "inputWidgetPreferences": null,
   "language": "python",
   "notebookMetadata": {
    "mostRecentlyExecutedCommandWithImplicitDF": {
     "commandId": 7045041269686893,
     "dataframes": [
      "_sqldf"
     ]
    },
    "pythonIndentUnit": 4
   },
   "notebookName": "improve_data_quality",
   "widgets": {}
  },
  "language_info": {
   "name": "python"
  }
 },
 "nbformat": 4,
 "nbformat_minor": 0
}
