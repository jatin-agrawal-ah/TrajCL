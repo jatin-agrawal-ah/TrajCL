{
 "cells": [
  {
   "cell_type": "code",
   "execution_count": 0,
   "metadata": {
    "application/vnd.databricks.v1+cell": {
     "cellMetadata": {
      "byteLimit": 2048000,
      "rowLimit": 10000
     },
     "inputWidgets": {},
     "nuid": "be1f8294-4ca3-485f-a4fc-4376bea714d4",
     "showTitle": false,
     "tableResultSettingsMap": {
      "0": {
       "dataGridStateBlob": "{\"version\":1,\"tableState\":{\"columnPinning\":{\"left\":[\"#row_number#\"],\"right\":[]},\"columnSizing\":{},\"columnVisibility\":{}},\"settings\":{\"columns\":{}},\"syncTimestamp\":1755320419444}",
       "filterBlob": null,
       "queryPlanFiltersBlob": null,
       "tableResultIndex": 0
      }
     },
     "title": ""
    }
   },
   "outputs": [],
   "source": [
    "# df = spark.read.table('main_prod.datascience_scratchpad.traj_data')\n",
    "df = spark.read.parquet(\"/Volumes/main_prod/datascience_scratchpad/jatin/trajcl_exp/usa/last_20_days\")\n",
    "display(df)"
   ]
  },
  {
   "cell_type": "code",
   "execution_count": 0,
   "metadata": {
    "application/vnd.databricks.v1+cell": {
     "cellMetadata": {
      "byteLimit": 2048000,
      "rowLimit": 10000
     },
     "inputWidgets": {},
     "nuid": "bf9eb063-9044-4584-bece-4b10b2840655",
     "showTitle": false,
     "tableResultSettingsMap": {},
     "title": ""
    }
   },
   "outputs": [],
   "source": [
    "# from pyspark.sql.functions import col\n",
    "# userid = \"5499415\"\n",
    "# candidate_df = df.filter(col(\"traj_id\").contains(\"{}_\".format(userid)))\n",
    "# display(candidate_df)"
   ]
  },
  {
   "cell_type": "code",
   "execution_count": 0,
   "metadata": {
    "application/vnd.databricks.v1+cell": {
     "cellMetadata": {
      "byteLimit": 2048000,
      "rowLimit": 10000
     },
     "inputWidgets": {},
     "nuid": "a5abf1d7-68f9-4fd6-8783-96d5ce088304",
     "showTitle": false,
     "tableResultSettingsMap": {},
     "title": ""
    }
   },
   "outputs": [],
   "source": [
    "!pip install folium\n",
    "import folium\n",
    "\n",
    "from folium import plugins\n",
    "\n",
    "def display_traj(lon_lat_list,time_indices=None):\n",
    "    coordinates = [[x[1],x[0]] for x in lon_lat_list]\n",
    "    # Initialize map\n",
    "    m = folium.Map(location=coordinates[0], zoom_start=15)\n",
    "\n",
    "\n",
    "    # for lat,lon in pip_list:\n",
    "    #     folium.Marker(\n",
    "    #         location=[lat, lon],\n",
    "    #         popup=\"Pip Location\",\n",
    "    #         icon=folium.Icon(color='red')  # Color can be 'red', 'blue', 'green', 'purple', etc.\n",
    "    #     ).add_to(m)\n",
    "\n",
    "    folium.Marker(\n",
    "        location=coordinates[0],\n",
    "        popup=time_indices[0],\n",
    "        icon=folium.Icon(color='green')  # Color can be 'red', 'blue', 'green', 'purple', etc.\n",
    "    ).add_to(m)\n",
    "\n",
    "    folium.Marker(\n",
    "        location=coordinates[-1],\n",
    "        popup=time_indices[-1],\n",
    "        icon=folium.Icon(color='red')  # Color can be 'red', 'blue', 'green', 'purple', etc.\n",
    "    ).add_to(m)\n",
    "    # Add markers\n",
    "    for i, (lat, lon) in enumerate(coordinates[1:-1]):\n",
    "        if time_indices is None:\n",
    "            folium.Marker([lat, lon], popup=(lat, lon)).add_to(m)\n",
    "        else:\n",
    "            folium.Marker([lat, lon], popup=(i+1, time_indices[i+1], lat, lon)).add_to(m)\n",
    "        \n",
    "\n",
    "    # Draw arrows between points\n",
    "    for i in range(len(coordinates) - 1):\n",
    "        start = coordinates[i]\n",
    "        end = coordinates[i + 1]\n",
    "\n",
    "        # Draw the line\n",
    "        line = folium.PolyLine([start, end], color=\"blue\", weight=3, opacity=0.7).add_to(m)\n",
    "\n",
    "        # Add directional arrow\n",
    "        plugins.PolyLineTextPath(\n",
    "            line,\n",
    "            '➤',  # arrow symbol\n",
    "            repeat=True,\n",
    "            offset=7,\n",
    "            attributes={'fill': 'blue', 'font-weight': 'bold', 'font-size': '16'}\n",
    "            ).add_to(m)\n",
    "        \n",
    "        \n",
    "\n",
    "    # Save and show the map\n",
    "    m.save(\"map_with_arrows.html\")\n",
    "    return m\n"
   ]
  },
  {
   "cell_type": "code",
   "execution_count": 0,
   "metadata": {
    "application/vnd.databricks.v1+cell": {
     "cellMetadata": {
      "byteLimit": 2048000,
      "rowLimit": 10000
     },
     "inputWidgets": {},
     "nuid": "a49e9cbd-68b6-474c-b081-563ab997579f",
     "showTitle": false,
     "tableResultSettingsMap": {},
     "title": ""
    }
   },
   "outputs": [],
   "source": [
    "from pyspark.sql.functions import col\n",
    "def get_candidate_df(userid):\n",
    "    candidate_df = df.filter(col(\"userid\") == userid)\n",
    "    return candidate_df"
   ]
  },
  {
   "cell_type": "code",
   "execution_count": 0,
   "metadata": {
    "application/vnd.databricks.v1+cell": {
     "cellMetadata": {
      "byteLimit": 2048000,
      "rowLimit": 10000
     },
     "inputWidgets": {},
     "nuid": "4f0bf5e1-74ed-4d17-b6a4-2f1a78e9f43d",
     "showTitle": false,
     "tableResultSettingsMap": {
      "0": {
       "dataGridStateBlob": "{\"version\":1,\"tableState\":{\"columnPinning\":{\"left\":[\"#row_number#\"],\"right\":[]},\"columnSizing\":{},\"columnVisibility\":{}},\"settings\":{\"columns\":{}},\"syncTimestamp\":1759318182673}",
       "filterBlob": null,
       "queryPlanFiltersBlob": null,
       "tableResultIndex": 0
      }
     },
     "title": ""
    }
   },
   "outputs": [],
   "source": [
    "display(df.where('userid=14855786'))"
   ]
  },
  {
   "cell_type": "code",
   "execution_count": 0,
   "metadata": {
    "application/vnd.databricks.v1+cell": {
     "cellMetadata": {
      "byteLimit": 2048000,
      "rowLimit": 10000
     },
     "inputWidgets": {},
     "nuid": "01378e62-5df0-4e4e-90a4-d4c8b405c85f",
     "showTitle": false,
     "tableResultSettingsMap": {},
     "title": ""
    }
   },
   "outputs": [],
   "source": [
    "userid = 23122754\n",
    "traj_dates = [\"2025-09-25\",\"2025-09-26\",\"2025-09-23\",\"2025-09-22\"]\n",
    "list_lng_lat_list = []\n",
    "time_indices_list = []\n",
    "candidate_df = get_candidate_df(userid)\n",
    "for traj_date in traj_dates:\n",
    "    lng_lat_list = candidate_df.where(\"traj_date = '{}'\".format(traj_date)).select(\"wgs_seq\").collect()[0][0]\n",
    "    time_indices = candidate_df.where(\"traj_date = '{}'\".format(traj_date)).select(\"sorted_ts\").collect()[0][0]\n",
    "    list_lng_lat_list.append(lng_lat_list)\n",
    "    time_indices_list.append(time_indices)\n"
   ]
  },
  {
   "cell_type": "code",
   "execution_count": 0,
   "metadata": {
    "application/vnd.databricks.v1+cell": {
     "cellMetadata": {
      "byteLimit": 2048000,
      "rowLimit": 10000
     },
     "inputWidgets": {},
     "nuid": "e4104016-e356-4f09-8674-3fd0dc608edc",
     "showTitle": false,
     "tableResultSettingsMap": {
      "0": {
       "dataGridStateBlob": "{\"version\":1,\"tableState\":{\"columnPinning\":{\"left\":[\"#row_number#\"],\"right\":[]},\"columnSizing\":{},\"columnVisibility\":{}},\"settings\":{\"columns\":{}},\"syncTimestamp\":1757927761690}",
       "filterBlob": null,
       "queryPlanFiltersBlob": null,
       "tableResultIndex": 0
      }
     },
     "title": ""
    }
   },
   "outputs": [],
   "source": [
    "# display(candidate_df)"
   ]
  },
  {
   "cell_type": "code",
   "execution_count": 0,
   "metadata": {
    "application/vnd.databricks.v1+cell": {
     "cellMetadata": {
      "byteLimit": 2048000,
      "rowLimit": 10000
     },
     "inputWidgets": {},
     "nuid": "6d9126bd-ce5d-458a-9b1e-0e3ed69ca40b",
     "showTitle": false,
     "tableResultSettingsMap": {},
     "title": ""
    }
   },
   "outputs": [],
   "source": [
    "display_traj(list_lng_lat_list[0], time_indices_list[0])"
   ]
  },
  {
   "cell_type": "code",
   "execution_count": 0,
   "metadata": {
    "application/vnd.databricks.v1+cell": {
     "cellMetadata": {
      "byteLimit": 2048000,
      "rowLimit": 10000
     },
     "inputWidgets": {},
     "nuid": "21d387b1-37cd-45c4-b503-e4e8daad80bd",
     "showTitle": false,
     "tableResultSettingsMap": {},
     "title": ""
    }
   },
   "outputs": [],
   "source": [
    "display_traj(list_lng_lat_list[1], time_indices_list[1])\n"
   ]
  },
  {
   "cell_type": "code",
   "execution_count": 0,
   "metadata": {
    "application/vnd.databricks.v1+cell": {
     "cellMetadata": {
      "byteLimit": 2048000,
      "rowLimit": 10000
     },
     "inputWidgets": {},
     "nuid": "62ca5e4f-a264-499f-9f64-8acc719e0070",
     "showTitle": false,
     "tableResultSettingsMap": {},
     "title": ""
    }
   },
   "outputs": [],
   "source": [
    "display_traj(list_lng_lat_list[2], time_indices_list[2])"
   ]
  },
  {
   "cell_type": "code",
   "execution_count": 0,
   "metadata": {
    "application/vnd.databricks.v1+cell": {
     "cellMetadata": {
      "byteLimit": 2048000,
      "rowLimit": 10000
     },
     "inputWidgets": {},
     "nuid": "47c7b117-3fb9-403a-9988-7bf28ecac9cc",
     "showTitle": false,
     "tableResultSettingsMap": {},
     "title": ""
    }
   },
   "outputs": [],
   "source": [
    "display_traj(list_lng_lat_list[3], time_indices_list[3])"
   ]
  },
  {
   "cell_type": "code",
   "execution_count": 0,
   "metadata": {
    "application/vnd.databricks.v1+cell": {
     "cellMetadata": {
      "byteLimit": 2048000,
      "rowLimit": 10000
     },
     "inputWidgets": {},
     "nuid": "1691b3cb-505a-44f4-a1a0-73305c546697",
     "showTitle": false,
     "tableResultSettingsMap": {},
     "title": ""
    }
   },
   "outputs": [],
   "source": [
    "ids_to_show = [\"4474029_2020-01-20\", \"4474029_2023-08-27\"]\n",
    "list_lng_lat_list = []\n",
    "for id in ids_to_show:\n",
    "    lng_lat_list = candidate_df.filter(col(\"traj_id\") == id).select(\"wgs_seq_filtered\").collect()[0][0]\n",
    "    list_lng_lat_list.append(lng_lat_list)   "
   ]
  },
  {
   "cell_type": "code",
   "execution_count": 0,
   "metadata": {
    "application/vnd.databricks.v1+cell": {
     "cellMetadata": {
      "byteLimit": 2048000,
      "rowLimit": 10000
     },
     "inputWidgets": {},
     "nuid": "70d6ce31-75af-4156-85b6-f752ac40c3f9",
     "showTitle": false,
     "tableResultSettingsMap": {},
     "title": ""
    }
   },
   "outputs": [],
   "source": [
    "display_traj(list_lng_lat_list[0])"
   ]
  },
  {
   "cell_type": "code",
   "execution_count": 0,
   "metadata": {
    "application/vnd.databricks.v1+cell": {
     "cellMetadata": {
      "byteLimit": 2048000,
      "rowLimit": 10000
     },
     "inputWidgets": {},
     "nuid": "927d340a-59c9-414d-8f51-ffe6b7dfad29",
     "showTitle": false,
     "tableResultSettingsMap": {},
     "title": ""
    }
   },
   "outputs": [],
   "source": [
    "display_traj(list_lng_lat_list[1])"
   ]
  },
  {
   "cell_type": "code",
   "execution_count": 0,
   "metadata": {
    "application/vnd.databricks.v1+cell": {
     "cellMetadata": {
      "byteLimit": 2048000,
      "rowLimit": 10000
     },
     "inputWidgets": {},
     "nuid": "cb749858-e8df-4baf-a191-dc0351e3f021",
     "showTitle": false,
     "tableResultSettingsMap": {},
     "title": ""
    }
   },
   "outputs": [],
   "source": [
    "df = spark.read.table(\"main_prod.datascience_scratchpad.all_traj_data\")\n",
    "display(df)"
   ]
  },
  {
   "cell_type": "code",
   "execution_count": 0,
   "metadata": {
    "application/vnd.databricks.v1+cell": {
     "cellMetadata": {
      "byteLimit": 2048000,
      "rowLimit": 10000
     },
     "inputWidgets": {},
     "nuid": "ee60848e-333f-4d92-a640-8d14b6f63ef4",
     "showTitle": false,
     "tableResultSettingsMap": {},
     "title": ""
    }
   },
   "outputs": [],
   "source": [
    "query = \"\"\"\n",
    "select * from main_prod.datascience_scratchpad.all_traj_data where userid = 17622592\n",
    "\"\"\"\n",
    "df = spark.sql(query)\n",
    "display(df)"
   ]
  },
  {
   "cell_type": "code",
   "execution_count": 0,
   "metadata": {
    "application/vnd.databricks.v1+cell": {
     "cellMetadata": {},
     "inputWidgets": {},
     "nuid": "769e5af1-54b3-4b21-a75e-60666de855f0",
     "showTitle": false,
     "tableResultSettingsMap": {},
     "title": ""
    }
   },
   "outputs": [],
   "source": []
  }
 ],
 "metadata": {
  "application/vnd.databricks.v1+notebook": {
   "computePreferences": {
    "hardware": {
     "accelerator": null,
     "gpuPoolId": null,
     "memory": null
    }
   },
   "dashboards": [
    {
     "elements": [
      {
       "dashboardResultIndex": null,
       "elementNUID": "62ca5e4f-a264-499f-9f64-8acc719e0070",
       "elementType": "command",
       "guid": "5dea1ec5-572a-49b9-9dc7-e7cb2afc24fe",
       "options": null,
       "position": {
        "height": 6,
        "width": 12,
        "x": 0,
        "y": 0,
        "z": null
       },
       "resultIndex": null
      },
      {
       "dashboardResultIndex": 0,
       "elementNUID": "bf9eb063-9044-4584-bece-4b10b2840655",
       "elementType": "command",
       "guid": "8012cd30-7eb2-45d4-a8a8-ea963772ceb9",
       "options": null,
       "position": {
        "height": 6,
        "width": 12,
        "x": 0,
        "y": 6,
        "z": null
       },
       "resultIndex": null
      },
      {
       "dashboardResultIndex": 0,
       "elementNUID": "be1f8294-4ca3-485f-a4fc-4376bea714d4",
       "elementType": "command",
       "guid": "968b3db2-1b64-4529-b498-a48763d6bb8b",
       "options": null,
       "position": {
        "height": 6,
        "width": 12,
        "x": 0,
        "y": 12,
        "z": null
       },
       "resultIndex": null
      },
      {
       "dashboardResultIndex": null,
       "elementNUID": "70d6ce31-75af-4156-85b6-f752ac40c3f9",
       "elementType": "command",
       "guid": "aeabc2e9-4bef-4481-80ef-1f3310905b42",
       "options": null,
       "position": {
        "height": 6,
        "width": 12,
        "x": 0,
        "y": 18,
        "z": null
       },
       "resultIndex": null
      },
      {
       "dashboardResultIndex": null,
       "elementNUID": "6d9126bd-ce5d-458a-9b1e-0e3ed69ca40b",
       "elementType": "command",
       "guid": "c0e1782c-3dab-42e5-b447-c8ce109d3880",
       "options": null,
       "position": {
        "height": 6,
        "width": 12,
        "x": 0,
        "y": 24,
        "z": null
       },
       "resultIndex": null
      },
      {
       "dashboardResultIndex": null,
       "elementNUID": "927d340a-59c9-414d-8f51-ffe6b7dfad29",
       "elementType": "command",
       "guid": "c2ba88fa-8fb2-420b-9c02-03eabe89370a",
       "options": null,
       "position": {
        "height": 6,
        "width": 12,
        "x": 0,
        "y": 30,
        "z": null
       },
       "resultIndex": null
      },
      {
       "dashboardResultIndex": null,
       "elementNUID": "21d387b1-37cd-45c4-b503-e4e8daad80bd",
       "elementType": "command",
       "guid": "f38bec40-df7f-4d12-b0e0-3060f0960a8a",
       "options": null,
       "position": {
        "height": 6,
        "width": 12,
        "x": 0,
        "y": 36,
        "z": null
       },
       "resultIndex": null
      }
     ],
     "globalVars": {},
     "guid": "",
     "layoutOption": {
      "grid": true,
      "stack": true
     },
     "nuid": "f75b8fc6-6052-40ec-831b-197c3969167d",
     "origId": 5647714917796630,
     "title": "Untitled",
     "version": "DashboardViewV1",
     "width": 1024
    }
   ],
   "environmentMetadata": {
    "base_environment": "",
    "environment_version": "2"
   },
   "inputWidgetPreferences": null,
   "language": "python",
   "notebookMetadata": {
    "pythonIndentUnit": 4
   },
   "notebookName": "vis_traj_similarity",
   "widgets": {}
  },
  "language_info": {
   "name": "python"
  }
 },
 "nbformat": 4,
 "nbformat_minor": 0
}
